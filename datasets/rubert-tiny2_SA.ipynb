{
 "cells": [
  {
   "cell_type": "markdown",
   "id": "aa2a3ecf-bfd3-45c5-9a3e-cb959f165dbe",
   "metadata": {},
   "source": [
    "## SA - Lenta"
   ]
  },
  {
   "cell_type": "code",
   "execution_count": 3,
   "id": "167a2428-180f-4c6f-a8fb-d952779d1108",
   "metadata": {},
   "outputs": [],
   "source": [
    "import pandas as pd\n",
    "from tqdm import tqdm\n",
    "from transformers import pipeline\n",
    "import torch\n",
    "from torch import cuda"
   ]
  },
  {
   "cell_type": "code",
   "execution_count": 19,
   "id": "01fd7cd9-ea3a-4807-9497-28acc3f135cb",
   "metadata": {},
   "outputs": [
    {
     "name": "stdout",
     "output_type": "stream",
     "text": [
      "cuda\n"
     ]
    }
   ],
   "source": [
    "# Определение устройства для работы с CUDA, если доступно\n",
    "device = 'cuda' if cuda.is_available() else 'cpu'\n",
    "print(device)"
   ]
  },
  {
   "cell_type": "code",
   "execution_count": 20,
   "id": "d22e9c20-fda2-43f9-a800-3b4bdbf72912",
   "metadata": {
    "scrolled": true
   },
   "outputs": [
    {
     "data": {
      "text/html": [
       "<div>\n",
       "<style scoped>\n",
       "    .dataframe tbody tr th:only-of-type {\n",
       "        vertical-align: middle;\n",
       "    }\n",
       "\n",
       "    .dataframe tbody tr th {\n",
       "        vertical-align: top;\n",
       "    }\n",
       "\n",
       "    .dataframe thead th {\n",
       "        text-align: right;\n",
       "    }\n",
       "</style>\n",
       "<table border=\"1\" class=\"dataframe\">\n",
       "  <thead>\n",
       "    <tr style=\"text-align: right;\">\n",
       "      <th></th>\n",
       "      <th>id</th>\n",
       "      <th>text</th>\n",
       "    </tr>\n",
       "  </thead>\n",
       "  <tbody>\n",
       "    <tr>\n",
       "      <th>0</th>\n",
       "      <td>800000</td>\n",
       "      <td>Самый низкий показатель - среди жителей Японии...</td>\n",
       "    </tr>\n",
       "    <tr>\n",
       "      <th>1</th>\n",
       "      <td>800001</td>\n",
       "      <td>В самих США положительно ответили более 20 про...</td>\n",
       "    </tr>\n",
       "    <tr>\n",
       "      <th>2</th>\n",
       "      <td>800002</td>\n",
       "      <td>Аналитики MPAA считают, что распространение пи...</td>\n",
       "    </tr>\n",
       "    <tr>\n",
       "      <th>3</th>\n",
       "      <td>800003</td>\n",
       "      <td>При недостаточно высокой скорости соединения с...</td>\n",
       "    </tr>\n",
       "    <tr>\n",
       "      <th>4</th>\n",
       "      <td>800004</td>\n",
       "      <td>Лидерство Южной Кореи в опросе обусловлено име...</td>\n",
       "    </tr>\n",
       "  </tbody>\n",
       "</table>\n",
       "</div>"
      ],
      "text/plain": [
       "       id                                               text\n",
       "0  800000  Самый низкий показатель - среди жителей Японии...\n",
       "1  800001  В самих США положительно ответили более 20 про...\n",
       "2  800002  Аналитики MPAA считают, что распространение пи...\n",
       "3  800003  При недостаточно высокой скорости соединения с...\n",
       "4  800004  Лидерство Южной Кореи в опросе обусловлено име..."
      ]
     },
     "execution_count": 20,
     "metadata": {},
     "output_type": "execute_result"
    }
   ],
   "source": [
    "# Загрузка данных из CSV-файла\n",
    "data = pd.read_csv('Train_Lenta.csv', encoding='utf-8-sig', sep=';')\n",
    "data.head()"
   ]
  },
  {
   "cell_type": "code",
   "execution_count": 21,
   "id": "0ae68207-fc94-40ce-9ba9-0e88dbdafb63",
   "metadata": {},
   "outputs": [],
   "source": [
    "# Замена пропущенных значений или значений других типов на пустые строки\n",
    "data['text'] = data['text'].fillna('').astype(str)"
   ]
  },
  {
   "cell_type": "code",
   "execution_count": 22,
   "id": "6e187344-6e26-4e90-9d0b-d3f98632f6c5",
   "metadata": {},
   "outputs": [
    {
     "name": "stderr",
     "output_type": "stream",
     "text": [
      "Analyzing sentiment: 100%|██████████| 1009468/1009468 [39:52<00:00, 421.93it/s]\n"
     ]
    }
   ],
   "source": [
    "# Загрузка модели для sentiment analysis\n",
    "classifier = pipeline(\"sentiment-analysis\", model='seara/rubert-tiny2-russian-sentiment')\n",
    "\n",
    "# Создание списка текстов для анализа\n",
    "texts = data['text'].tolist()\n",
    "\n",
    "# Применение модели к данным с отслеживанием прогресса\n",
    "sentiments = []\n",
    "for text in tqdm(texts, desc=\"Analyzing sentiment\"):\n",
    "    sentiment = classifier(text)\n",
    "    sentiments.append(sentiment)\n",
    "\n",
    "# Добавление результатов анализа в новую колонку 'sentiment'\n",
    "data['sentiment'] = [sent[0]['label'] for sent in sentiments]"
   ]
  },
  {
   "cell_type": "code",
   "execution_count": 23,
   "id": "451ab97e-7cc9-4ad9-9833-a1d7740fd1f3",
   "metadata": {},
   "outputs": [],
   "source": [
    "# Сохранение обновленных данных в новый CSV-файл\n",
    "data.to_csv('Train_Lenta_SA.csv', encoding='utf-8-sig', sep=';', index=False)"
   ]
  },
  {
   "cell_type": "code",
   "execution_count": 24,
   "id": "681f9d04-584c-4521-9d9d-61cda03c2f16",
   "metadata": {},
   "outputs": [
    {
     "data": {
      "text/html": [
       "<div>\n",
       "<style scoped>\n",
       "    .dataframe tbody tr th:only-of-type {\n",
       "        vertical-align: middle;\n",
       "    }\n",
       "\n",
       "    .dataframe tbody tr th {\n",
       "        vertical-align: top;\n",
       "    }\n",
       "\n",
       "    .dataframe thead th {\n",
       "        text-align: right;\n",
       "    }\n",
       "</style>\n",
       "<table border=\"1\" class=\"dataframe\">\n",
       "  <thead>\n",
       "    <tr style=\"text-align: right;\">\n",
       "      <th></th>\n",
       "      <th>id</th>\n",
       "      <th>text</th>\n",
       "      <th>sentiment</th>\n",
       "    </tr>\n",
       "  </thead>\n",
       "  <tbody>\n",
       "    <tr>\n",
       "      <th>0</th>\n",
       "      <td>800000</td>\n",
       "      <td>Самый низкий показатель - среди жителей Японии...</td>\n",
       "      <td>neutral</td>\n",
       "    </tr>\n",
       "    <tr>\n",
       "      <th>1</th>\n",
       "      <td>800001</td>\n",
       "      <td>В самих США положительно ответили более 20 про...</td>\n",
       "      <td>neutral</td>\n",
       "    </tr>\n",
       "    <tr>\n",
       "      <th>2</th>\n",
       "      <td>800002</td>\n",
       "      <td>Аналитики MPAA считают, что распространение пи...</td>\n",
       "      <td>neutral</td>\n",
       "    </tr>\n",
       "    <tr>\n",
       "      <th>3</th>\n",
       "      <td>800003</td>\n",
       "      <td>При недостаточно высокой скорости соединения с...</td>\n",
       "      <td>neutral</td>\n",
       "    </tr>\n",
       "    <tr>\n",
       "      <th>4</th>\n",
       "      <td>800004</td>\n",
       "      <td>Лидерство Южной Кореи в опросе обусловлено име...</td>\n",
       "      <td>neutral</td>\n",
       "    </tr>\n",
       "  </tbody>\n",
       "</table>\n",
       "</div>"
      ],
      "text/plain": [
       "       id                                               text sentiment\n",
       "0  800000  Самый низкий показатель - среди жителей Японии...   neutral\n",
       "1  800001  В самих США положительно ответили более 20 про...   neutral\n",
       "2  800002  Аналитики MPAA считают, что распространение пи...   neutral\n",
       "3  800003  При недостаточно высокой скорости соединения с...   neutral\n",
       "4  800004  Лидерство Южной Кореи в опросе обусловлено име...   neutral"
      ]
     },
     "execution_count": 24,
     "metadata": {},
     "output_type": "execute_result"
    }
   ],
   "source": [
    "data = pd.read_csv('Train_Lenta_SA.csv', encoding='utf-8-sig', sep=';')\n",
    "data.head()"
   ]
  },
  {
   "cell_type": "code",
   "execution_count": 25,
   "id": "d9d74361-0097-4798-ace9-260237c1e995",
   "metadata": {},
   "outputs": [
    {
     "name": "stdout",
     "output_type": "stream",
     "text": [
      "neutral     880165\n",
      "negative    100393\n",
      "positive     28910\n",
      "Name: sentiment, dtype: int64\n"
     ]
    }
   ],
   "source": [
    "# Подсчет количества уникальных значений в колонке 'label'\n",
    "label_counts = data['sentiment'].value_counts()\n",
    "\n",
    "# Вывод результата\n",
    "print(label_counts)"
   ]
  },
  {
   "cell_type": "markdown",
   "id": "19b42c7f-0174-4a2f-8707-e8aa393b0183",
   "metadata": {},
   "source": [
    "## SA - Reviews"
   ]
  },
  {
   "cell_type": "code",
   "execution_count": 26,
   "id": "5ae9795c-c052-4540-91ec-f691d59d9102",
   "metadata": {},
   "outputs": [
    {
     "data": {
      "text/html": [
       "<div>\n",
       "<style scoped>\n",
       "    .dataframe tbody tr th:only-of-type {\n",
       "        vertical-align: middle;\n",
       "    }\n",
       "\n",
       "    .dataframe tbody tr th {\n",
       "        vertical-align: top;\n",
       "    }\n",
       "\n",
       "    .dataframe thead th {\n",
       "        text-align: right;\n",
       "    }\n",
       "</style>\n",
       "<table border=\"1\" class=\"dataframe\">\n",
       "  <thead>\n",
       "    <tr style=\"text-align: right;\">\n",
       "      <th></th>\n",
       "      <th>id</th>\n",
       "      <th>text</th>\n",
       "    </tr>\n",
       "  </thead>\n",
       "  <tbody>\n",
       "    <tr>\n",
       "      <th>0</th>\n",
       "      <td>1</td>\n",
       "      <td>Не дорого!</td>\n",
       "    </tr>\n",
       "    <tr>\n",
       "      <th>1</th>\n",
       "      <td>2</td>\n",
       "      <td>Не дорого.</td>\n",
       "    </tr>\n",
       "    <tr>\n",
       "      <th>2</th>\n",
       "      <td>3</td>\n",
       "      <td>Не жалеем!</td>\n",
       "    </tr>\n",
       "    <tr>\n",
       "      <th>3</th>\n",
       "      <td>4</td>\n",
       "      <td>Не жалеем.</td>\n",
       "    </tr>\n",
       "    <tr>\n",
       "      <th>4</th>\n",
       "      <td>5</td>\n",
       "      <td>Не за что!</td>\n",
       "    </tr>\n",
       "  </tbody>\n",
       "</table>\n",
       "</div>"
      ],
      "text/plain": [
       "   id        text\n",
       "0   1  Не дорого!\n",
       "1   2  Не дорого.\n",
       "2   3  Не жалеем!\n",
       "3   4  Не жалеем.\n",
       "4   5  Не за что!"
      ]
     },
     "execution_count": 26,
     "metadata": {},
     "output_type": "execute_result"
    }
   ],
   "source": [
    "# Загрузка данных из CSV-файла\n",
    "data = pd.read_csv('Reviews_Train.csv', encoding='utf-8-sig', sep=';')\n",
    "data.head()"
   ]
  },
  {
   "cell_type": "code",
   "execution_count": 27,
   "id": "ba9549ef-b967-40cd-9223-72fd39b19704",
   "metadata": {},
   "outputs": [],
   "source": [
    "# Замена пропущенных значений или значений других типов на пустые строки\n",
    "data['text'] = data['text'].fillna('').astype(str)"
   ]
  },
  {
   "cell_type": "code",
   "execution_count": 28,
   "id": "ece30fce-e9e5-45ae-96d6-e8c914653cef",
   "metadata": {},
   "outputs": [
    {
     "name": "stderr",
     "output_type": "stream",
     "text": [
      "Analyzing sentiment: 100%|██████████| 457575/457575 [16:15<00:00, 469.25it/s]\n"
     ]
    }
   ],
   "source": [
    "# Создание списка текстов для анализа\n",
    "texts = data['text'].tolist()\n",
    "\n",
    "# Применение модели к данным с отслеживанием прогресса\n",
    "sentiments = []\n",
    "for text in tqdm(texts, desc=\"Analyzing sentiment\"):\n",
    "    sentiment = classifier(text)\n",
    "    sentiments.append(sentiment)\n",
    "\n",
    "# Добавление результатов анализа в новую колонку 'sentiment'\n",
    "data['sentiment'] = [sent[0]['label'] for sent in sentiments]"
   ]
  },
  {
   "cell_type": "code",
   "execution_count": 29,
   "id": "b7a84a53-4458-4474-8406-006abda8b1a2",
   "metadata": {},
   "outputs": [],
   "source": [
    "# Сохранение обновленных данных в новый CSV-файл\n",
    "data.to_csv('Reviews_Train_SA.csv', encoding='utf-8-sig', sep=';', index=False)"
   ]
  },
  {
   "cell_type": "code",
   "execution_count": 30,
   "id": "37131584-f7d6-4f81-8a42-919c1c920b11",
   "metadata": {},
   "outputs": [
    {
     "data": {
      "text/html": [
       "<div>\n",
       "<style scoped>\n",
       "    .dataframe tbody tr th:only-of-type {\n",
       "        vertical-align: middle;\n",
       "    }\n",
       "\n",
       "    .dataframe tbody tr th {\n",
       "        vertical-align: top;\n",
       "    }\n",
       "\n",
       "    .dataframe thead th {\n",
       "        text-align: right;\n",
       "    }\n",
       "</style>\n",
       "<table border=\"1\" class=\"dataframe\">\n",
       "  <thead>\n",
       "    <tr style=\"text-align: right;\">\n",
       "      <th></th>\n",
       "      <th>id</th>\n",
       "      <th>text</th>\n",
       "      <th>sentiment</th>\n",
       "    </tr>\n",
       "  </thead>\n",
       "  <tbody>\n",
       "    <tr>\n",
       "      <th>0</th>\n",
       "      <td>1</td>\n",
       "      <td>Не дорого!</td>\n",
       "      <td>neutral</td>\n",
       "    </tr>\n",
       "    <tr>\n",
       "      <th>1</th>\n",
       "      <td>2</td>\n",
       "      <td>Не дорого.</td>\n",
       "      <td>neutral</td>\n",
       "    </tr>\n",
       "    <tr>\n",
       "      <th>2</th>\n",
       "      <td>3</td>\n",
       "      <td>Не жалеем!</td>\n",
       "      <td>neutral</td>\n",
       "    </tr>\n",
       "    <tr>\n",
       "      <th>3</th>\n",
       "      <td>4</td>\n",
       "      <td>Не жалеем.</td>\n",
       "      <td>neutral</td>\n",
       "    </tr>\n",
       "    <tr>\n",
       "      <th>4</th>\n",
       "      <td>5</td>\n",
       "      <td>Не за что!</td>\n",
       "      <td>neutral</td>\n",
       "    </tr>\n",
       "  </tbody>\n",
       "</table>\n",
       "</div>"
      ],
      "text/plain": [
       "   id        text sentiment\n",
       "0   1  Не дорого!   neutral\n",
       "1   2  Не дорого.   neutral\n",
       "2   3  Не жалеем!   neutral\n",
       "3   4  Не жалеем.   neutral\n",
       "4   5  Не за что!   neutral"
      ]
     },
     "execution_count": 30,
     "metadata": {},
     "output_type": "execute_result"
    }
   ],
   "source": [
    "data = pd.read_csv('Reviews_Train_SA.csv', encoding='utf-8-sig', sep=';')\n",
    "data.head()"
   ]
  },
  {
   "cell_type": "code",
   "execution_count": 31,
   "id": "9b8230fe-e2ea-4ce2-a464-62b21c93843f",
   "metadata": {},
   "outputs": [
    {
     "name": "stdout",
     "output_type": "stream",
     "text": [
      "neutral     273279\n",
      "positive    167813\n",
      "negative     16483\n",
      "Name: sentiment, dtype: int64\n"
     ]
    }
   ],
   "source": [
    "# Подсчет количества уникальных значений в колонке 'label'\n",
    "label_counts = data['sentiment'].value_counts()\n",
    "\n",
    "# Вывод результата\n",
    "print(label_counts)"
   ]
  },
  {
   "cell_type": "markdown",
   "id": "ea746bac-d55e-4940-bf2c-6f439b1d9028",
   "metadata": {},
   "source": [
    "## NER - Reviews"
   ]
  },
  {
   "cell_type": "code",
   "execution_count": 35,
   "id": "a6544764-7eec-4652-be9e-00a43ea5f645",
   "metadata": {},
   "outputs": [
    {
     "name": "stderr",
     "output_type": "stream",
     "text": [
      "2024-04-09 02:27:56.618 INFO in 'deeppavlov.download'['download'] at line 138: Skipped http://files.deeppavlov.ai/v1/ner/ner_rus_bert_torch_new.tar.gz download because of matching hashes\n",
      "Some weights of the model checkpoint at DeepPavlov/rubert-base-cased were not used when initializing BertForTokenClassification: ['cls.predictions.transform.LayerNorm.bias', 'cls.seq_relationship.weight', 'cls.predictions.decoder.bias', 'cls.predictions.transform.dense.weight', 'cls.predictions.decoder.weight', 'cls.predictions.transform.LayerNorm.weight', 'cls.seq_relationship.bias', 'cls.predictions.transform.dense.bias', 'cls.predictions.bias']\n",
      "- This IS expected if you are initializing BertForTokenClassification from the checkpoint of a model trained on another task or with another architecture (e.g. initializing a BertForSequenceClassification model from a BertForPreTraining model).\n",
      "- This IS NOT expected if you are initializing BertForTokenClassification from the checkpoint of a model that you expect to be exactly identical (initializing a BertForSequenceClassification model from a BertForSequenceClassification model).\n",
      "Some weights of BertForTokenClassification were not initialized from the model checkpoint at DeepPavlov/rubert-base-cased and are newly initialized: ['classifier.bias', 'classifier.weight']\n",
      "You should probably TRAIN this model on a down-stream task to be able to use it for predictions and inference.\n"
     ]
    }
   ],
   "source": [
    "from deeppavlov import configs, build_model\n",
    "\n",
    "config_path = configs.ner.ner_rus_bert\n",
    "\n",
    "ner = build_model(config_path, download=True)"
   ]
  },
  {
   "cell_type": "code",
   "execution_count": 36,
   "id": "e46fe780-e655-4469-a1ba-71678beadc68",
   "metadata": {},
   "outputs": [
    {
     "data": {
      "text/html": [
       "<div>\n",
       "<style scoped>\n",
       "    .dataframe tbody tr th:only-of-type {\n",
       "        vertical-align: middle;\n",
       "    }\n",
       "\n",
       "    .dataframe tbody tr th {\n",
       "        vertical-align: top;\n",
       "    }\n",
       "\n",
       "    .dataframe thead th {\n",
       "        text-align: right;\n",
       "    }\n",
       "</style>\n",
       "<table border=\"1\" class=\"dataframe\">\n",
       "  <thead>\n",
       "    <tr style=\"text-align: right;\">\n",
       "      <th></th>\n",
       "      <th>id</th>\n",
       "      <th>text</th>\n",
       "    </tr>\n",
       "  </thead>\n",
       "  <tbody>\n",
       "    <tr>\n",
       "      <th>0</th>\n",
       "      <td>1</td>\n",
       "      <td>Не дорого!</td>\n",
       "    </tr>\n",
       "    <tr>\n",
       "      <th>1</th>\n",
       "      <td>2</td>\n",
       "      <td>Не дорого.</td>\n",
       "    </tr>\n",
       "    <tr>\n",
       "      <th>2</th>\n",
       "      <td>3</td>\n",
       "      <td>Не жалеем!</td>\n",
       "    </tr>\n",
       "    <tr>\n",
       "      <th>3</th>\n",
       "      <td>4</td>\n",
       "      <td>Не жалеем.</td>\n",
       "    </tr>\n",
       "    <tr>\n",
       "      <th>4</th>\n",
       "      <td>5</td>\n",
       "      <td>Не за что!</td>\n",
       "    </tr>\n",
       "  </tbody>\n",
       "</table>\n",
       "</div>"
      ],
      "text/plain": [
       "   id        text\n",
       "0   1  Не дорого!\n",
       "1   2  Не дорого.\n",
       "2   3  Не жалеем!\n",
       "3   4  Не жалеем.\n",
       "4   5  Не за что!"
      ]
     },
     "execution_count": 36,
     "metadata": {},
     "output_type": "execute_result"
    }
   ],
   "source": [
    "data = pd.read_csv('Reviews_Train.csv', encoding='utf-8-sig', sep=';')\n",
    "data.head()"
   ]
  },
  {
   "cell_type": "code",
   "execution_count": 37,
   "id": "75656187-ca31-4bb6-a436-51e3ca95553d",
   "metadata": {},
   "outputs": [],
   "source": [
    "# Замена пропущенных значений или значений других типов на пустые строки\n",
    "data['text'] = data['text'].fillna('').astype(str)"
   ]
  },
  {
   "cell_type": "code",
   "execution_count": 38,
   "id": "e99644ce-cc1b-41ad-9721-35d90bd273d2",
   "metadata": {},
   "outputs": [
    {
     "name": "stderr",
     "output_type": "stream",
     "text": [
      "Processing sentences: 100%|██████████| 457575/457575 [1:09:00<00:00, 110.52it/s]\n"
     ]
    }
   ],
   "source": [
    "# Очистка текста от лишних символов\n",
    "data['text'] = data['text'].str.strip()\n",
    "\n",
    "# Применение модели NER к текстам из колонки 'text' и сохранение результатов в новую колонку 'tag'\n",
    "tags_list = []\n",
    "for sentence in tqdm(data['text'], desc=\"Processing sentences\"):\n",
    "    if isinstance(sentence, str) and sentence.strip():  # Проверяем, является ли значение текстом и не пустым\n",
    "        tokens, tags = ner([sentence])\n",
    "        tags_list.append(tags[0])\n",
    "    else:\n",
    "        tags_list.append([])  # Добавляем пустой список тегов\n",
    "\n",
    "data['tag'] = tags_list"
   ]
  },
  {
   "cell_type": "code",
   "execution_count": 39,
   "id": "398eb31c-9e19-4cf4-8535-2bbdeb4c0d2b",
   "metadata": {},
   "outputs": [],
   "source": [
    "# Сохранение обновленных данных в новый CSV-файл\n",
    "data.to_csv('Reviews_Train_NER.csv', encoding='utf-8-sig', sep=';', index=False)"
   ]
  },
  {
   "cell_type": "code",
   "execution_count": 40,
   "id": "7294bf8d-96f2-44d4-a62f-f73d242b8180",
   "metadata": {},
   "outputs": [
    {
     "data": {
      "text/html": [
       "<div>\n",
       "<style scoped>\n",
       "    .dataframe tbody tr th:only-of-type {\n",
       "        vertical-align: middle;\n",
       "    }\n",
       "\n",
       "    .dataframe tbody tr th {\n",
       "        vertical-align: top;\n",
       "    }\n",
       "\n",
       "    .dataframe thead th {\n",
       "        text-align: right;\n",
       "    }\n",
       "</style>\n",
       "<table border=\"1\" class=\"dataframe\">\n",
       "  <thead>\n",
       "    <tr style=\"text-align: right;\">\n",
       "      <th></th>\n",
       "      <th>id</th>\n",
       "      <th>text</th>\n",
       "      <th>tag</th>\n",
       "    </tr>\n",
       "  </thead>\n",
       "  <tbody>\n",
       "    <tr>\n",
       "      <th>0</th>\n",
       "      <td>1</td>\n",
       "      <td>Не дорого!</td>\n",
       "      <td>['O', 'O', 'O']</td>\n",
       "    </tr>\n",
       "    <tr>\n",
       "      <th>1</th>\n",
       "      <td>2</td>\n",
       "      <td>Не дорого.</td>\n",
       "      <td>['O', 'O', 'O']</td>\n",
       "    </tr>\n",
       "    <tr>\n",
       "      <th>2</th>\n",
       "      <td>3</td>\n",
       "      <td>Не жалеем!</td>\n",
       "      <td>['O', 'O', 'O']</td>\n",
       "    </tr>\n",
       "    <tr>\n",
       "      <th>3</th>\n",
       "      <td>4</td>\n",
       "      <td>Не жалеем.</td>\n",
       "      <td>['O', 'O', 'O']</td>\n",
       "    </tr>\n",
       "    <tr>\n",
       "      <th>4</th>\n",
       "      <td>5</td>\n",
       "      <td>Не за что!</td>\n",
       "      <td>['O', 'O', 'O', 'O']</td>\n",
       "    </tr>\n",
       "  </tbody>\n",
       "</table>\n",
       "</div>"
      ],
      "text/plain": [
       "   id        text                   tag\n",
       "0   1  Не дорого!       ['O', 'O', 'O']\n",
       "1   2  Не дорого.       ['O', 'O', 'O']\n",
       "2   3  Не жалеем!       ['O', 'O', 'O']\n",
       "3   4  Не жалеем.       ['O', 'O', 'O']\n",
       "4   5  Не за что!  ['O', 'O', 'O', 'O']"
      ]
     },
     "execution_count": 40,
     "metadata": {},
     "output_type": "execute_result"
    }
   ],
   "source": [
    "data = pd.read_csv('Reviews_Train_NER.csv', encoding='utf-8-sig', sep=';')\n",
    "data.head()"
   ]
  },
  {
   "cell_type": "code",
   "execution_count": null,
   "id": "5800be27-f6b3-44b9-83db-3b3336499720",
   "metadata": {},
   "outputs": [],
   "source": []
  }
 ],
 "metadata": {
  "kernelspec": {
   "display_name": "Python 3 (ipykernel)",
   "language": "python",
   "name": "python3"
  },
  "language_info": {
   "codemirror_mode": {
    "name": "ipython",
    "version": 3
   },
   "file_extension": ".py",
   "mimetype": "text/x-python",
   "name": "python",
   "nbconvert_exporter": "python",
   "pygments_lexer": "ipython3",
   "version": "3.11.8"
  }
 },
 "nbformat": 4,
 "nbformat_minor": 5
}
