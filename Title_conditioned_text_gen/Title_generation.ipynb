{
 "cells": [
  {
   "cell_type": "code",
   "execution_count": 1,
   "id": "d39141ee-28c0-47b1-b457-0e95760fbdd7",
   "metadata": {
    "execution": {
     "iopub.execute_input": "2023-04-07T01:42:10.340974Z",
     "iopub.status.busy": "2023-04-07T01:42:10.340625Z",
     "iopub.status.idle": "2023-04-07T01:42:13.171741Z",
     "shell.execute_reply": "2023-04-07T01:42:13.171144Z",
     "shell.execute_reply.started": "2023-04-07T01:42:10.340902Z"
    },
    "tags": []
   },
   "outputs": [
    {
     "name": "stdout",
     "output_type": "stream",
     "text": [
      "Requirement already satisfied: transformers in /opt/conda/envs/saturn/lib/python3.9/site-packages (4.27.4)\n",
      "Requirement already satisfied: filelock in /opt/conda/envs/saturn/lib/python3.9/site-packages (from transformers) (3.10.7)\n",
      "Requirement already satisfied: pyyaml>=5.1 in /opt/conda/envs/saturn/lib/python3.9/site-packages (from transformers) (6.0)\n",
      "Requirement already satisfied: tqdm>=4.27 in /opt/conda/envs/saturn/lib/python3.9/site-packages (from transformers) (4.64.0)\n",
      "Requirement already satisfied: huggingface-hub<1.0,>=0.11.0 in /opt/conda/envs/saturn/lib/python3.9/site-packages (from transformers) (0.13.3)\n",
      "Requirement already satisfied: numpy>=1.17 in /opt/conda/envs/saturn/lib/python3.9/site-packages (from transformers) (1.21.5)\n",
      "Requirement already satisfied: tokenizers!=0.11.3,<0.14,>=0.11.1 in /opt/conda/envs/saturn/lib/python3.9/site-packages (from transformers) (0.13.3)\n",
      "Requirement already satisfied: packaging>=20.0 in /opt/conda/envs/saturn/lib/python3.9/site-packages (from transformers) (21.3)\n",
      "Requirement already satisfied: requests in /opt/conda/envs/saturn/lib/python3.9/site-packages (from transformers) (2.27.1)\n",
      "Requirement already satisfied: regex!=2019.12.17 in /opt/conda/envs/saturn/lib/python3.9/site-packages (from transformers) (2023.3.23)\n",
      "Requirement already satisfied: typing-extensions>=3.7.4.3 in /opt/conda/envs/saturn/lib/python3.9/site-packages (from huggingface-hub<1.0,>=0.11.0->transformers) (4.1.1)\n",
      "Requirement already satisfied: pyparsing!=3.0.5,>=2.0.2 in /opt/conda/envs/saturn/lib/python3.9/site-packages (from packaging>=20.0->transformers) (3.0.4)\n",
      "Requirement already satisfied: urllib3<1.27,>=1.21.1 in /opt/conda/envs/saturn/lib/python3.9/site-packages (from requests->transformers) (1.26.9)\n",
      "Requirement already satisfied: charset-normalizer~=2.0.0 in /opt/conda/envs/saturn/lib/python3.9/site-packages (from requests->transformers) (2.0.4)\n",
      "Requirement already satisfied: certifi>=2017.4.17 in /opt/conda/envs/saturn/lib/python3.9/site-packages (from requests->transformers) (2021.10.8)\n",
      "Requirement already satisfied: idna<4,>=2.5 in /opt/conda/envs/saturn/lib/python3.9/site-packages (from requests->transformers) (3.3)\n"
     ]
    }
   ],
   "source": [
    "!pip install transformers"
   ]
  },
  {
   "cell_type": "code",
   "execution_count": 2,
   "id": "8789b699-87de-4750-afba-976c83996d8f",
   "metadata": {
    "execution": {
     "iopub.execute_input": "2023-04-07T01:42:13.173803Z",
     "iopub.status.busy": "2023-04-07T01:42:13.173478Z",
     "iopub.status.idle": "2023-04-07T01:42:14.208245Z",
     "shell.execute_reply": "2023-04-07T01:42:14.207669Z",
     "shell.execute_reply.started": "2023-04-07T01:42:13.173768Z"
    },
    "tags": []
   },
   "outputs": [],
   "source": [
    "import torch\n",
    "import pandas as pd"
   ]
  },
  {
   "cell_type": "code",
   "execution_count": null,
   "id": "e22e9f8a-90a9-4d99-9c21-16f1e75d78c3",
   "metadata": {
    "execution": {
     "iopub.execute_input": "2023-04-07T01:42:14.209762Z",
     "iopub.status.busy": "2023-04-07T01:42:14.209442Z"
    },
    "tags": []
   },
   "outputs": [
    {
     "name": "stdout",
     "output_type": "stream",
     "text": [
      "Using device: cuda\n"
     ]
    },
    {
     "name": "stderr",
     "output_type": "stream",
     "text": [
      "Special tokens have been added in the vocabulary, make sure the associated word embeddings are fine-tuned or trained.\n"
     ]
    },
    {
     "data": {
      "application/vnd.jupyter.widget-view+json": {
       "model_id": "2e15026e658a4bb5ac7cd6632a8e2b99",
       "version_major": 2,
       "version_minor": 0
      },
      "text/plain": [
       "Generating texts:   0%|          | 0/100000 [00:00<?, ?it/s]"
      ]
     },
     "metadata": {},
     "output_type": "display_data"
    },
    {
     "name": "stderr",
     "output_type": "stream",
     "text": [
      "Input length of input_ids is 69, but `max_length` is set to 64. This can lead to unexpected behavior. You should consider increasing `max_new_tokens`.\n",
      "Input length of input_ids is 68, but `max_length` is set to 64. This can lead to unexpected behavior. You should consider increasing `max_new_tokens`.\n",
      "Input length of input_ids is 73, but `max_length` is set to 64. This can lead to unexpected behavior. You should consider increasing `max_new_tokens`.\n",
      "Input length of input_ids is 68, but `max_length` is set to 64. This can lead to unexpected behavior. You should consider increasing `max_new_tokens`.\n",
      "Input length of input_ids is 75, but `max_length` is set to 64. This can lead to unexpected behavior. You should consider increasing `max_new_tokens`.\n"
     ]
    }
   ],
   "source": [
    "from transformers import GPT2LMHeadModel, GPT2Tokenizer\n",
    "from tqdm.auto import tqdm\n",
    "\n",
    "device = \"cuda\" if torch.cuda.is_available() else \"cpu\"\n",
    "print(f\"Using device: {device}\")\n",
    "\n",
    "# Загрузка данных из CSV-файла\n",
    "data = pd.read_csv('Train_Only_Sentence.csv', encoding='utf-8-sig', sep=';')\n",
    "data.fillna({'text': '0'}, inplace=True)\n",
    "# Инициализация токенизатора и модели GPT-2\n",
    "tokenizer = GPT2Tokenizer.from_pretrained('sberbank-ai/rugpt3medium_based_on_gpt2', pad_token='<PAD>')\n",
    "model = GPT2LMHeadModel.from_pretrained('sberbank-ai/rugpt3medium_based_on_gpt2').to(device)\n",
    "\n",
    "# Задание параметров генерации текста\n",
    "max_length = 64\n",
    "top_k = 20\n",
    "top_p = 0.9\n",
    "num_return_sequences = 1\n",
    "\n",
    "# Создание списка для сгенерированных текстов\n",
    "generated_texts = []\n",
    "\n",
    "# Генерация текстов\n",
    "with tqdm(total=len(data), desc='Generating texts', position=0, leave=True) as pbar:\n",
    "    tqdm.write_every = 10\n",
    "    for i, sentence in enumerate(data['text']):\n",
    "        # Создание input_ids из предложения\n",
    "        torch.cuda.empty_cache()\n",
    "        input_ids = tokenizer.encode(sentence, return_tensors='pt', truncation=True, max_length=128).to(device)\n",
    "        attention_mask = torch.ones(input_ids.shape, dtype=torch.long, device=device)\n",
    "        # Генерация текста\n",
    "        sample_outputs = model.generate(\n",
    "            input_ids=input_ids,\n",
    "            attention_mask=attention_mask,\n",
    "            do_sample=True,\n",
    "            max_length=max_length,\n",
    "            top_k=top_k,\n",
    "            top_p=top_p,\n",
    "            num_return_sequences=num_return_sequences,\n",
    "            no_repeat_ngram_size=0,\n",
    "            pad_token_id=tokenizer.pad_token_id\n",
    "            )\n",
    "        # Декодирование сгенерированного текста\n",
    "        generated_text = tokenizer.decode(sample_outputs[0], skip_special_tokens=True)\n",
    "        generated_texts.append(generated_text)\n",
    "        pbar.update()\n",
    "        pbar.set_postfix({'generated_text': generated_text})\n",
    "        \n",
    "# Добавление сгенерированных текстов в DataFrame\n",
    "data['generated_text'] = generated_texts\n",
    "\n",
    "# Сохранение результата в файл CSV\n",
    "data.to_csv('Title_conditioned.csv', index=False)"
   ]
  },
  {
   "cell_type": "code",
   "execution_count": null,
   "id": "79c00463-9f3e-4a87-9fc1-236adda734b7",
   "metadata": {},
   "outputs": [],
   "source": []
  }
 ],
 "metadata": {
  "kernelspec": {
   "display_name": "Python 3 (ipykernel)",
   "language": "python",
   "name": "python3"
  },
  "language_info": {
   "codemirror_mode": {
    "name": "ipython",
    "version": 3
   },
   "file_extension": ".py",
   "mimetype": "text/x-python",
   "name": "python",
   "nbconvert_exporter": "python",
   "pygments_lexer": "ipython3",
   "version": "3.10.10"
  }
 },
 "nbformat": 4,
 "nbformat_minor": 5
}
