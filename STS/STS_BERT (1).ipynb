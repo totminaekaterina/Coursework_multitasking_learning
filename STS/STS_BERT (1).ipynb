{
 "cells": [
  {
   "cell_type": "markdown",
   "id": "28df765c-ec6b-450b-a8b4-b40c65f73159",
   "metadata": {},
   "source": [
    "# Install necessary libraries"
   ]
  },
  {
   "cell_type": "code",
   "execution_count": 1,
   "id": "bc873328-78e8-4e81-bb0b-fc1ba41bcb82",
   "metadata": {
    "execution": {
     "iopub.execute_input": "2023-03-31T19:39:54.290075Z",
     "iopub.status.busy": "2023-03-31T19:39:54.289680Z",
     "iopub.status.idle": "2023-03-31T19:40:15.170127Z",
     "shell.execute_reply": "2023-03-31T19:40:15.169062Z",
     "shell.execute_reply.started": "2023-03-31T19:39:54.290047Z"
    },
    "tags": []
   },
   "outputs": [],
   "source": [
    "%%capture\n",
    "\n",
    "!pip install datasets\n",
    "!pip install sentence-transformers\n",
    "!pip install transformers"
   ]
  },
  {
   "cell_type": "markdown",
   "id": "002b8bb8-e806-48a8-ab70-8c8f35d13466",
   "metadata": {},
   "source": [
    "# Import libraries"
   ]
  },
  {
   "cell_type": "code",
   "execution_count": 1,
   "id": "d8fe01b5-6a9a-458d-a97f-1fb20b621b0f",
   "metadata": {
    "execution": {
     "iopub.execute_input": "2023-03-31T21:19:10.889615Z",
     "iopub.status.busy": "2023-03-31T21:19:10.889235Z",
     "iopub.status.idle": "2023-03-31T21:19:14.919457Z",
     "shell.execute_reply": "2023-03-31T21:19:14.918819Z",
     "shell.execute_reply.started": "2023-03-31T21:19:10.889590Z"
    },
    "tags": []
   },
   "outputs": [],
   "source": [
    "import torch\n",
    "from sentence_transformers import SentenceTransformer, models\n",
    "from torch.optim import Adam\n",
    "from torch.utils.data import DataLoader\n",
    "from tqdm import tqdm\n",
    "from datasets import load_dataset"
   ]
  },
  {
   "cell_type": "markdown",
   "id": "0bd9f3e6-9625-4c64-bb76-5e90911239a6",
   "metadata": {},
   "source": [
    "# Fetch data for training and test, as well as the tokenizer"
   ]
  },
  {
   "cell_type": "code",
   "execution_count": 2,
   "id": "7fd14e0c-c325-4ef4-84b3-0a29306c82c2",
   "metadata": {
    "execution": {
     "iopub.execute_input": "2023-03-31T21:19:14.921265Z",
     "iopub.status.busy": "2023-03-31T21:19:14.920812Z",
     "iopub.status.idle": "2023-03-31T21:19:14.925183Z",
     "shell.execute_reply": "2023-03-31T21:19:14.924399Z",
     "shell.execute_reply.started": "2023-03-31T21:19:14.921241Z"
    },
    "tags": []
   },
   "outputs": [],
   "source": [
    "import torch\n",
    "from transformers import AutoModel, AutoTokenizer\n",
    "from torch.optim import Adam\n",
    "from torch.utils.data import DataLoader\n",
    "from tqdm import tqdm\n",
    "from datasets import load_dataset"
   ]
  },
  {
   "cell_type": "code",
   "execution_count": 3,
   "id": "195cdd91-5e6d-4e2c-945f-e2f0dd17e3d1",
   "metadata": {
    "execution": {
     "iopub.execute_input": "2023-03-31T21:19:14.926965Z",
     "iopub.status.busy": "2023-03-31T21:19:14.926397Z",
     "iopub.status.idle": "2023-03-31T21:19:19.119736Z",
     "shell.execute_reply": "2023-03-31T21:19:19.118973Z",
     "shell.execute_reply.started": "2023-03-31T21:19:14.926930Z"
    },
    "tags": []
   },
   "outputs": [
    {
     "name": "stderr",
     "output_type": "stream",
     "text": [
      "Found cached dataset stsb_multi_mt (/home/jovyan/.cache/huggingface/datasets/stsb_multi_mt/ru/1.0.0/a5d260e4b7aa82d1ab7379523a005a366d9b124c76a5a5cf0c4c5365458b0ba9)\n",
      "Found cached dataset stsb_multi_mt (/home/jovyan/.cache/huggingface/datasets/stsb_multi_mt/ru/1.0.0/a5d260e4b7aa82d1ab7379523a005a366d9b124c76a5a5cf0c4c5365458b0ba9)\n",
      "Some weights of the model checkpoint at DeepPavlov/rubert-base-cased were not used when initializing BertModel: ['cls.seq_relationship.bias', 'cls.predictions.decoder.bias', 'cls.predictions.transform.dense.bias', 'cls.predictions.transform.dense.weight', 'cls.predictions.transform.LayerNorm.bias', 'cls.predictions.transform.LayerNorm.weight', 'cls.seq_relationship.weight', 'cls.predictions.decoder.weight', 'cls.predictions.bias']\n",
      "- This IS expected if you are initializing BertModel from the checkpoint of a model trained on another task or with another architecture (e.g. initializing a BertForSequenceClassification model from a BertForPreTraining model).\n",
      "- This IS NOT expected if you are initializing BertModel from the checkpoint of a model that you expect to be exactly identical (initializing a BertForSequenceClassification model from a BertForSequenceClassification model).\n"
     ]
    }
   ],
   "source": [
    "# Dataset for training\n",
    "dataset = load_dataset(\"stsb_multi_mt\", name=\"ru\", split=\"train\")\n",
    "similarity = [i['similarity_score'] for i in dataset]\n",
    "normalized_similarity = [i/5.0 for i in similarity]\n",
    "\n",
    "# Dataset for test\n",
    "test_dataset = load_dataset(\"stsb_multi_mt\", name=\"ru\", split=\"test\")\n",
    "\n",
    "# Prepare test data\n",
    "sentence_1_test = [i['sentence1'] for i in test_dataset]\n",
    "sentence_2_test = [i['sentence2'] for i in test_dataset]\n",
    "text_cat_test = [[str(x), str(y)] for x,y in zip(sentence_1_test, sentence_2_test)]\n",
    "\n",
    "# Set the tokenizer and model\n",
    "tokenizer = AutoTokenizer.from_pretrained('DeepPavlov/rubert-base-cased')\n",
    "model = AutoModel.from_pretrained('DeepPavlov/rubert-base-cased')"
   ]
  },
  {
   "cell_type": "code",
   "execution_count": null,
   "id": "c4bb899f-be5c-4c35-8ee0-25f46b77f47b",
   "metadata": {
    "execution": {
     "iopub.execute_input": "2023-03-31T21:19:19.122436Z",
     "iopub.status.busy": "2023-03-31T21:19:19.121710Z",
     "iopub.status.idle": "2023-03-31T21:19:19.127557Z",
     "shell.execute_reply": "2023-03-31T21:19:19.126880Z",
     "shell.execute_reply.started": "2023-03-31T21:19:19.122397Z"
    },
    "tags": []
   },
   "outputs": [],
   "source": [
    "class STSRuBertModel(torch.nn.Module):\n",
    "\n",
    "    def __init__(self):\n",
    "\n",
    "        super(STSRuBertModel, self).__init__()\n",
    "\n",
    "        self.bert = model\n",
    "        self.dropout = torch.nn.Dropout(0.3)\n",
    "        self.linear = torch.nn.Linear(self.bert.config.hidden_size, 1)\n",
    "\n",
    "    def forward(self, input_data):\n",
    "\n",
    "        output = self.bert(input_data['input_ids'], attention_mask=input_data['attention_mask'])\n",
    "        output = self.dropout(output.last_hidden_state[:, 0, :])\n",
    "        output = self.linear(output)\n",
    "\n",
    "        return output"
   ]
  },
  {
   "cell_type": "markdown",
   "id": "3103d5bd-e4f3-4b98-a1c6-cfc354f9edca",
   "metadata": {},
   "source": [
    "# Define Dataloader for training"
   ]
  },
  {
   "cell_type": "code",
   "execution_count": 5,
   "id": "98ae2242-af8f-4c76-a21a-4baeeed3ae43",
   "metadata": {
    "execution": {
     "iopub.execute_input": "2023-03-31T21:19:19.128844Z",
     "iopub.status.busy": "2023-03-31T21:19:19.128590Z",
     "iopub.status.idle": "2023-03-31T21:19:19.135947Z",
     "shell.execute_reply": "2023-03-31T21:19:19.135295Z",
     "shell.execute_reply.started": "2023-03-31T21:19:19.128823Z"
    },
    "tags": []
   },
   "outputs": [],
   "source": [
    "class DataSequence(torch.utils.data.Dataset):\n",
    "\n",
    "    def __init__(self, dataset):\n",
    "\n",
    "        similarity = [i['similarity_score'] for i in dataset]\n",
    "        self.label = [i/5.0 for i in similarity]\n",
    "        self.sentence_1 = [i['sentence1'] for i in dataset]\n",
    "        self.sentence_2 = [i['sentence2'] for i in dataset]\n",
    "        self.text_cat = [[str(x), str(y)] for x,y in zip(self.sentence_1, self.sentence_2)]\n",
    "\n",
    "    def __len__(self):\n",
    "\n",
    "        return len(self.text_cat)\n",
    "\n",
    "    def get_batch_labels(self, idx):\n",
    "\n",
    "        return torch.tensor(self.label[idx])\n",
    "\n",
    "    def get_batch_texts(self, idx):\n",
    "\n",
    "        return tokenizer(self.text_cat[idx], padding='max_length', max_length = 128, truncation=True, return_tensors=\"pt\")\n",
    "\n",
    "    def __getitem__(self, idx):\n",
    "\n",
    "        batch_texts = self.get_batch_texts(idx)\n",
    "        batch_y = self.get_batch_labels(idx)\n",
    "\n",
    "        return batch_texts, batch_y\n",
    "\n",
    "def collate_fn(texts):\n",
    "\n",
    "  num_texts = len(texts['input_ids'])\n",
    "  features = list()\n",
    "  for i in range(num_texts):\n",
    "      features.append({'input_ids':texts['input_ids'][i], 'attention_mask':texts['attention_mask'][i]})\n",
    "  \n",
    "  return features"
   ]
  },
  {
   "cell_type": "markdown",
   "id": "3fd81992-4a05-4f48-9869-83b38b7a3f90",
   "metadata": {},
   "source": [
    "# Define loss function for training"
   ]
  },
  {
   "cell_type": "code",
   "execution_count": 6,
   "id": "78ca0312-8648-4101-9429-7286d6268bb5",
   "metadata": {
    "execution": {
     "iopub.execute_input": "2023-03-31T21:19:19.137499Z",
     "iopub.status.busy": "2023-03-31T21:19:19.136886Z",
     "iopub.status.idle": "2023-03-31T21:19:19.142926Z",
     "shell.execute_reply": "2023-03-31T21:19:19.142286Z",
     "shell.execute_reply.started": "2023-03-31T21:19:19.137466Z"
    },
    "tags": []
   },
   "outputs": [],
   "source": [
    "class CosineSimilarityLoss(torch.nn.Module):\n",
    "\n",
    "    def __init__(self,  loss_fct = torch.nn.MSELoss(), cos_score_transformation=torch.nn.Identity()):\n",
    "      \n",
    "        super(CosineSimilarityLoss, self).__init__()\n",
    "        self.loss_fct = loss_fct\n",
    "        self.cos_score_transformation = cos_score_transformation\n",
    "        self.cos = torch.nn.CosineSimilarity(dim=1)\n",
    "\n",
    "    def forward(self, input, label):\n",
    "\n",
    "        embedding_1 = torch.stack([inp[0] for inp in input])\n",
    "        embedding_2 = torch.stack([inp[1] for inp in input])\n",
    "\n",
    "        output = self.cos_score_transformation(self.cos(embedding_1, embedding_2))\n",
    "\n",
    "        return self.loss_fct(output, label.squeeze())"
   ]
  },
  {
   "cell_type": "markdown",
   "id": "0fc17726-80e4-409d-8183-1ec17d2e05da",
   "metadata": {},
   "source": [
    "# Train the Model"
   ]
  },
  {
   "cell_type": "code",
   "execution_count": 7,
   "id": "bcf41a99-3ce1-4125-b464-d3b8d0d295af",
   "metadata": {
    "execution": {
     "iopub.execute_input": "2023-03-31T21:19:19.144410Z",
     "iopub.status.busy": "2023-03-31T21:19:19.143895Z",
     "iopub.status.idle": "2023-03-31T21:19:19.151530Z",
     "shell.execute_reply": "2023-03-31T21:19:19.150929Z",
     "shell.execute_reply.started": "2023-03-31T21:19:19.144377Z"
    },
    "tags": []
   },
   "outputs": [],
   "source": [
    "def model_train(dataset, epochs, learning_rate, bs):\n",
    "\n",
    "    use_cuda = torch.cuda.is_available()\n",
    "    device = torch.device(\"cuda\" if use_cuda else \"cpu\")\n",
    "\n",
    "    model = STSRuBertModel()\n",
    "\n",
    "    criterion = CosineSimilarityLoss()\n",
    "    optimizer = Adam(model.parameters(), lr=learning_rate)\n",
    "\n",
    "    train_dataset = DataSequence(dataset)\n",
    "    train_dataloader = DataLoader(train_dataset, num_workers=4, batch_size=bs, shuffle=True)\n",
    "\n",
    "    model = model.cuda()\n",
    "    criterion = criterion.cuda()\n",
    "\n",
    "    best_acc = 0.0\n",
    "    best_loss = 1000\n",
    "\n",
    "    for i in range(epochs):\n",
    "\n",
    "        total_acc_train = 0\n",
    "        total_loss_train = 0.0\n",
    "\n",
    "        for train_data, train_label in tqdm(train_dataloader):\n",
    "\n",
    "            train_data['input_ids'] = train_data['input_ids'].to(device)\n",
    "            train_data['attention_mask'] = train_data['attention_mask'].to(device)\n",
    "            del train_data['token_type_ids']\n",
    "\n",
    "            train_data = collate_fn(train_data)\n",
    "\n",
    "            output = [model(feature).squeeze(0) for feature in train_data]\n",
    "\n",
    "            loss = criterion(output, train_label.to(device))\n",
    "            total_loss_train += loss.item()\n",
    "\n",
    "            loss.backward()\n",
    "            optimizer.step()\n",
    "            optimizer.zero_grad()\n",
    "\n",
    "        print(f'Epochs: {i + 1} | Loss: {total_loss_train / len(dataset): .3f}')\n",
    "        model.train()\n",
    "\n",
    "    return model"
   ]
  },
  {
   "cell_type": "code",
   "execution_count": 8,
   "id": "5fbd30c0",
   "metadata": {
    "execution": {
     "iopub.execute_input": "2023-03-31T21:19:19.152542Z",
     "iopub.status.busy": "2023-03-31T21:19:19.152293Z",
     "iopub.status.idle": "2023-03-31T21:19:19.157552Z",
     "shell.execute_reply": "2023-03-31T21:19:19.157037Z",
     "shell.execute_reply.started": "2023-03-31T21:19:19.152522Z"
    },
    "tags": []
   },
   "outputs": [],
   "source": [
    "EPOCHS = 8\n",
    "LEARNING_RATE = 1e-6\n",
    "BATCH_SIZE = 16"
   ]
  },
  {
   "cell_type": "code",
   "execution_count": 9,
   "id": "70ae0a53",
   "metadata": {
    "execution": {
     "iopub.execute_input": "2023-03-31T21:19:19.551994Z",
     "iopub.status.busy": "2023-03-31T21:19:19.551607Z",
     "iopub.status.idle": "2023-03-31T22:02:11.359435Z",
     "shell.execute_reply": "2023-03-31T22:02:11.358490Z",
     "shell.execute_reply.started": "2023-03-31T21:19:19.551968Z"
    },
    "tags": []
   },
   "outputs": [
    {
     "name": "stderr",
     "output_type": "stream",
     "text": [
      "100%|██████████| 360/360 [05:13<00:00,  1.15it/s]\n"
     ]
    },
    {
     "name": "stdout",
     "output_type": "stream",
     "text": [
      "Epochs: 1 | Loss:  0.021\n"
     ]
    },
    {
     "name": "stderr",
     "output_type": "stream",
     "text": [
      "100%|██████████| 360/360 [05:23<00:00,  1.11it/s]\n"
     ]
    },
    {
     "name": "stdout",
     "output_type": "stream",
     "text": [
      "Epochs: 2 | Loss:  0.021\n"
     ]
    },
    {
     "name": "stderr",
     "output_type": "stream",
     "text": [
      "100%|██████████| 360/360 [05:24<00:00,  1.11it/s]\n"
     ]
    },
    {
     "name": "stdout",
     "output_type": "stream",
     "text": [
      "Epochs: 3 | Loss:  0.023\n"
     ]
    },
    {
     "name": "stderr",
     "output_type": "stream",
     "text": [
      "100%|██████████| 360/360 [05:23<00:00,  1.11it/s]\n"
     ]
    },
    {
     "name": "stdout",
     "output_type": "stream",
     "text": [
      "Epochs: 4 | Loss:  0.025\n"
     ]
    },
    {
     "name": "stderr",
     "output_type": "stream",
     "text": [
      "100%|██████████| 360/360 [05:22<00:00,  1.12it/s]\n"
     ]
    },
    {
     "name": "stdout",
     "output_type": "stream",
     "text": [
      "Epochs: 5 | Loss:  0.025\n"
     ]
    },
    {
     "name": "stderr",
     "output_type": "stream",
     "text": [
      "100%|██████████| 360/360 [05:19<00:00,  1.13it/s]\n"
     ]
    },
    {
     "name": "stdout",
     "output_type": "stream",
     "text": [
      "Epochs: 6 | Loss:  0.021\n"
     ]
    },
    {
     "name": "stderr",
     "output_type": "stream",
     "text": [
      "100%|██████████| 360/360 [05:21<00:00,  1.12it/s]\n"
     ]
    },
    {
     "name": "stdout",
     "output_type": "stream",
     "text": [
      "Epochs: 7 | Loss:  0.021\n"
     ]
    },
    {
     "name": "stderr",
     "output_type": "stream",
     "text": [
      "100%|██████████| 360/360 [05:19<00:00,  1.13it/s]"
     ]
    },
    {
     "name": "stdout",
     "output_type": "stream",
     "text": [
      "Epochs: 8 | Loss:  0.020\n"
     ]
    },
    {
     "name": "stderr",
     "output_type": "stream",
     "text": [
      "\n"
     ]
    }
   ],
   "source": [
    "# Train the model\n",
    "trained_model = model_train(dataset, EPOCHS, LEARNING_RATE, BATCH_SIZE)"
   ]
  },
  {
   "cell_type": "code",
   "execution_count": 10,
   "id": "98223ed9-ec3c-4592-86ef-f752d5b8f8b7",
   "metadata": {
    "execution": {
     "iopub.execute_input": "2023-03-31T22:02:11.363038Z",
     "iopub.status.busy": "2023-03-31T22:02:11.362731Z",
     "iopub.status.idle": "2023-03-31T22:02:12.746743Z",
     "shell.execute_reply": "2023-03-31T22:02:12.745969Z",
     "shell.execute_reply.started": "2023-03-31T22:02:11.363014Z"
    },
    "tags": []
   },
   "outputs": [],
   "source": [
    "model.save_pretrained('NLI_vers_2')"
   ]
  },
  {
   "cell_type": "code",
   "execution_count": 11,
   "id": "c2ffd868-65c1-4589-a85d-c604048ee85d",
   "metadata": {
    "execution": {
     "iopub.execute_input": "2023-04-01T09:15:19.734793Z",
     "iopub.status.busy": "2023-04-01T09:15:19.734263Z",
     "iopub.status.idle": "2023-04-01T13:11:28.163205Z",
     "shell.execute_reply": "2023-04-01T13:11:28.162542Z",
     "shell.execute_reply.started": "2023-04-01T09:15:19.734756Z"
    },
    "tags": []
   },
   "outputs": [
    {
     "name": "stderr",
     "output_type": "stream",
     "text": [
      "/tmp/ipykernel_188/4141418979.py:15: DtypeWarning: Columns (2) have mixed types. Specify dtype option on import or set low_memory=False.\n",
      "  data = pd.read_csv(\"STS_For_Testing.csv\", encoding='utf-8-sig', sep=';')\n",
      "100%|██████████| 1009458/1009458 [3:55:48<00:00, 71.35it/s] \n"
     ]
    }
   ],
   "source": [
    "import pandas as pd\n",
    "import torch\n",
    "from transformers import AutoTokenizer, AutoModel\n",
    "from tqdm import tqdm\n",
    "\n",
    "# Load pre-trained model and tokenizer\n",
    "tokenizer = AutoTokenizer.from_pretrained('DeepPavlov/rubert-base-cased')\n",
    "model = AutoModel.from_pretrained('NLI_vers_2')\n",
    "\n",
    "# Move the model to GPU\n",
    "device = torch.device('cuda')\n",
    "model.to(device)\n",
    "\n",
    "# Load the data\n",
    "data = pd.read_csv(\"STS_For_Paraphrase.csv\", encoding='utf-8-sig', sep=';')\n",
    "\n",
    "def predict_sts(text1, text2):\n",
    "    text1_str = str(text1)\n",
    "    text2_str = str(text2)\n",
    "    inputs = tokenizer(text1_str, text2_str, padding='max_length', max_length=128, truncation=True, return_tensors=\"pt\").to(device)\n",
    "    model_output = model(**inputs)\n",
    "    embeddings = model_output.last_hidden_state.squeeze(dim=0)\n",
    "    cosine_similarity_score = torch.nn.functional.cosine_similarity(embeddings[0], embeddings[1], dim=0).item()\n",
    "    similarity_score = 2.5 * (cosine_similarity_score + 1)\n",
    "    return similarity_score\n",
    "\n",
    "# Make predictions for the data\n",
    "preds = []\n",
    "for index, row in tqdm(data.iterrows(), total=data.shape[0]):\n",
    "    pred = predict_sts(row['sentence1'], row['sentence2'])\n",
    "    preds.append(pred)\n",
    "\n",
    "# Add predictions as a new column in the dataframe and save it to a new csv file\n",
    "data['similarity_score'] = preds\n",
    "data['similarity_score'] = data['similarity_score'].apply(lambda x: round(x, 2))  # round to two decimal places\n",
    "data['similarity_score'] = data['similarity_score'].apply(lambda x: min(max(1, x), 5))  # clip to range [1, 5]\n",
    "data.to_csv('predicted_STS.csv', index=False)"
   ]
  },
  {
   "cell_type": "code",
   "execution_count": null,
   "id": "82e69979-a34d-41f5-8c06-f0d081882e98",
   "metadata": {},
   "outputs": [],
   "source": []
  }
 ],
 "metadata": {
  "kernelspec": {
   "display_name": "Python 3 (ipykernel)",
   "language": "python",
   "name": "python3"
  },
  "language_info": {
   "codemirror_mode": {
    "name": "ipython",
    "version": 3
   },
   "file_extension": ".py",
   "mimetype": "text/x-python",
   "name": "python",
   "nbconvert_exporter": "python",
   "pygments_lexer": "ipython3",
   "version": "3.10.10"
  }
 },
 "nbformat": 4,
 "nbformat_minor": 5
}
