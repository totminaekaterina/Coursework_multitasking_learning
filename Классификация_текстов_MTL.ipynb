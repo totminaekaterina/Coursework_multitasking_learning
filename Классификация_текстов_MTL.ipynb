{
 "cells": [
  {
   "cell_type": "markdown",
   "metadata": {
    "id": "8yT57kOnchAU"
   },
   "source": [
    "Загружаем необходимые данные"
   ]
  },
  {
   "cell_type": "code",
   "execution_count": 1,
   "metadata": {
    "colab": {
     "base_uri": "https://localhost:8080/"
    },
    "execution": {
     "iopub.execute_input": "2023-02-20T00:58:22.430904Z",
     "iopub.status.busy": "2023-02-20T00:58:22.430171Z",
     "iopub.status.idle": "2023-02-20T00:58:25.232312Z",
     "shell.execute_reply": "2023-02-20T00:58:25.231784Z",
     "shell.execute_reply.started": "2023-02-20T00:58:22.430814Z"
    },
    "id": "bhIs5z1_uzTp",
    "outputId": "f734e364-0157-4ded-b677-6678620ca643",
    "tags": []
   },
   "outputs": [
    {
     "name": "stdout",
     "output_type": "stream",
     "text": [
      "Requirement already satisfied: transformers in /opt/conda/envs/saturn/lib/python3.9/site-packages (4.26.1)\n",
      "Requirement already satisfied: tqdm>=4.27 in /opt/conda/envs/saturn/lib/python3.9/site-packages (from transformers) (4.64.0)\n",
      "Requirement already satisfied: regex!=2019.12.17 in /opt/conda/envs/saturn/lib/python3.9/site-packages (from transformers) (2022.10.31)\n",
      "Requirement already satisfied: huggingface-hub<1.0,>=0.11.0 in /opt/conda/envs/saturn/lib/python3.9/site-packages (from transformers) (0.12.1)\n",
      "Requirement already satisfied: pyyaml>=5.1 in /opt/conda/envs/saturn/lib/python3.9/site-packages (from transformers) (6.0)\n",
      "Requirement already satisfied: numpy>=1.17 in /opt/conda/envs/saturn/lib/python3.9/site-packages (from transformers) (1.21.5)\n",
      "Requirement already satisfied: requests in /opt/conda/envs/saturn/lib/python3.9/site-packages (from transformers) (2.27.1)\n",
      "Requirement already satisfied: tokenizers!=0.11.3,<0.14,>=0.11.1 in /opt/conda/envs/saturn/lib/python3.9/site-packages (from transformers) (0.13.2)\n",
      "Requirement already satisfied: filelock in /opt/conda/envs/saturn/lib/python3.9/site-packages (from transformers) (3.9.0)\n",
      "Requirement already satisfied: packaging>=20.0 in /opt/conda/envs/saturn/lib/python3.9/site-packages (from transformers) (21.3)\n",
      "Requirement already satisfied: typing-extensions>=3.7.4.3 in /opt/conda/envs/saturn/lib/python3.9/site-packages (from huggingface-hub<1.0,>=0.11.0->transformers) (4.1.1)\n",
      "Requirement already satisfied: pyparsing!=3.0.5,>=2.0.2 in /opt/conda/envs/saturn/lib/python3.9/site-packages (from packaging>=20.0->transformers) (3.0.4)\n",
      "Requirement already satisfied: certifi>=2017.4.17 in /opt/conda/envs/saturn/lib/python3.9/site-packages (from requests->transformers) (2021.10.8)\n",
      "Requirement already satisfied: idna<4,>=2.5 in /opt/conda/envs/saturn/lib/python3.9/site-packages (from requests->transformers) (3.3)\n",
      "Requirement already satisfied: charset-normalizer~=2.0.0 in /opt/conda/envs/saturn/lib/python3.9/site-packages (from requests->transformers) (2.0.4)\n",
      "Requirement already satisfied: urllib3<1.27,>=1.21.1 in /opt/conda/envs/saturn/lib/python3.9/site-packages (from requests->transformers) (1.26.9)\n"
     ]
    }
   ],
   "source": [
    "!pip install transformers"
   ]
  },
  {
   "cell_type": "code",
   "execution_count": 2,
   "metadata": {
    "colab": {
     "base_uri": "https://localhost:8080/"
    },
    "execution": {
     "iopub.execute_input": "2023-02-20T00:58:25.234030Z",
     "iopub.status.busy": "2023-02-20T00:58:25.233789Z",
     "iopub.status.idle": "2023-02-20T00:58:28.068905Z",
     "shell.execute_reply": "2023-02-20T00:58:28.068195Z",
     "shell.execute_reply.started": "2023-02-20T00:58:25.234001Z"
    },
    "id": "lmYsdbdPF1qw",
    "outputId": "fd73b0a3-7ce1-4d0c-fec2-b348ddb36342",
    "tags": []
   },
   "outputs": [
    {
     "name": "stdout",
     "output_type": "stream",
     "text": [
      "Requirement already satisfied: tensorflow in /opt/conda/envs/saturn/lib/python3.9/site-packages (2.11.0)\n",
      "Requirement already satisfied: gast<=0.4.0,>=0.2.1 in /opt/conda/envs/saturn/lib/python3.9/site-packages (from tensorflow) (0.4.0)\n",
      "Requirement already satisfied: setuptools in /opt/conda/envs/saturn/lib/python3.9/site-packages (from tensorflow) (58.0.4)\n",
      "Requirement already satisfied: h5py>=2.9.0 in /opt/conda/envs/saturn/lib/python3.9/site-packages (from tensorflow) (3.8.0)\n",
      "Requirement already satisfied: wrapt>=1.11.0 in /opt/conda/envs/saturn/lib/python3.9/site-packages (from tensorflow) (1.13.3)\n",
      "Requirement already satisfied: tensorboard<2.12,>=2.11 in /opt/conda/envs/saturn/lib/python3.9/site-packages (from tensorflow) (2.11.2)\n",
      "Requirement already satisfied: tensorflow-estimator<2.12,>=2.11.0 in /opt/conda/envs/saturn/lib/python3.9/site-packages (from tensorflow) (2.11.0)\n",
      "Requirement already satisfied: opt-einsum>=2.3.2 in /opt/conda/envs/saturn/lib/python3.9/site-packages (from tensorflow) (3.3.0)\n",
      "Requirement already satisfied: flatbuffers>=2.0 in /opt/conda/envs/saturn/lib/python3.9/site-packages (from tensorflow) (23.1.21)\n",
      "Requirement already satisfied: packaging in /opt/conda/envs/saturn/lib/python3.9/site-packages (from tensorflow) (21.3)\n",
      "Requirement already satisfied: keras<2.12,>=2.11.0 in /opt/conda/envs/saturn/lib/python3.9/site-packages (from tensorflow) (2.11.0)\n",
      "Requirement already satisfied: google-pasta>=0.1.1 in /opt/conda/envs/saturn/lib/python3.9/site-packages (from tensorflow) (0.2.0)\n",
      "Requirement already satisfied: numpy>=1.20 in /opt/conda/envs/saturn/lib/python3.9/site-packages (from tensorflow) (1.21.5)\n",
      "Requirement already satisfied: protobuf<3.20,>=3.9.2 in /opt/conda/envs/saturn/lib/python3.9/site-packages (from tensorflow) (3.15.8)\n",
      "Requirement already satisfied: six>=1.12.0 in /opt/conda/envs/saturn/lib/python3.9/site-packages (from tensorflow) (1.16.0)\n",
      "Requirement already satisfied: tensorflow-io-gcs-filesystem>=0.23.1 in /opt/conda/envs/saturn/lib/python3.9/site-packages (from tensorflow) (0.30.0)\n",
      "Requirement already satisfied: absl-py>=1.0.0 in /opt/conda/envs/saturn/lib/python3.9/site-packages (from tensorflow) (1.4.0)\n",
      "Requirement already satisfied: grpcio<2.0,>=1.24.3 in /opt/conda/envs/saturn/lib/python3.9/site-packages (from tensorflow) (1.42.0)\n",
      "Requirement already satisfied: typing-extensions>=3.6.6 in /opt/conda/envs/saturn/lib/python3.9/site-packages (from tensorflow) (4.1.1)\n",
      "Requirement already satisfied: astunparse>=1.6.0 in /opt/conda/envs/saturn/lib/python3.9/site-packages (from tensorflow) (1.6.3)\n",
      "Requirement already satisfied: termcolor>=1.1.0 in /opt/conda/envs/saturn/lib/python3.9/site-packages (from tensorflow) (2.2.0)\n",
      "Requirement already satisfied: libclang>=13.0.0 in /opt/conda/envs/saturn/lib/python3.9/site-packages (from tensorflow) (15.0.6.1)\n",
      "Requirement already satisfied: wheel<1.0,>=0.23.0 in /opt/conda/envs/saturn/lib/python3.9/site-packages (from astunparse>=1.6.0->tensorflow) (0.37.1)\n",
      "Requirement already satisfied: tensorboard-plugin-wit>=1.6.0 in /opt/conda/envs/saturn/lib/python3.9/site-packages (from tensorboard<2.12,>=2.11->tensorflow) (1.6.0)\n",
      "Requirement already satisfied: markdown>=2.6.8 in /opt/conda/envs/saturn/lib/python3.9/site-packages (from tensorboard<2.12,>=2.11->tensorflow) (3.3.4)\n",
      "Requirement already satisfied: google-auth-oauthlib<0.5,>=0.4.1 in /opt/conda/envs/saturn/lib/python3.9/site-packages (from tensorboard<2.12,>=2.11->tensorflow) (0.4.1)\n",
      "Requirement already satisfied: tensorboard-data-server<0.7.0,>=0.6.0 in /opt/conda/envs/saturn/lib/python3.9/site-packages (from tensorboard<2.12,>=2.11->tensorflow) (0.6.0)\n",
      "Requirement already satisfied: google-auth<3,>=1.6.3 in /opt/conda/envs/saturn/lib/python3.9/site-packages (from tensorboard<2.12,>=2.11->tensorflow) (2.6.0)\n",
      "Requirement already satisfied: requests<3,>=2.21.0 in /opt/conda/envs/saturn/lib/python3.9/site-packages (from tensorboard<2.12,>=2.11->tensorflow) (2.27.1)\n",
      "Requirement already satisfied: werkzeug>=1.0.1 in /opt/conda/envs/saturn/lib/python3.9/site-packages (from tensorboard<2.12,>=2.11->tensorflow) (2.0.3)\n",
      "Requirement already satisfied: cachetools<6.0,>=2.0.0 in /opt/conda/envs/saturn/lib/python3.9/site-packages (from google-auth<3,>=1.6.3->tensorboard<2.12,>=2.11->tensorflow) (4.2.2)\n",
      "Requirement already satisfied: pyasn1-modules>=0.2.1 in /opt/conda/envs/saturn/lib/python3.9/site-packages (from google-auth<3,>=1.6.3->tensorboard<2.12,>=2.11->tensorflow) (0.2.8)\n",
      "Requirement already satisfied: rsa<5,>=3.1.4 in /opt/conda/envs/saturn/lib/python3.9/site-packages (from google-auth<3,>=1.6.3->tensorboard<2.12,>=2.11->tensorflow) (4.7.2)\n",
      "Requirement already satisfied: requests-oauthlib>=0.7.0 in /opt/conda/envs/saturn/lib/python3.9/site-packages (from google-auth-oauthlib<0.5,>=0.4.1->tensorboard<2.12,>=2.11->tensorflow) (1.3.0)\n",
      "Requirement already satisfied: pyasn1<0.5.0,>=0.4.6 in /opt/conda/envs/saturn/lib/python3.9/site-packages (from pyasn1-modules>=0.2.1->google-auth<3,>=1.6.3->tensorboard<2.12,>=2.11->tensorflow) (0.4.8)\n",
      "Requirement already satisfied: charset-normalizer~=2.0.0 in /opt/conda/envs/saturn/lib/python3.9/site-packages (from requests<3,>=2.21.0->tensorboard<2.12,>=2.11->tensorflow) (2.0.4)\n",
      "Requirement already satisfied: urllib3<1.27,>=1.21.1 in /opt/conda/envs/saturn/lib/python3.9/site-packages (from requests<3,>=2.21.0->tensorboard<2.12,>=2.11->tensorflow) (1.26.9)\n",
      "Requirement already satisfied: idna<4,>=2.5 in /opt/conda/envs/saturn/lib/python3.9/site-packages (from requests<3,>=2.21.0->tensorboard<2.12,>=2.11->tensorflow) (3.3)\n",
      "Requirement already satisfied: certifi>=2017.4.17 in /opt/conda/envs/saturn/lib/python3.9/site-packages (from requests<3,>=2.21.0->tensorboard<2.12,>=2.11->tensorflow) (2021.10.8)\n",
      "Requirement already satisfied: oauthlib>=3.0.0 in /opt/conda/envs/saturn/lib/python3.9/site-packages (from requests-oauthlib>=0.7.0->google-auth-oauthlib<0.5,>=0.4.1->tensorboard<2.12,>=2.11->tensorflow) (3.1.0)\n",
      "Requirement already satisfied: pyparsing!=3.0.5,>=2.0.2 in /opt/conda/envs/saturn/lib/python3.9/site-packages (from packaging->tensorflow) (3.0.4)\n"
     ]
    }
   ],
   "source": [
    "!pip install tensorflow"
   ]
  },
  {
   "cell_type": "code",
   "execution_count": 3,
   "metadata": {
    "colab": {
     "base_uri": "https://localhost:8080/"
    },
    "execution": {
     "iopub.execute_input": "2023-02-20T00:58:28.070614Z",
     "iopub.status.busy": "2023-02-20T00:58:28.070295Z",
     "iopub.status.idle": "2023-02-20T00:58:30.845398Z",
     "shell.execute_reply": "2023-02-20T00:58:30.844810Z",
     "shell.execute_reply.started": "2023-02-20T00:58:28.070574Z"
    },
    "id": "OBEQfM7eF1qx",
    "outputId": "563b7353-a671-4d26-9af4-ac871a1bc7dc",
    "tags": []
   },
   "outputs": [
    {
     "name": "stdout",
     "output_type": "stream",
     "text": [
      "Requirement already satisfied: scikit-learn in /opt/conda/envs/saturn/lib/python3.9/site-packages (1.2.1)\n",
      "Requirement already satisfied: numpy>=1.17.3 in /opt/conda/envs/saturn/lib/python3.9/site-packages (from scikit-learn) (1.21.5)\n",
      "Requirement already satisfied: scipy>=1.3.2 in /opt/conda/envs/saturn/lib/python3.9/site-packages (from scikit-learn) (1.7.3)\n",
      "Requirement already satisfied: joblib>=1.1.1 in /opt/conda/envs/saturn/lib/python3.9/site-packages (from scikit-learn) (1.2.0)\n",
      "Requirement already satisfied: threadpoolctl>=2.0.0 in /opt/conda/envs/saturn/lib/python3.9/site-packages (from scikit-learn) (3.1.0)\n"
     ]
    }
   ],
   "source": [
    "!pip install scikit-learn"
   ]
  },
  {
   "cell_type": "code",
   "execution_count": 4,
   "metadata": {
    "execution": {
     "iopub.execute_input": "2023-02-20T00:58:30.846780Z",
     "iopub.status.busy": "2023-02-20T00:58:30.846525Z",
     "iopub.status.idle": "2023-02-20T00:58:34.446916Z",
     "shell.execute_reply": "2023-02-20T00:58:34.446348Z",
     "shell.execute_reply.started": "2023-02-20T00:58:30.846754Z"
    },
    "id": "7phFRstGrxYI",
    "tags": []
   },
   "outputs": [
    {
     "name": "stderr",
     "output_type": "stream",
     "text": [
      "2023-02-20 00:58:31.754524: I tensorflow/core/platform/cpu_feature_guard.cc:193] This TensorFlow binary is optimized with oneAPI Deep Neural Network Library (oneDNN) to use the following CPU instructions in performance-critical operations:  AVX2 AVX512F AVX512_VNNI FMA\n",
      "To enable them in other operations, rebuild TensorFlow with the appropriate compiler flags.\n",
      "2023-02-20 00:58:31.928868: I tensorflow/core/util/port.cc:104] oneDNN custom operations are on. You may see slightly different numerical results due to floating-point round-off errors from different computation orders. To turn them off, set the environment variable `TF_ENABLE_ONEDNN_OPTS=0`.\n",
      "2023-02-20 00:58:32.626217: W tensorflow/compiler/xla/stream_executor/platform/default/dso_loader.cc:64] Could not load dynamic library 'libnvinfer.so.7'; dlerror: libnvinfer.so.7: cannot open shared object file: No such file or directory; LD_LIBRARY_PATH: /usr/local/nvidia/lib:/usr/local/nvidia/lib64\n",
      "2023-02-20 00:58:32.626306: W tensorflow/compiler/xla/stream_executor/platform/default/dso_loader.cc:64] Could not load dynamic library 'libnvinfer_plugin.so.7'; dlerror: libnvinfer_plugin.so.7: cannot open shared object file: No such file or directory; LD_LIBRARY_PATH: /usr/local/nvidia/lib:/usr/local/nvidia/lib64\n",
      "2023-02-20 00:58:32.626317: W tensorflow/compiler/tf2tensorrt/utils/py_utils.cc:38] TF-TRT Warning: Cannot dlopen some TensorRT libraries. If you would like to use Nvidia GPU with TensorRT, please make sure the missing libraries mentioned above are installed properly.\n",
      "/srv/conda/envs/saturn/lib/python3.9/site-packages/requests/__init__.py:102: RequestsDependencyWarning: urllib3 (1.26.9) or chardet (5.1.0)/charset_normalizer (2.0.4) doesn't match a supported version!\n",
      "  warnings.warn(\"urllib3 ({}) or chardet ({})/charset_normalizer ({}) doesn't match a supported \"\n"
     ]
    }
   ],
   "source": [
    "import numpy as np\n",
    "import pandas as pd\n",
    "from random import randint\n",
    "import torch\n",
    "from torch.utils.data import (TensorDataset,\n",
    "                              DataLoader,\n",
    "                              RandomSampler)\n",
    "\n",
    "from tensorflow.keras.preprocessing.sequence import pad_sequences\n",
    "\n",
    "from transformers import AutoConfig, AutoModelForSequenceClassification\n",
    "from transformers import (AutoTokenizer,\n",
    "                          AutoModelForCausalLM,\n",
    "                          Trainer,\n",
    "                          TrainingArguments,\n",
    "                          TrainerCallback,\n",
    "                          AdamW,\n",
    "                          get_linear_schedule_with_warmup)\n",
    "\n",
    "from sklearn.model_selection import train_test_split\n",
    "from sklearn.metrics import classification_report\n",
    "import matplotlib.pyplot as plt"
   ]
  },
  {
   "cell_type": "code",
   "execution_count": 5,
   "metadata": {
    "colab": {
     "base_uri": "https://localhost:8080/"
    },
    "execution": {
     "iopub.execute_input": "2023-02-20T00:58:34.448375Z",
     "iopub.status.busy": "2023-02-20T00:58:34.448038Z",
     "iopub.status.idle": "2023-02-20T00:58:34.509209Z",
     "shell.execute_reply": "2023-02-20T00:58:34.508487Z",
     "shell.execute_reply.started": "2023-02-20T00:58:34.448339Z"
    },
    "id": "sP-aNRMQry7U",
    "outputId": "420c4214-9f8d-4120-8a34-0aaf6b3cdef8",
    "tags": []
   },
   "outputs": [
    {
     "name": "stdout",
     "output_type": "stream",
     "text": [
      "cuda\n",
      "Tesla T4\n"
     ]
    }
   ],
   "source": [
    "device = 'cuda'\n",
    "device = torch.device(device)\n",
    "\n",
    "print(device.type)\n",
    "if device.type == 'cuda':\n",
    "    print(torch.cuda.get_device_name(0))"
   ]
  },
  {
   "cell_type": "code",
   "execution_count": 6,
   "metadata": {
    "colab": {
     "base_uri": "https://localhost:8080/"
    },
    "execution": {
     "iopub.execute_input": "2023-02-20T00:58:34.510505Z",
     "iopub.status.busy": "2023-02-20T00:58:34.510235Z",
     "iopub.status.idle": "2023-02-20T00:58:37.261765Z",
     "shell.execute_reply": "2023-02-20T00:58:37.261147Z",
     "shell.execute_reply.started": "2023-02-20T00:58:34.510472Z"
    },
    "id": "xOVjhJ8uF1qy",
    "outputId": "1a4882b2-19a9-4660-dfba-e1cd13f36c17",
    "tags": []
   },
   "outputs": [
    {
     "name": "stdout",
     "output_type": "stream",
     "text": [
      "Requirement already satisfied: chardet in /opt/conda/envs/saturn/lib/python3.9/site-packages (5.1.0)\n"
     ]
    }
   ],
   "source": [
    "!pip install chardet"
   ]
  },
  {
   "cell_type": "code",
   "execution_count": 7,
   "metadata": {
    "colab": {
     "base_uri": "https://localhost:8080/"
    },
    "execution": {
     "iopub.execute_input": "2023-02-20T00:58:37.264185Z",
     "iopub.status.busy": "2023-02-20T00:58:37.263928Z",
     "iopub.status.idle": "2023-02-20T00:58:37.421931Z",
     "shell.execute_reply": "2023-02-20T00:58:37.421169Z",
     "shell.execute_reply.started": "2023-02-20T00:58:37.264160Z"
    },
    "id": "2QOtqSt3F1qy",
    "outputId": "a205aa04-7718-42bb-e486-3d81550390a6",
    "tags": []
   },
   "outputs": [
    {
     "data": {
      "text/plain": [
       "{'encoding': 'UTF-8-SIG', 'confidence': 1.0, 'language': ''}"
      ]
     },
     "execution_count": 7,
     "metadata": {},
     "output_type": "execute_result"
    }
   ],
   "source": [
    "import chardet\n",
    "with open('2 STEP (название).csv', 'rb') as rawdata:\n",
    "    result = chardet.detect(rawdata.read(100000))\n",
    "result"
   ]
  },
  {
   "cell_type": "code",
   "execution_count": 8,
   "metadata": {
    "colab": {
     "base_uri": "https://localhost:8080/"
    },
    "execution": {
     "iopub.execute_input": "2023-02-20T00:58:37.423012Z",
     "iopub.status.busy": "2023-02-20T00:58:37.422780Z",
     "iopub.status.idle": "2023-02-20T00:58:37.700725Z",
     "shell.execute_reply": "2023-02-20T00:58:37.700162Z",
     "shell.execute_reply.started": "2023-02-20T00:58:37.422981Z"
    },
    "id": "QZikC1XEr0je",
    "outputId": "7ad97536-ec35-4259-8c07-05b86e5af16f",
    "tags": []
   },
   "outputs": [
    {
     "data": {
      "text/plain": [
       "(105000, 3)"
      ]
     },
     "execution_count": 8,
     "metadata": {},
     "output_type": "execute_result"
    }
   ],
   "source": [
    "df = pd.read_csv('2 STEP (название).csv', encoding='UTF-8-SIG', sep=';')\n",
    "# Размер нашей выборки\n",
    "df.shape"
   ]
  },
  {
   "cell_type": "code",
   "execution_count": 9,
   "metadata": {
    "colab": {
     "base_uri": "https://localhost:8080/",
     "height": 206
    },
    "execution": {
     "iopub.execute_input": "2023-02-20T00:58:37.701919Z",
     "iopub.status.busy": "2023-02-20T00:58:37.701654Z",
     "iopub.status.idle": "2023-02-20T00:58:37.712634Z",
     "shell.execute_reply": "2023-02-20T00:58:37.712090Z",
     "shell.execute_reply.started": "2023-02-20T00:58:37.701890Z"
    },
    "id": "PBKA0cHgt6mL",
    "outputId": "eb1204ad-d7a3-4c93-b82a-f6f8a734c906",
    "tags": []
   },
   "outputs": [
    {
     "data": {
      "text/html": [
       "<div>\n",
       "<style scoped>\n",
       "    .dataframe tbody tr th:only-of-type {\n",
       "        vertical-align: middle;\n",
       "    }\n",
       "\n",
       "    .dataframe tbody tr th {\n",
       "        vertical-align: top;\n",
       "    }\n",
       "\n",
       "    .dataframe thead th {\n",
       "        text-align: right;\n",
       "    }\n",
       "</style>\n",
       "<table border=\"1\" class=\"dataframe\">\n",
       "  <thead>\n",
       "    <tr style=\"text-align: right;\">\n",
       "      <th></th>\n",
       "      <th>Unnamed: 0</th>\n",
       "      <th>name</th>\n",
       "      <th>category_1</th>\n",
       "    </tr>\n",
       "  </thead>\n",
       "  <tbody>\n",
       "    <tr>\n",
       "      <th>52633</th>\n",
       "      <td>61599</td>\n",
       "      <td>Мужчину с молотком обезвредили в мечети возле ...</td>\n",
       "      <td>Происшествия</td>\n",
       "    </tr>\n",
       "    <tr>\n",
       "      <th>67647</th>\n",
       "      <td>31494</td>\n",
       "      <td>Посмеявшихся над зарплатами сотрудниц роддома ...</td>\n",
       "      <td>Общество</td>\n",
       "    </tr>\n",
       "    <tr>\n",
       "      <th>8966</th>\n",
       "      <td>40045</td>\n",
       "      <td>Боевики ИГ опубликовали интервью с захваченным...</td>\n",
       "      <td>Общество</td>\n",
       "    </tr>\n",
       "    <tr>\n",
       "      <th>101789</th>\n",
       "      <td>82520</td>\n",
       "      <td>Чубайс отказался считать фатальным отсутствие ...</td>\n",
       "      <td>Госэкономика</td>\n",
       "    </tr>\n",
       "    <tr>\n",
       "      <th>56675</th>\n",
       "      <td>30515</td>\n",
       "      <td>Названа цена расселения пострадавшего от взрыв...</td>\n",
       "      <td>Общество</td>\n",
       "    </tr>\n",
       "  </tbody>\n",
       "</table>\n",
       "</div>"
      ],
      "text/plain": [
       "        Unnamed: 0                                               name  \\\n",
       "52633        61599  Мужчину с молотком обезвредили в мечети возле ...   \n",
       "67647        31494  Посмеявшихся над зарплатами сотрудниц роддома ...   \n",
       "8966         40045  Боевики ИГ опубликовали интервью с захваченным...   \n",
       "101789       82520  Чубайс отказался считать фатальным отсутствие ...   \n",
       "56675        30515  Названа цена расселения пострадавшего от взрыв...   \n",
       "\n",
       "          category_1  \n",
       "52633   Происшествия  \n",
       "67647       Общество  \n",
       "8966        Общество  \n",
       "101789  Госэкономика  \n",
       "56675       Общество  "
      ]
     },
     "execution_count": 9,
     "metadata": {},
     "output_type": "execute_result"
    }
   ],
   "source": [
    "df.sample(5)"
   ]
  },
  {
   "cell_type": "code",
   "execution_count": 10,
   "metadata": {
    "colab": {
     "base_uri": "https://localhost:8080/"
    },
    "execution": {
     "iopub.execute_input": "2023-02-20T00:58:37.713627Z",
     "iopub.status.busy": "2023-02-20T00:58:37.713400Z",
     "iopub.status.idle": "2023-02-20T00:58:37.723426Z",
     "shell.execute_reply": "2023-02-20T00:58:37.722914Z",
     "shell.execute_reply.started": "2023-02-20T00:58:37.713605Z"
    },
    "id": "6HeuKAwIt-lK",
    "outputId": "a122a808-8f15-4eb9-c403-022516708ae3",
    "tags": []
   },
   "outputs": [
    {
     "data": {
      "text/plain": [
       "array(['Все', 'Украина', 'Футбол', 'Общество', 'Политика', 'Происшествия',\n",
       "       'Госэкономика'], dtype=object)"
      ]
     },
     "execution_count": 10,
     "metadata": {},
     "output_type": "execute_result"
    }
   ],
   "source": [
    "df.category_1.unique()"
   ]
  },
  {
   "cell_type": "code",
   "execution_count": 11,
   "metadata": {
    "execution": {
     "iopub.execute_input": "2023-02-20T00:58:37.724578Z",
     "iopub.status.busy": "2023-02-20T00:58:37.724312Z",
     "iopub.status.idle": "2023-02-20T00:58:37.740804Z",
     "shell.execute_reply": "2023-02-20T00:58:37.740253Z",
     "shell.execute_reply.started": "2023-02-20T00:58:37.724546Z"
    },
    "id": "VaVzTbKbuZjn",
    "tags": []
   },
   "outputs": [],
   "source": [
    "# Присвоим каждой категории индекс, чтобы подавать в модель\n",
    "category_index = {i[1]:i[0] for i in enumerate(df.category_1.unique())}\n",
    "# обратное преобразование - индекс метки в текст, этот словарь нам понадобится \n",
    "# после обучения для большей наглядности, чтобы видеть, к какой категории товар \n",
    "# отнесён моделью\n",
    "category_index_reverce = {i[0]:i[1] for i in enumerate(df.category_1.unique())}"
   ]
  },
  {
   "cell_type": "code",
   "execution_count": 12,
   "metadata": {
    "colab": {
     "base_uri": "https://localhost:8080/"
    },
    "execution": {
     "iopub.execute_input": "2023-02-20T00:58:37.741932Z",
     "iopub.status.busy": "2023-02-20T00:58:37.741670Z",
     "iopub.status.idle": "2023-02-20T00:58:37.746458Z",
     "shell.execute_reply": "2023-02-20T00:58:37.745937Z",
     "shell.execute_reply.started": "2023-02-20T00:58:37.741906Z"
    },
    "id": "vLwLVkg3ubY_",
    "outputId": "eb1a8f49-225c-4410-bfd1-d82d9369c4b8",
    "tags": []
   },
   "outputs": [
    {
     "data": {
      "text/plain": [
       "{'Все': 0,\n",
       " 'Украина': 1,\n",
       " 'Футбол': 2,\n",
       " 'Общество': 3,\n",
       " 'Политика': 4,\n",
       " 'Происшествия': 5,\n",
       " 'Госэкономика': 6}"
      ]
     },
     "execution_count": 12,
     "metadata": {},
     "output_type": "execute_result"
    }
   ],
   "source": [
    "category_index"
   ]
  },
  {
   "cell_type": "code",
   "execution_count": 13,
   "metadata": {
    "colab": {
     "base_uri": "https://localhost:8080/"
    },
    "execution": {
     "iopub.execute_input": "2023-02-20T00:58:37.747500Z",
     "iopub.status.busy": "2023-02-20T00:58:37.747283Z",
     "iopub.status.idle": "2023-02-20T00:58:37.751468Z",
     "shell.execute_reply": "2023-02-20T00:58:37.750870Z",
     "shell.execute_reply.started": "2023-02-20T00:58:37.747479Z"
    },
    "id": "O1dSD8gXF1q0",
    "outputId": "17f5e56c-3d8b-4873-d758-bf2ff5959e8d",
    "tags": []
   },
   "outputs": [
    {
     "data": {
      "text/plain": [
       "{0: 'Все',\n",
       " 1: 'Украина',\n",
       " 2: 'Футбол',\n",
       " 3: 'Общество',\n",
       " 4: 'Политика',\n",
       " 5: 'Происшествия',\n",
       " 6: 'Госэкономика'}"
      ]
     },
     "execution_count": 13,
     "metadata": {},
     "output_type": "execute_result"
    }
   ],
   "source": [
    "category_index_reverce"
   ]
  },
  {
   "cell_type": "code",
   "execution_count": 14,
   "metadata": {
    "execution": {
     "iopub.execute_input": "2023-02-20T00:58:37.752449Z",
     "iopub.status.busy": "2023-02-20T00:58:37.752261Z",
     "iopub.status.idle": "2023-02-20T00:58:37.761759Z",
     "shell.execute_reply": "2023-02-20T00:58:37.761270Z",
     "shell.execute_reply.started": "2023-02-20T00:58:37.752430Z"
    },
    "id": "FCM9mjgHueWh",
    "tags": []
   },
   "outputs": [],
   "source": [
    "# Переведём все метки датасета в числа\n",
    "sentences = df.name.values\n",
    "labels = [category_index[i] for i in df.category_1.values]"
   ]
  },
  {
   "cell_type": "code",
   "execution_count": 15,
   "metadata": {
    "colab": {
     "base_uri": "https://localhost:8080/"
    },
    "execution": {
     "iopub.execute_input": "2023-02-20T00:58:37.762629Z",
     "iopub.status.busy": "2023-02-20T00:58:37.762490Z",
     "iopub.status.idle": "2023-02-20T00:58:37.767157Z",
     "shell.execute_reply": "2023-02-20T00:58:37.766671Z",
     "shell.execute_reply.started": "2023-02-20T00:58:37.762612Z"
    },
    "id": "q2RL4VMyughp",
    "outputId": "494be860-4121-46dc-fa64-1e9e73eaa3f0",
    "tags": []
   },
   "outputs": [
    {
     "data": {
      "text/plain": [
       "(' а пять лет спустя был избран на второй срок. На посту президента в 2005 году его сменил Сергей Багапш. В ходе грузино-абхазского вооруженного конфликта Ардзинба руководил государственным комитетом обороны. Пост президента он занял в 1994 году',\n",
       " 0)"
      ]
     },
     "execution_count": 15,
     "metadata": {},
     "output_type": "execute_result"
    }
   ],
   "source": [
    "# Каждому предложению (названию товара) теперь соответсвует не название категории, а её индекс:\n",
    "sentences[22], labels[22]"
   ]
  },
  {
   "cell_type": "code",
   "execution_count": 16,
   "metadata": {
    "execution": {
     "iopub.execute_input": "2023-02-20T00:58:37.768061Z",
     "iopub.status.busy": "2023-02-20T00:58:37.767851Z",
     "iopub.status.idle": "2023-02-20T00:58:37.771053Z",
     "shell.execute_reply": "2023-02-20T00:58:37.770504Z",
     "shell.execute_reply.started": "2023-02-20T00:58:37.768041Z"
    },
    "id": "ebipCQUFukG2",
    "tags": []
   },
   "outputs": [],
   "source": [
    "# Проверим, что все данные корректны\n",
    "assert len(sentences) == len(labels) == df.shape[0]"
   ]
  },
  {
   "cell_type": "code",
   "execution_count": 17,
   "metadata": {
    "execution": {
     "iopub.execute_input": "2023-02-20T00:58:37.772276Z",
     "iopub.status.busy": "2023-02-20T00:58:37.771995Z",
     "iopub.status.idle": "2023-02-20T00:58:37.806457Z",
     "shell.execute_reply": "2023-02-20T00:58:37.805983Z",
     "shell.execute_reply.started": "2023-02-20T00:58:37.772244Z"
    },
    "id": "6bLlupUcumwY",
    "tags": []
   },
   "outputs": [],
   "source": [
    "sentences = ['[CLS] ' + sentence + ' [SEP]' for sentence in sentences]"
   ]
  },
  {
   "cell_type": "code",
   "execution_count": 18,
   "metadata": {
    "execution": {
     "iopub.execute_input": "2023-02-20T00:58:37.807833Z",
     "iopub.status.busy": "2023-02-20T00:58:37.807325Z",
     "iopub.status.idle": "2023-02-20T00:58:37.846430Z",
     "shell.execute_reply": "2023-02-20T00:58:37.845866Z",
     "shell.execute_reply.started": "2023-02-20T00:58:37.807799Z"
    },
    "id": "RmDoRwT7uq0f",
    "tags": []
   },
   "outputs": [],
   "source": [
    "train_sentences, test_sentences, train_category, test_category = train_test_split(sentences, labels, test_size=0.005)"
   ]
  },
  {
   "cell_type": "code",
   "execution_count": 19,
   "metadata": {
    "colab": {
     "base_uri": "https://localhost:8080/"
    },
    "execution": {
     "iopub.execute_input": "2023-02-20T00:58:37.847718Z",
     "iopub.status.busy": "2023-02-20T00:58:37.847500Z",
     "iopub.status.idle": "2023-02-20T00:58:37.851976Z",
     "shell.execute_reply": "2023-02-20T00:58:37.851373Z",
     "shell.execute_reply.started": "2023-02-20T00:58:37.847690Z"
    },
    "id": "8lOPCZhHuuO2",
    "outputId": "0198c2fb-9b49-4fc5-854b-a665b37fc6c7",
    "tags": []
   },
   "outputs": [
    {
     "data": {
      "text/plain": [
       "(104475, 525)"
      ]
     },
     "execution_count": 19,
     "metadata": {},
     "output_type": "execute_result"
    }
   ],
   "source": [
    "len(train_sentences), len(test_sentences)"
   ]
  },
  {
   "cell_type": "code",
   "execution_count": 42,
   "metadata": {
    "colab": {
     "base_uri": "https://localhost:8080/"
    },
    "execution": {
     "iopub.execute_input": "2023-02-20T01:01:12.518194Z",
     "iopub.status.busy": "2023-02-20T01:01:12.517895Z",
     "iopub.status.idle": "2023-02-20T01:01:16.345428Z",
     "shell.execute_reply": "2023-02-20T01:01:16.344852Z",
     "shell.execute_reply.started": "2023-02-20T01:01:12.518169Z"
    },
    "id": "5duuGlNYuwxU",
    "outputId": "28f1f075-152b-4193-9c85-881c7182e061",
    "tags": []
   },
   "outputs": [
    {
     "name": "stderr",
     "output_type": "stream",
     "text": [
      "Some weights of the model checkpoint at bert-base-uncased were not used when initializing BertForMaskedLM: ['cls.seq_relationship.weight', 'cls.seq_relationship.bias']\n",
      "- This IS expected if you are initializing BertForMaskedLM from the checkpoint of a model trained on another task or with another architecture (e.g. initializing a BertForSequenceClassification model from a BertForPreTraining model).\n",
      "- This IS NOT expected if you are initializing BertForMaskedLM from the checkpoint of a model that you expect to be exactly identical (initializing a BertForSequenceClassification model from a BertForSequenceClassification model).\n"
     ]
    }
   ],
   "source": [
    "from transformers import BertTokenizer, BertForMaskedLM\n",
    "import torch\n",
    "\n",
    "tokenizer = BertTokenizer.from_pretrained('bert-base-uncased')\n",
    "model = BertForMaskedLM.from_pretrained('bert-base-uncased')"
   ]
  },
  {
   "cell_type": "code",
   "execution_count": 43,
   "metadata": {
    "execution": {
     "iopub.execute_input": "2023-02-20T01:01:18.479258Z",
     "iopub.status.busy": "2023-02-20T01:01:18.478969Z",
     "iopub.status.idle": "2023-02-20T01:01:56.310422Z",
     "shell.execute_reply": "2023-02-20T01:01:56.309881Z",
     "shell.execute_reply.started": "2023-02-20T01:01:18.479233Z"
    },
    "id": "ydwWyruWvSE5",
    "tags": []
   },
   "outputs": [],
   "source": [
    "tokenized_texts = [tokenizer.tokenize(sent) for sent in train_sentences]"
   ]
  },
  {
   "cell_type": "code",
   "execution_count": 44,
   "metadata": {
    "colab": {
     "base_uri": "https://localhost:8080/"
    },
    "execution": {
     "iopub.execute_input": "2023-02-20T01:01:56.312075Z",
     "iopub.status.busy": "2023-02-20T01:01:56.311772Z",
     "iopub.status.idle": "2023-02-20T01:01:56.316433Z",
     "shell.execute_reply": "2023-02-20T01:01:56.315786Z",
     "shell.execute_reply.started": "2023-02-20T01:01:56.312039Z"
    },
    "id": "zudXX-SovVEf",
    "outputId": "18ec327a-78d9-4d6f-d7f7-f219643498b9",
    "tags": []
   },
   "outputs": [
    {
     "name": "stdout",
     "output_type": "stream",
     "text": [
      "['[CLS]', 'fitch', 'п', '##о', '##д', '##т', '##в', '##е', '##р', '##д', '##и', '##л', '##о', 'р', '##е', '##и', '##т', '##и', '##н', '##г', 'р', '##о', '##с', '##с', '##ии', 'н', '##а', 'и', '##н', '##в', '##е', '##с', '##т', '##и', '##ц', '##и', '##о', '##н', '##н', '##о', '##м', 'у', '##р', '##ов', '##н', '##е', '[SEP]']\n"
     ]
    }
   ],
   "source": [
    "# Посмотрим, что получилось\n",
    "print(tokenized_texts[42])"
   ]
  },
  {
   "cell_type": "code",
   "execution_count": 45,
   "metadata": {
    "execution": {
     "iopub.execute_input": "2023-02-20T01:01:56.317678Z",
     "iopub.status.busy": "2023-02-20T01:01:56.317256Z",
     "iopub.status.idle": "2023-02-20T01:01:59.602892Z",
     "shell.execute_reply": "2023-02-20T01:01:59.602363Z",
     "shell.execute_reply.started": "2023-02-20T01:01:56.317656Z"
    },
    "id": "TMJxzEplvZhM",
    "tags": []
   },
   "outputs": [],
   "source": [
    "# ииндексы токенов\n",
    "input_ids = [tokenizer.convert_tokens_to_ids(x) for x in tokenized_texts]"
   ]
  },
  {
   "cell_type": "code",
   "execution_count": 46,
   "metadata": {
    "colab": {
     "base_uri": "https://localhost:8080/",
     "height": 352
    },
    "execution": {
     "iopub.execute_input": "2023-02-20T01:01:59.604379Z",
     "iopub.status.busy": "2023-02-20T01:01:59.604153Z",
     "iopub.status.idle": "2023-02-20T01:02:00.024777Z",
     "shell.execute_reply": "2023-02-20T01:02:00.023984Z",
     "shell.execute_reply.started": "2023-02-20T01:01:59.604356Z"
    },
    "id": "sYwnpHAZvbaV",
    "outputId": "566bf053-e9fb-4096-c80a-a24f927349a1",
    "tags": []
   },
   "outputs": [
    {
     "data": {
      "text/plain": [
       "(array([1.8885e+04, 8.5358e+04, 1.3000e+02, 4.5000e+01, 2.2000e+01,\n",
       "        1.6000e+01, 6.0000e+00, 8.0000e+00, 1.0000e+00, 4.0000e+00]),\n",
       " array([  5. ,  39.2,  73.4, 107.6, 141.8, 176. , 210.2, 244.4, 278.6,\n",
       "        312.8, 347. ]),\n",
       " <BarContainer object of 10 artists>)"
      ]
     },
     "execution_count": 46,
     "metadata": {},
     "output_type": "execute_result"
    },
    {
     "data": {
      "image/png": "[encoded data removed]",
      "text/plain": [
       "<Figure size 432x288 with 1 Axes>"
      ]
     },
     "metadata": {
      "needs_background": "light"
     },
     "output_type": "display_data"
    }
   ],
   "source": [
    "# Соберём все размеры последовательностей\n",
    "lenths = [len(sent) for sent in tokenized_texts]\n",
    "# Посмотрим, как они распределяются\n",
    "plt.hist(lenths)"
   ]
  },
  {
   "cell_type": "code",
   "execution_count": 47,
   "metadata": {
    "execution": {
     "iopub.execute_input": "2023-02-20T01:02:00.026411Z",
     "iopub.status.busy": "2023-02-20T01:02:00.025863Z",
     "iopub.status.idle": "2023-02-20T01:02:00.366656Z",
     "shell.execute_reply": "2023-02-20T01:02:00.366025Z",
     "shell.execute_reply.started": "2023-02-20T01:02:00.026373Z"
    },
    "id": "obLVv2Qzvd4H",
    "tags": []
   },
   "outputs": [],
   "source": [
    "# Выравниваем датасет. Возьмём размер, равный 24\n",
    "input_ids = pad_sequences(\n",
    "    input_ids,\n",
    "    # максимальная длина предложения\n",
    "    maxlen=24,\n",
    "    dtype='long',\n",
    "    truncating='post',\n",
    "    padding='post'\n",
    ")"
   ]
  },
  {
   "cell_type": "code",
   "execution_count": 48,
   "metadata": {
    "colab": {
     "base_uri": "https://localhost:8080/"
    },
    "execution": {
     "iopub.execute_input": "2023-02-20T01:02:00.369167Z",
     "iopub.status.busy": "2023-02-20T01:02:00.368915Z",
     "iopub.status.idle": "2023-02-20T01:02:00.373459Z",
     "shell.execute_reply": "2023-02-20T01:02:00.372829Z",
     "shell.execute_reply.started": "2023-02-20T01:02:00.369145Z"
    },
    "id": "7nwOAQxkvf1f",
    "outputId": "b1ccd0ad-b913-452e-d977-0877af7ad6e0",
    "tags": []
   },
   "outputs": [
    {
     "data": {
      "text/plain": [
       "array([  101, 26062,  1194, 14150, 29742, 22919, 25529, 15290, 16856,\n",
       "       29742, 10325, 29436, 14150,  1195, 15290, 10325, 22919, 10325,\n",
       "       18947, 29741,  1195, 14150, 29747, 29747])"
      ]
     },
     "execution_count": 48,
     "metadata": {},
     "output_type": "execute_result"
    }
   ],
   "source": [
    "\n",
    "# Вот, что у нас в результате получилось\n",
    "# Как видно, в этом примере меньше 24 токенов, поэтому в конец был добавлен паддинг\n",
    "input_ids[42]\n",
    "     "
   ]
  },
  {
   "cell_type": "code",
   "execution_count": 49,
   "metadata": {
    "execution": {
     "iopub.execute_input": "2023-02-20T01:02:00.374902Z",
     "iopub.status.busy": "2023-02-20T01:02:00.374502Z",
     "iopub.status.idle": "2023-02-20T01:02:01.821285Z",
     "shell.execute_reply": "2023-02-20T01:02:01.820754Z",
     "shell.execute_reply.started": "2023-02-20T01:02:00.374868Z"
    },
    "id": "fRblzCWLvij_",
    "tags": []
   },
   "outputs": [],
   "source": [
    "\n",
    "# Создадим маску внимания для каждого сэмпла обучающей выборки.\n",
    "# единицами отметим те токены, которые нужно учитывать при обучении и вычислении градиентов,\n",
    "# нулями - те, которые следует пропустить.\n",
    "attention_masks = [[float(i>0) for i in seq] for seq in input_ids]"
   ]
  },
  {
   "cell_type": "code",
   "execution_count": 50,
   "metadata": {
    "colab": {
     "base_uri": "https://localhost:8080/"
    },
    "execution": {
     "iopub.execute_input": "2023-02-20T01:02:01.822351Z",
     "iopub.status.busy": "2023-02-20T01:02:01.822110Z",
     "iopub.status.idle": "2023-02-20T01:02:01.826175Z",
     "shell.execute_reply": "2023-02-20T01:02:01.825522Z",
     "shell.execute_reply.started": "2023-02-20T01:02:01.822329Z"
    },
    "id": "PnHS4sGpvjxv",
    "outputId": "195ac676-940f-49b2-c157-27be224f13f9",
    "tags": []
   },
   "outputs": [
    {
     "name": "stdout",
     "output_type": "stream",
     "text": [
      "[1.0, 1.0, 1.0, 1.0, 1.0, 1.0, 1.0, 1.0, 1.0, 1.0, 1.0, 1.0, 1.0, 1.0, 1.0, 1.0, 1.0, 1.0, 1.0, 1.0, 1.0, 1.0, 1.0, 1.0]\n"
     ]
    }
   ],
   "source": [
    "\n",
    "print(attention_masks[42])"
   ]
  },
  {
   "cell_type": "code",
   "execution_count": 51,
   "metadata": {
    "execution": {
     "iopub.execute_input": "2023-02-20T01:02:01.827291Z",
     "iopub.status.busy": "2023-02-20T01:02:01.827064Z",
     "iopub.status.idle": "2023-02-20T01:02:01.830587Z",
     "shell.execute_reply": "2023-02-20T01:02:01.829979Z",
     "shell.execute_reply.started": "2023-02-20T01:02:01.827270Z"
    },
    "id": "6QNhQ4kivmNM",
    "tags": []
   },
   "outputs": [],
   "source": [
    "# каждая маска соответсвует своей последовательности\n",
    "assert len(input_ids[42]) == len(attention_masks[42])"
   ]
  },
  {
   "cell_type": "code",
   "execution_count": 52,
   "metadata": {
    "execution": {
     "iopub.execute_input": "2023-02-20T01:02:01.832369Z",
     "iopub.status.busy": "2023-02-20T01:02:01.832148Z",
     "iopub.status.idle": "2023-02-20T01:02:01.890740Z",
     "shell.execute_reply": "2023-02-20T01:02:01.890238Z",
     "shell.execute_reply.started": "2023-02-20T01:02:01.832347Z"
    },
    "id": "Nh28tQ5jvniL",
    "tags": []
   },
   "outputs": [],
   "source": [
    "train_inputs, validation_inputs, train_labels, validation_labels = train_test_split(\n",
    "    input_ids, train_category, \n",
    "    random_state=42,\n",
    "    test_size=0.1\n",
    ")\n",
    "\n",
    "train_masks, validation_masks, _, _ = train_test_split(\n",
    "    attention_masks,\n",
    "    input_ids,\n",
    "    random_state=42,\n",
    "    test_size=0.1\n",
    ")"
   ]
  },
  {
   "cell_type": "code",
   "execution_count": 53,
   "metadata": {
    "execution": {
     "iopub.execute_input": "2023-02-20T01:02:01.891861Z",
     "iopub.status.busy": "2023-02-20T01:02:01.891650Z",
     "iopub.status.idle": "2023-02-20T01:02:01.896355Z",
     "shell.execute_reply": "2023-02-20T01:02:01.895828Z",
     "shell.execute_reply.started": "2023-02-20T01:02:01.891841Z"
    },
    "id": "_CyXsiTJvqaC",
    "tags": []
   },
   "outputs": [],
   "source": [
    "assert len(train_inputs) == len(train_labels) == len(train_masks)\n",
    "assert len(validation_inputs) == len(validation_labels) == len(validation_masks)"
   ]
  },
  {
   "cell_type": "code",
   "execution_count": 54,
   "metadata": {
    "execution": {
     "iopub.execute_input": "2023-02-20T01:02:01.897235Z",
     "iopub.status.busy": "2023-02-20T01:02:01.897083Z",
     "iopub.status.idle": "2023-02-20T01:02:02.127927Z",
     "shell.execute_reply": "2023-02-20T01:02:02.127292Z",
     "shell.execute_reply.started": "2023-02-20T01:02:01.897217Z"
    },
    "id": "BZjiYOzbvsI8",
    "tags": []
   },
   "outputs": [],
   "source": [
    "train_inputs = torch.tensor(train_inputs)\n",
    "train_labels = torch.tensor(train_labels)\n",
    "train_masks = torch.tensor(train_masks)\n",
    "\n",
    "validation_inputs = torch.tensor(validation_inputs)\n",
    "validation_labels = torch.tensor(validation_labels)\n",
    "validation_masks = torch.tensor(validation_masks)"
   ]
  },
  {
   "cell_type": "code",
   "execution_count": 55,
   "metadata": {
    "execution": {
     "iopub.execute_input": "2023-02-20T01:02:02.129401Z",
     "iopub.status.busy": "2023-02-20T01:02:02.128932Z",
     "iopub.status.idle": "2023-02-20T01:02:02.132894Z",
     "shell.execute_reply": "2023-02-20T01:02:02.132182Z",
     "shell.execute_reply.started": "2023-02-20T01:02:02.129361Z"
    },
    "id": "p8CZ2SrnwKzp",
    "tags": []
   },
   "outputs": [],
   "source": [
    "from torch.utils.data import SequentialSampler"
   ]
  },
  {
   "cell_type": "code",
   "execution_count": 56,
   "metadata": {
    "execution": {
     "iopub.execute_input": "2023-02-20T01:02:02.134344Z",
     "iopub.status.busy": "2023-02-20T01:02:02.133925Z",
     "iopub.status.idle": "2023-02-20T01:02:02.139933Z",
     "shell.execute_reply": "2023-02-20T01:02:02.139355Z",
     "shell.execute_reply.started": "2023-02-20T01:02:02.134315Z"
    },
    "id": "kDAfR81svusf",
    "tags": []
   },
   "outputs": [],
   "source": [
    "# специальная обёртка для работы с Тензор-датасетами, в Pytorch есть и другие,\n",
    "# также можно и свою обёртку написать, для нашей же задачи вполне хватит уже существующих\n",
    "# в библиотеке инструментов. Используя их мы существенно сокращаем свой код.\n",
    "train_data = TensorDataset(train_inputs, train_masks, train_labels)\n",
    "train_dataloader = DataLoader(\n",
    "    train_data,\n",
    "    # Данные по батчам разбиваем произвольно с помощью RandomSampler\n",
    "    sampler=RandomSampler(train_data),\n",
    "    batch_size=64\n",
    ")\n",
    "validation_data = TensorDataset(validation_inputs, validation_masks, validation_labels)\n",
    "validation_dataloader = DataLoader(\n",
    "    validation_data,\n",
    "    sampler=SequentialSampler(validation_data),\n",
    "    batch_size=64\n",
    ")"
   ]
  },
  {
   "cell_type": "code",
   "execution_count": 57,
   "metadata": {
    "execution": {
     "iopub.execute_input": "2023-02-20T01:02:02.141082Z",
     "iopub.status.busy": "2023-02-20T01:02:02.140900Z",
     "iopub.status.idle": "2023-02-20T01:02:02.221988Z",
     "shell.execute_reply": "2023-02-20T01:02:02.220865Z",
     "shell.execute_reply.started": "2023-02-20T01:02:02.141059Z"
    },
    "id": "-KI9-DRwwPaa",
    "tags": []
   },
   "outputs": [],
   "source": [
    "config = AutoConfig.from_pretrained(\"bert-base-uncased\",\n",
    "                                    num_labels=len(category_index),\n",
    "                                    id2label=category_index_reverce,\n",
    "                                    label2id=category_index)"
   ]
  },
  {
   "cell_type": "code",
   "execution_count": 58,
   "metadata": {
    "execution": {
     "iopub.execute_input": "2023-02-20T01:02:02.223285Z",
     "iopub.status.busy": "2023-02-20T01:02:02.223011Z",
     "iopub.status.idle": "2023-02-20T01:02:03.331910Z",
     "shell.execute_reply": "2023-02-20T01:02:03.331344Z",
     "shell.execute_reply.started": "2023-02-20T01:02:02.223254Z"
    },
    "id": "6g_UTEyVwa6J",
    "tags": []
   },
   "outputs": [
    {
     "name": "stderr",
     "output_type": "stream",
     "text": [
      "Some weights of the model checkpoint at bert-base-uncased were not used when initializing BertForSequenceClassification: ['cls.predictions.transform.dense.weight', 'cls.predictions.decoder.weight', 'cls.predictions.transform.dense.bias', 'cls.predictions.transform.LayerNorm.weight', 'cls.predictions.bias', 'cls.predictions.transform.LayerNorm.bias', 'cls.seq_relationship.weight', 'cls.seq_relationship.bias']\n",
      "- This IS expected if you are initializing BertForSequenceClassification from the checkpoint of a model trained on another task or with another architecture (e.g. initializing a BertForSequenceClassification model from a BertForPreTraining model).\n",
      "- This IS NOT expected if you are initializing BertForSequenceClassification from the checkpoint of a model that you expect to be exactly identical (initializing a BertForSequenceClassification model from a BertForSequenceClassification model).\n",
      "Some weights of BertForSequenceClassification were not initialized from the model checkpoint at bert-base-uncased and are newly initialized: ['classifier.bias', 'classifier.weight']\n",
      "You should probably TRAIN this model on a down-stream task to be able to use it for predictions and inference.\n"
     ]
    }
   ],
   "source": [
    "#Загружаем модель, передаём ей наш конфиг\n",
    "model = AutoModelForSequenceClassification.from_pretrained(\"bert-base-uncased\", config=config)"
   ]
  },
  {
   "cell_type": "code",
   "execution_count": 59,
   "metadata": {
    "colab": {
     "base_uri": "https://localhost:8080/"
    },
    "execution": {
     "iopub.execute_input": "2023-02-20T01:02:03.333185Z",
     "iopub.status.busy": "2023-02-20T01:02:03.332930Z",
     "iopub.status.idle": "2023-02-20T01:02:06.416264Z",
     "shell.execute_reply": "2023-02-20T01:02:06.415620Z",
     "shell.execute_reply.started": "2023-02-20T01:02:03.333138Z"
    },
    "id": "0yYqD7GfwlXZ",
    "outputId": "a61f627e-f8bf-47d5-ec13-a872ebfdcc22",
    "tags": []
   },
   "outputs": [
    {
     "data": {
      "text/plain": [
       "BertForSequenceClassification(\n",
       "  (bert): BertModel(\n",
       "    (embeddings): BertEmbeddings(\n",
       "      (word_embeddings): Embedding(30522, 768, padding_idx=0)\n",
       "      (position_embeddings): Embedding(512, 768)\n",
       "      (token_type_embeddings): Embedding(2, 768)\n",
       "      (LayerNorm): LayerNorm((768,), eps=1e-12, elementwise_affine=True)\n",
       "      (dropout): Dropout(p=0.1, inplace=False)\n",
       "    )\n",
       "    (encoder): BertEncoder(\n",
       "      (layer): ModuleList(\n",
       "        (0): BertLayer(\n",
       "          (attention): BertAttention(\n",
       "            (self): BertSelfAttention(\n",
       "              (query): Linear(in_features=768, out_features=768, bias=True)\n",
       "              (key): Linear(in_features=768, out_features=768, bias=True)\n",
       "              (value): Linear(in_features=768, out_features=768, bias=True)\n",
       "              (dropout): Dropout(p=0.1, inplace=False)\n",
       "            )\n",
       "            (output): BertSelfOutput(\n",
       "              (dense): Linear(in_features=768, out_features=768, bias=True)\n",
       "              (LayerNorm): LayerNorm((768,), eps=1e-12, elementwise_affine=True)\n",
       "              (dropout): Dropout(p=0.1, inplace=False)\n",
       "            )\n",
       "          )\n",
       "          (intermediate): BertIntermediate(\n",
       "            (dense): Linear(in_features=768, out_features=3072, bias=True)\n",
       "            (intermediate_act_fn): GELUActivation()\n",
       "          )\n",
       "          (output): BertOutput(\n",
       "            (dense): Linear(in_features=3072, out_features=768, bias=True)\n",
       "            (LayerNorm): LayerNorm((768,), eps=1e-12, elementwise_affine=True)\n",
       "            (dropout): Dropout(p=0.1, inplace=False)\n",
       "          )\n",
       "        )\n",
       "        (1): BertLayer(\n",
       "          (attention): BertAttention(\n",
       "            (self): BertSelfAttention(\n",
       "              (query): Linear(in_features=768, out_features=768, bias=True)\n",
       "              (key): Linear(in_features=768, out_features=768, bias=True)\n",
       "              (value): Linear(in_features=768, out_features=768, bias=True)\n",
       "              (dropout): Dropout(p=0.1, inplace=False)\n",
       "            )\n",
       "            (output): BertSelfOutput(\n",
       "              (dense): Linear(in_features=768, out_features=768, bias=True)\n",
       "              (LayerNorm): LayerNorm((768,), eps=1e-12, elementwise_affine=True)\n",
       "              (dropout): Dropout(p=0.1, inplace=False)\n",
       "            )\n",
       "          )\n",
       "          (intermediate): BertIntermediate(\n",
       "            (dense): Linear(in_features=768, out_features=3072, bias=True)\n",
       "            (intermediate_act_fn): GELUActivation()\n",
       "          )\n",
       "          (output): BertOutput(\n",
       "            (dense): Linear(in_features=3072, out_features=768, bias=True)\n",
       "            (LayerNorm): LayerNorm((768,), eps=1e-12, elementwise_affine=True)\n",
       "            (dropout): Dropout(p=0.1, inplace=False)\n",
       "          )\n",
       "        )\n",
       "        (2): BertLayer(\n",
       "          (attention): BertAttention(\n",
       "            (self): BertSelfAttention(\n",
       "              (query): Linear(in_features=768, out_features=768, bias=True)\n",
       "              (key): Linear(in_features=768, out_features=768, bias=True)\n",
       "              (value): Linear(in_features=768, out_features=768, bias=True)\n",
       "              (dropout): Dropout(p=0.1, inplace=False)\n",
       "            )\n",
       "            (output): BertSelfOutput(\n",
       "              (dense): Linear(in_features=768, out_features=768, bias=True)\n",
       "              (LayerNorm): LayerNorm((768,), eps=1e-12, elementwise_affine=True)\n",
       "              (dropout): Dropout(p=0.1, inplace=False)\n",
       "            )\n",
       "          )\n",
       "          (intermediate): BertIntermediate(\n",
       "            (dense): Linear(in_features=768, out_features=3072, bias=True)\n",
       "            (intermediate_act_fn): GELUActivation()\n",
       "          )\n",
       "          (output): BertOutput(\n",
       "            (dense): Linear(in_features=3072, out_features=768, bias=True)\n",
       "            (LayerNorm): LayerNorm((768,), eps=1e-12, elementwise_affine=True)\n",
       "            (dropout): Dropout(p=0.1, inplace=False)\n",
       "          )\n",
       "        )\n",
       "        (3): BertLayer(\n",
       "          (attention): BertAttention(\n",
       "            (self): BertSelfAttention(\n",
       "              (query): Linear(in_features=768, out_features=768, bias=True)\n",
       "              (key): Linear(in_features=768, out_features=768, bias=True)\n",
       "              (value): Linear(in_features=768, out_features=768, bias=True)\n",
       "              (dropout): Dropout(p=0.1, inplace=False)\n",
       "            )\n",
       "            (output): BertSelfOutput(\n",
       "              (dense): Linear(in_features=768, out_features=768, bias=True)\n",
       "              (LayerNorm): LayerNorm((768,), eps=1e-12, elementwise_affine=True)\n",
       "              (dropout): Dropout(p=0.1, inplace=False)\n",
       "            )\n",
       "          )\n",
       "          (intermediate): BertIntermediate(\n",
       "            (dense): Linear(in_features=768, out_features=3072, bias=True)\n",
       "            (intermediate_act_fn): GELUActivation()\n",
       "          )\n",
       "          (output): BertOutput(\n",
       "            (dense): Linear(in_features=3072, out_features=768, bias=True)\n",
       "            (LayerNorm): LayerNorm((768,), eps=1e-12, elementwise_affine=True)\n",
       "            (dropout): Dropout(p=0.1, inplace=False)\n",
       "          )\n",
       "        )\n",
       "        (4): BertLayer(\n",
       "          (attention): BertAttention(\n",
       "            (self): BertSelfAttention(\n",
       "              (query): Linear(in_features=768, out_features=768, bias=True)\n",
       "              (key): Linear(in_features=768, out_features=768, bias=True)\n",
       "              (value): Linear(in_features=768, out_features=768, bias=True)\n",
       "              (dropout): Dropout(p=0.1, inplace=False)\n",
       "            )\n",
       "            (output): BertSelfOutput(\n",
       "              (dense): Linear(in_features=768, out_features=768, bias=True)\n",
       "              (LayerNorm): LayerNorm((768,), eps=1e-12, elementwise_affine=True)\n",
       "              (dropout): Dropout(p=0.1, inplace=False)\n",
       "            )\n",
       "          )\n",
       "          (intermediate): BertIntermediate(\n",
       "            (dense): Linear(in_features=768, out_features=3072, bias=True)\n",
       "            (intermediate_act_fn): GELUActivation()\n",
       "          )\n",
       "          (output): BertOutput(\n",
       "            (dense): Linear(in_features=3072, out_features=768, bias=True)\n",
       "            (LayerNorm): LayerNorm((768,), eps=1e-12, elementwise_affine=True)\n",
       "            (dropout): Dropout(p=0.1, inplace=False)\n",
       "          )\n",
       "        )\n",
       "        (5): BertLayer(\n",
       "          (attention): BertAttention(\n",
       "            (self): BertSelfAttention(\n",
       "              (query): Linear(in_features=768, out_features=768, bias=True)\n",
       "              (key): Linear(in_features=768, out_features=768, bias=True)\n",
       "              (value): Linear(in_features=768, out_features=768, bias=True)\n",
       "              (dropout): Dropout(p=0.1, inplace=False)\n",
       "            )\n",
       "            (output): BertSelfOutput(\n",
       "              (dense): Linear(in_features=768, out_features=768, bias=True)\n",
       "              (LayerNorm): LayerNorm((768,), eps=1e-12, elementwise_affine=True)\n",
       "              (dropout): Dropout(p=0.1, inplace=False)\n",
       "            )\n",
       "          )\n",
       "          (intermediate): BertIntermediate(\n",
       "            (dense): Linear(in_features=768, out_features=3072, bias=True)\n",
       "            (intermediate_act_fn): GELUActivation()\n",
       "          )\n",
       "          (output): BertOutput(\n",
       "            (dense): Linear(in_features=3072, out_features=768, bias=True)\n",
       "            (LayerNorm): LayerNorm((768,), eps=1e-12, elementwise_affine=True)\n",
       "            (dropout): Dropout(p=0.1, inplace=False)\n",
       "          )\n",
       "        )\n",
       "        (6): BertLayer(\n",
       "          (attention): BertAttention(\n",
       "            (self): BertSelfAttention(\n",
       "              (query): Linear(in_features=768, out_features=768, bias=True)\n",
       "              (key): Linear(in_features=768, out_features=768, bias=True)\n",
       "              (value): Linear(in_features=768, out_features=768, bias=True)\n",
       "              (dropout): Dropout(p=0.1, inplace=False)\n",
       "            )\n",
       "            (output): BertSelfOutput(\n",
       "              (dense): Linear(in_features=768, out_features=768, bias=True)\n",
       "              (LayerNorm): LayerNorm((768,), eps=1e-12, elementwise_affine=True)\n",
       "              (dropout): Dropout(p=0.1, inplace=False)\n",
       "            )\n",
       "          )\n",
       "          (intermediate): BertIntermediate(\n",
       "            (dense): Linear(in_features=768, out_features=3072, bias=True)\n",
       "            (intermediate_act_fn): GELUActivation()\n",
       "          )\n",
       "          (output): BertOutput(\n",
       "            (dense): Linear(in_features=3072, out_features=768, bias=True)\n",
       "            (LayerNorm): LayerNorm((768,), eps=1e-12, elementwise_affine=True)\n",
       "            (dropout): Dropout(p=0.1, inplace=False)\n",
       "          )\n",
       "        )\n",
       "        (7): BertLayer(\n",
       "          (attention): BertAttention(\n",
       "            (self): BertSelfAttention(\n",
       "              (query): Linear(in_features=768, out_features=768, bias=True)\n",
       "              (key): Linear(in_features=768, out_features=768, bias=True)\n",
       "              (value): Linear(in_features=768, out_features=768, bias=True)\n",
       "              (dropout): Dropout(p=0.1, inplace=False)\n",
       "            )\n",
       "            (output): BertSelfOutput(\n",
       "              (dense): Linear(in_features=768, out_features=768, bias=True)\n",
       "              (LayerNorm): LayerNorm((768,), eps=1e-12, elementwise_affine=True)\n",
       "              (dropout): Dropout(p=0.1, inplace=False)\n",
       "            )\n",
       "          )\n",
       "          (intermediate): BertIntermediate(\n",
       "            (dense): Linear(in_features=768, out_features=3072, bias=True)\n",
       "            (intermediate_act_fn): GELUActivation()\n",
       "          )\n",
       "          (output): BertOutput(\n",
       "            (dense): Linear(in_features=3072, out_features=768, bias=True)\n",
       "            (LayerNorm): LayerNorm((768,), eps=1e-12, elementwise_affine=True)\n",
       "            (dropout): Dropout(p=0.1, inplace=False)\n",
       "          )\n",
       "        )\n",
       "        (8): BertLayer(\n",
       "          (attention): BertAttention(\n",
       "            (self): BertSelfAttention(\n",
       "              (query): Linear(in_features=768, out_features=768, bias=True)\n",
       "              (key): Linear(in_features=768, out_features=768, bias=True)\n",
       "              (value): Linear(in_features=768, out_features=768, bias=True)\n",
       "              (dropout): Dropout(p=0.1, inplace=False)\n",
       "            )\n",
       "            (output): BertSelfOutput(\n",
       "              (dense): Linear(in_features=768, out_features=768, bias=True)\n",
       "              (LayerNorm): LayerNorm((768,), eps=1e-12, elementwise_affine=True)\n",
       "              (dropout): Dropout(p=0.1, inplace=False)\n",
       "            )\n",
       "          )\n",
       "          (intermediate): BertIntermediate(\n",
       "            (dense): Linear(in_features=768, out_features=3072, bias=True)\n",
       "            (intermediate_act_fn): GELUActivation()\n",
       "          )\n",
       "          (output): BertOutput(\n",
       "            (dense): Linear(in_features=3072, out_features=768, bias=True)\n",
       "            (LayerNorm): LayerNorm((768,), eps=1e-12, elementwise_affine=True)\n",
       "            (dropout): Dropout(p=0.1, inplace=False)\n",
       "          )\n",
       "        )\n",
       "        (9): BertLayer(\n",
       "          (attention): BertAttention(\n",
       "            (self): BertSelfAttention(\n",
       "              (query): Linear(in_features=768, out_features=768, bias=True)\n",
       "              (key): Linear(in_features=768, out_features=768, bias=True)\n",
       "              (value): Linear(in_features=768, out_features=768, bias=True)\n",
       "              (dropout): Dropout(p=0.1, inplace=False)\n",
       "            )\n",
       "            (output): BertSelfOutput(\n",
       "              (dense): Linear(in_features=768, out_features=768, bias=True)\n",
       "              (LayerNorm): LayerNorm((768,), eps=1e-12, elementwise_affine=True)\n",
       "              (dropout): Dropout(p=0.1, inplace=False)\n",
       "            )\n",
       "          )\n",
       "          (intermediate): BertIntermediate(\n",
       "            (dense): Linear(in_features=768, out_features=3072, bias=True)\n",
       "            (intermediate_act_fn): GELUActivation()\n",
       "          )\n",
       "          (output): BertOutput(\n",
       "            (dense): Linear(in_features=3072, out_features=768, bias=True)\n",
       "            (LayerNorm): LayerNorm((768,), eps=1e-12, elementwise_affine=True)\n",
       "            (dropout): Dropout(p=0.1, inplace=False)\n",
       "          )\n",
       "        )\n",
       "        (10): BertLayer(\n",
       "          (attention): BertAttention(\n",
       "            (self): BertSelfAttention(\n",
       "              (query): Linear(in_features=768, out_features=768, bias=True)\n",
       "              (key): Linear(in_features=768, out_features=768, bias=True)\n",
       "              (value): Linear(in_features=768, out_features=768, bias=True)\n",
       "              (dropout): Dropout(p=0.1, inplace=False)\n",
       "            )\n",
       "            (output): BertSelfOutput(\n",
       "              (dense): Linear(in_features=768, out_features=768, bias=True)\n",
       "              (LayerNorm): LayerNorm((768,), eps=1e-12, elementwise_affine=True)\n",
       "              (dropout): Dropout(p=0.1, inplace=False)\n",
       "            )\n",
       "          )\n",
       "          (intermediate): BertIntermediate(\n",
       "            (dense): Linear(in_features=768, out_features=3072, bias=True)\n",
       "            (intermediate_act_fn): GELUActivation()\n",
       "          )\n",
       "          (output): BertOutput(\n",
       "            (dense): Linear(in_features=3072, out_features=768, bias=True)\n",
       "            (LayerNorm): LayerNorm((768,), eps=1e-12, elementwise_affine=True)\n",
       "            (dropout): Dropout(p=0.1, inplace=False)\n",
       "          )\n",
       "        )\n",
       "        (11): BertLayer(\n",
       "          (attention): BertAttention(\n",
       "            (self): BertSelfAttention(\n",
       "              (query): Linear(in_features=768, out_features=768, bias=True)\n",
       "              (key): Linear(in_features=768, out_features=768, bias=True)\n",
       "              (value): Linear(in_features=768, out_features=768, bias=True)\n",
       "              (dropout): Dropout(p=0.1, inplace=False)\n",
       "            )\n",
       "            (output): BertSelfOutput(\n",
       "              (dense): Linear(in_features=768, out_features=768, bias=True)\n",
       "              (LayerNorm): LayerNorm((768,), eps=1e-12, elementwise_affine=True)\n",
       "              (dropout): Dropout(p=0.1, inplace=False)\n",
       "            )\n",
       "          )\n",
       "          (intermediate): BertIntermediate(\n",
       "            (dense): Linear(in_features=768, out_features=3072, bias=True)\n",
       "            (intermediate_act_fn): GELUActivation()\n",
       "          )\n",
       "          (output): BertOutput(\n",
       "            (dense): Linear(in_features=3072, out_features=768, bias=True)\n",
       "            (LayerNorm): LayerNorm((768,), eps=1e-12, elementwise_affine=True)\n",
       "            (dropout): Dropout(p=0.1, inplace=False)\n",
       "          )\n",
       "        )\n",
       "      )\n",
       "    )\n",
       "    (pooler): BertPooler(\n",
       "      (dense): Linear(in_features=768, out_features=768, bias=True)\n",
       "      (activation): Tanh()\n",
       "    )\n",
       "  )\n",
       "  (dropout): Dropout(p=0.1, inplace=False)\n",
       "  (classifier): Linear(in_features=768, out_features=7, bias=True)\n",
       ")"
      ]
     },
     "execution_count": 59,
     "metadata": {},
     "output_type": "execute_result"
    }
   ],
   "source": [
    "# Отправим на видеокарту, заодно посмотрим архитектуру нашего Берта\n",
    "model.cuda()"
   ]
  },
  {
   "cell_type": "code",
   "execution_count": 60,
   "metadata": {
    "execution": {
     "iopub.execute_input": "2023-02-20T01:02:06.417727Z",
     "iopub.status.busy": "2023-02-20T01:02:06.417190Z",
     "iopub.status.idle": "2023-02-20T01:02:06.421858Z",
     "shell.execute_reply": "2023-02-20T01:02:06.421388Z",
     "shell.execute_reply.started": "2023-02-20T01:02:06.417689Z"
    },
    "id": "HslZLAcVwqlk",
    "tags": []
   },
   "outputs": [],
   "source": [
    "# Гипепараметры модели. Их можно изменять\n",
    "param_optimizer = list(model.named_parameters())"
   ]
  },
  {
   "cell_type": "code",
   "execution_count": 61,
   "metadata": {
    "colab": {
     "base_uri": "https://localhost:8080/"
    },
    "execution": {
     "iopub.execute_input": "2023-02-20T01:02:06.423071Z",
     "iopub.status.busy": "2023-02-20T01:02:06.422804Z",
     "iopub.status.idle": "2023-02-20T01:02:06.431543Z",
     "shell.execute_reply": "2023-02-20T01:02:06.431057Z",
     "shell.execute_reply.started": "2023-02-20T01:02:06.423040Z"
    },
    "id": "Hk-She3FwuOB",
    "outputId": "e2aa1d49-e0bc-4f05-fc5c-3f1ad81b76d5",
    "tags": []
   },
   "outputs": [
    {
     "name": "stderr",
     "output_type": "stream",
     "text": [
      "/srv/conda/envs/saturn/lib/python3.9/site-packages/transformers/optimization.py:306: FutureWarning: This implementation of AdamW is deprecated and will be removed in a future version. Use the PyTorch implementation torch.optim.AdamW instead, or set `no_deprecation_warning=True` to disable this warning\n",
      "  warnings.warn(\n"
     ]
    }
   ],
   "source": [
    "# Можно посмотреть или изменить. Но нам этого не нужно, инициализируем лишь функцию\n",
    "# оптимизации. В качестве оптимизатора будем использовать оптимизированный \n",
    "# Adam (adaptive moment estimation)\n",
    "# for name, _ in param_optimizer:\n",
    "#     print(name)\n",
    "\n",
    "no_decay = ['bias', 'gamma', 'beta']\n",
    "optimizer_grouped_parameters = [\n",
    "    {'params': [p for n, p in param_optimizer if not any(nd in n for nd in no_decay)],\n",
    "     'weight_decay_rate': 0.01},\n",
    "    {'params': [p for n, p in param_optimizer if any(nd in n for nd in no_decay)],\n",
    "     'weight_decay_rate': 0.0}\n",
    "]\n",
    "\n",
    "optimizer = AdamW(\n",
    "    optimizer_grouped_parameters,\n",
    "    lr=3e-5,\n",
    "    eps=1e-8\n",
    ")"
   ]
  },
  {
   "cell_type": "code",
   "execution_count": 62,
   "metadata": {
    "colab": {
     "base_uri": "https://localhost:8080/"
    },
    "execution": {
     "iopub.execute_input": "2023-02-20T01:02:06.432834Z",
     "iopub.status.busy": "2023-02-20T01:02:06.432434Z",
     "iopub.status.idle": "2023-02-20T01:02:06.441790Z",
     "shell.execute_reply": "2023-02-20T01:02:06.441208Z",
     "shell.execute_reply.started": "2023-02-20T01:02:06.432802Z"
    },
    "id": "_3HG-7maVGN1",
    "outputId": "2ad8ed23-b1c8-40ac-ebff-38f2ebb909d9",
    "tags": []
   },
   "outputs": [
    {
     "data": {
      "text/plain": [
       "BertForSequenceClassification(\n",
       "  (bert): BertModel(\n",
       "    (embeddings): BertEmbeddings(\n",
       "      (word_embeddings): Embedding(30522, 768, padding_idx=0)\n",
       "      (position_embeddings): Embedding(512, 768)\n",
       "      (token_type_embeddings): Embedding(2, 768)\n",
       "      (LayerNorm): LayerNorm((768,), eps=1e-12, elementwise_affine=True)\n",
       "      (dropout): Dropout(p=0.1, inplace=False)\n",
       "    )\n",
       "    (encoder): BertEncoder(\n",
       "      (layer): ModuleList(\n",
       "        (0): BertLayer(\n",
       "          (attention): BertAttention(\n",
       "            (self): BertSelfAttention(\n",
       "              (query): Linear(in_features=768, out_features=768, bias=True)\n",
       "              (key): Linear(in_features=768, out_features=768, bias=True)\n",
       "              (value): Linear(in_features=768, out_features=768, bias=True)\n",
       "              (dropout): Dropout(p=0.1, inplace=False)\n",
       "            )\n",
       "            (output): BertSelfOutput(\n",
       "              (dense): Linear(in_features=768, out_features=768, bias=True)\n",
       "              (LayerNorm): LayerNorm((768,), eps=1e-12, elementwise_affine=True)\n",
       "              (dropout): Dropout(p=0.1, inplace=False)\n",
       "            )\n",
       "          )\n",
       "          (intermediate): BertIntermediate(\n",
       "            (dense): Linear(in_features=768, out_features=3072, bias=True)\n",
       "            (intermediate_act_fn): GELUActivation()\n",
       "          )\n",
       "          (output): BertOutput(\n",
       "            (dense): Linear(in_features=3072, out_features=768, bias=True)\n",
       "            (LayerNorm): LayerNorm((768,), eps=1e-12, elementwise_affine=True)\n",
       "            (dropout): Dropout(p=0.1, inplace=False)\n",
       "          )\n",
       "        )\n",
       "        (1): BertLayer(\n",
       "          (attention): BertAttention(\n",
       "            (self): BertSelfAttention(\n",
       "              (query): Linear(in_features=768, out_features=768, bias=True)\n",
       "              (key): Linear(in_features=768, out_features=768, bias=True)\n",
       "              (value): Linear(in_features=768, out_features=768, bias=True)\n",
       "              (dropout): Dropout(p=0.1, inplace=False)\n",
       "            )\n",
       "            (output): BertSelfOutput(\n",
       "              (dense): Linear(in_features=768, out_features=768, bias=True)\n",
       "              (LayerNorm): LayerNorm((768,), eps=1e-12, elementwise_affine=True)\n",
       "              (dropout): Dropout(p=0.1, inplace=False)\n",
       "            )\n",
       "          )\n",
       "          (intermediate): BertIntermediate(\n",
       "            (dense): Linear(in_features=768, out_features=3072, bias=True)\n",
       "            (intermediate_act_fn): GELUActivation()\n",
       "          )\n",
       "          (output): BertOutput(\n",
       "            (dense): Linear(in_features=3072, out_features=768, bias=True)\n",
       "            (LayerNorm): LayerNorm((768,), eps=1e-12, elementwise_affine=True)\n",
       "            (dropout): Dropout(p=0.1, inplace=False)\n",
       "          )\n",
       "        )\n",
       "        (2): BertLayer(\n",
       "          (attention): BertAttention(\n",
       "            (self): BertSelfAttention(\n",
       "              (query): Linear(in_features=768, out_features=768, bias=True)\n",
       "              (key): Linear(in_features=768, out_features=768, bias=True)\n",
       "              (value): Linear(in_features=768, out_features=768, bias=True)\n",
       "              (dropout): Dropout(p=0.1, inplace=False)\n",
       "            )\n",
       "            (output): BertSelfOutput(\n",
       "              (dense): Linear(in_features=768, out_features=768, bias=True)\n",
       "              (LayerNorm): LayerNorm((768,), eps=1e-12, elementwise_affine=True)\n",
       "              (dropout): Dropout(p=0.1, inplace=False)\n",
       "            )\n",
       "          )\n",
       "          (intermediate): BertIntermediate(\n",
       "            (dense): Linear(in_features=768, out_features=3072, bias=True)\n",
       "            (intermediate_act_fn): GELUActivation()\n",
       "          )\n",
       "          (output): BertOutput(\n",
       "            (dense): Linear(in_features=3072, out_features=768, bias=True)\n",
       "            (LayerNorm): LayerNorm((768,), eps=1e-12, elementwise_affine=True)\n",
       "            (dropout): Dropout(p=0.1, inplace=False)\n",
       "          )\n",
       "        )\n",
       "        (3): BertLayer(\n",
       "          (attention): BertAttention(\n",
       "            (self): BertSelfAttention(\n",
       "              (query): Linear(in_features=768, out_features=768, bias=True)\n",
       "              (key): Linear(in_features=768, out_features=768, bias=True)\n",
       "              (value): Linear(in_features=768, out_features=768, bias=True)\n",
       "              (dropout): Dropout(p=0.1, inplace=False)\n",
       "            )\n",
       "            (output): BertSelfOutput(\n",
       "              (dense): Linear(in_features=768, out_features=768, bias=True)\n",
       "              (LayerNorm): LayerNorm((768,), eps=1e-12, elementwise_affine=True)\n",
       "              (dropout): Dropout(p=0.1, inplace=False)\n",
       "            )\n",
       "          )\n",
       "          (intermediate): BertIntermediate(\n",
       "            (dense): Linear(in_features=768, out_features=3072, bias=True)\n",
       "            (intermediate_act_fn): GELUActivation()\n",
       "          )\n",
       "          (output): BertOutput(\n",
       "            (dense): Linear(in_features=3072, out_features=768, bias=True)\n",
       "            (LayerNorm): LayerNorm((768,), eps=1e-12, elementwise_affine=True)\n",
       "            (dropout): Dropout(p=0.1, inplace=False)\n",
       "          )\n",
       "        )\n",
       "        (4): BertLayer(\n",
       "          (attention): BertAttention(\n",
       "            (self): BertSelfAttention(\n",
       "              (query): Linear(in_features=768, out_features=768, bias=True)\n",
       "              (key): Linear(in_features=768, out_features=768, bias=True)\n",
       "              (value): Linear(in_features=768, out_features=768, bias=True)\n",
       "              (dropout): Dropout(p=0.1, inplace=False)\n",
       "            )\n",
       "            (output): BertSelfOutput(\n",
       "              (dense): Linear(in_features=768, out_features=768, bias=True)\n",
       "              (LayerNorm): LayerNorm((768,), eps=1e-12, elementwise_affine=True)\n",
       "              (dropout): Dropout(p=0.1, inplace=False)\n",
       "            )\n",
       "          )\n",
       "          (intermediate): BertIntermediate(\n",
       "            (dense): Linear(in_features=768, out_features=3072, bias=True)\n",
       "            (intermediate_act_fn): GELUActivation()\n",
       "          )\n",
       "          (output): BertOutput(\n",
       "            (dense): Linear(in_features=3072, out_features=768, bias=True)\n",
       "            (LayerNorm): LayerNorm((768,), eps=1e-12, elementwise_affine=True)\n",
       "            (dropout): Dropout(p=0.1, inplace=False)\n",
       "          )\n",
       "        )\n",
       "        (5): BertLayer(\n",
       "          (attention): BertAttention(\n",
       "            (self): BertSelfAttention(\n",
       "              (query): Linear(in_features=768, out_features=768, bias=True)\n",
       "              (key): Linear(in_features=768, out_features=768, bias=True)\n",
       "              (value): Linear(in_features=768, out_features=768, bias=True)\n",
       "              (dropout): Dropout(p=0.1, inplace=False)\n",
       "            )\n",
       "            (output): BertSelfOutput(\n",
       "              (dense): Linear(in_features=768, out_features=768, bias=True)\n",
       "              (LayerNorm): LayerNorm((768,), eps=1e-12, elementwise_affine=True)\n",
       "              (dropout): Dropout(p=0.1, inplace=False)\n",
       "            )\n",
       "          )\n",
       "          (intermediate): BertIntermediate(\n",
       "            (dense): Linear(in_features=768, out_features=3072, bias=True)\n",
       "            (intermediate_act_fn): GELUActivation()\n",
       "          )\n",
       "          (output): BertOutput(\n",
       "            (dense): Linear(in_features=3072, out_features=768, bias=True)\n",
       "            (LayerNorm): LayerNorm((768,), eps=1e-12, elementwise_affine=True)\n",
       "            (dropout): Dropout(p=0.1, inplace=False)\n",
       "          )\n",
       "        )\n",
       "        (6): BertLayer(\n",
       "          (attention): BertAttention(\n",
       "            (self): BertSelfAttention(\n",
       "              (query): Linear(in_features=768, out_features=768, bias=True)\n",
       "              (key): Linear(in_features=768, out_features=768, bias=True)\n",
       "              (value): Linear(in_features=768, out_features=768, bias=True)\n",
       "              (dropout): Dropout(p=0.1, inplace=False)\n",
       "            )\n",
       "            (output): BertSelfOutput(\n",
       "              (dense): Linear(in_features=768, out_features=768, bias=True)\n",
       "              (LayerNorm): LayerNorm((768,), eps=1e-12, elementwise_affine=True)\n",
       "              (dropout): Dropout(p=0.1, inplace=False)\n",
       "            )\n",
       "          )\n",
       "          (intermediate): BertIntermediate(\n",
       "            (dense): Linear(in_features=768, out_features=3072, bias=True)\n",
       "            (intermediate_act_fn): GELUActivation()\n",
       "          )\n",
       "          (output): BertOutput(\n",
       "            (dense): Linear(in_features=3072, out_features=768, bias=True)\n",
       "            (LayerNorm): LayerNorm((768,), eps=1e-12, elementwise_affine=True)\n",
       "            (dropout): Dropout(p=0.1, inplace=False)\n",
       "          )\n",
       "        )\n",
       "        (7): BertLayer(\n",
       "          (attention): BertAttention(\n",
       "            (self): BertSelfAttention(\n",
       "              (query): Linear(in_features=768, out_features=768, bias=True)\n",
       "              (key): Linear(in_features=768, out_features=768, bias=True)\n",
       "              (value): Linear(in_features=768, out_features=768, bias=True)\n",
       "              (dropout): Dropout(p=0.1, inplace=False)\n",
       "            )\n",
       "            (output): BertSelfOutput(\n",
       "              (dense): Linear(in_features=768, out_features=768, bias=True)\n",
       "              (LayerNorm): LayerNorm((768,), eps=1e-12, elementwise_affine=True)\n",
       "              (dropout): Dropout(p=0.1, inplace=False)\n",
       "            )\n",
       "          )\n",
       "          (intermediate): BertIntermediate(\n",
       "            (dense): Linear(in_features=768, out_features=3072, bias=True)\n",
       "            (intermediate_act_fn): GELUActivation()\n",
       "          )\n",
       "          (output): BertOutput(\n",
       "            (dense): Linear(in_features=3072, out_features=768, bias=True)\n",
       "            (LayerNorm): LayerNorm((768,), eps=1e-12, elementwise_affine=True)\n",
       "            (dropout): Dropout(p=0.1, inplace=False)\n",
       "          )\n",
       "        )\n",
       "        (8): BertLayer(\n",
       "          (attention): BertAttention(\n",
       "            (self): BertSelfAttention(\n",
       "              (query): Linear(in_features=768, out_features=768, bias=True)\n",
       "              (key): Linear(in_features=768, out_features=768, bias=True)\n",
       "              (value): Linear(in_features=768, out_features=768, bias=True)\n",
       "              (dropout): Dropout(p=0.1, inplace=False)\n",
       "            )\n",
       "            (output): BertSelfOutput(\n",
       "              (dense): Linear(in_features=768, out_features=768, bias=True)\n",
       "              (LayerNorm): LayerNorm((768,), eps=1e-12, elementwise_affine=True)\n",
       "              (dropout): Dropout(p=0.1, inplace=False)\n",
       "            )\n",
       "          )\n",
       "          (intermediate): BertIntermediate(\n",
       "            (dense): Linear(in_features=768, out_features=3072, bias=True)\n",
       "            (intermediate_act_fn): GELUActivation()\n",
       "          )\n",
       "          (output): BertOutput(\n",
       "            (dense): Linear(in_features=3072, out_features=768, bias=True)\n",
       "            (LayerNorm): LayerNorm((768,), eps=1e-12, elementwise_affine=True)\n",
       "            (dropout): Dropout(p=0.1, inplace=False)\n",
       "          )\n",
       "        )\n",
       "        (9): BertLayer(\n",
       "          (attention): BertAttention(\n",
       "            (self): BertSelfAttention(\n",
       "              (query): Linear(in_features=768, out_features=768, bias=True)\n",
       "              (key): Linear(in_features=768, out_features=768, bias=True)\n",
       "              (value): Linear(in_features=768, out_features=768, bias=True)\n",
       "              (dropout): Dropout(p=0.1, inplace=False)\n",
       "            )\n",
       "            (output): BertSelfOutput(\n",
       "              (dense): Linear(in_features=768, out_features=768, bias=True)\n",
       "              (LayerNorm): LayerNorm((768,), eps=1e-12, elementwise_affine=True)\n",
       "              (dropout): Dropout(p=0.1, inplace=False)\n",
       "            )\n",
       "          )\n",
       "          (intermediate): BertIntermediate(\n",
       "            (dense): Linear(in_features=768, out_features=3072, bias=True)\n",
       "            (intermediate_act_fn): GELUActivation()\n",
       "          )\n",
       "          (output): BertOutput(\n",
       "            (dense): Linear(in_features=3072, out_features=768, bias=True)\n",
       "            (LayerNorm): LayerNorm((768,), eps=1e-12, elementwise_affine=True)\n",
       "            (dropout): Dropout(p=0.1, inplace=False)\n",
       "          )\n",
       "        )\n",
       "        (10): BertLayer(\n",
       "          (attention): BertAttention(\n",
       "            (self): BertSelfAttention(\n",
       "              (query): Linear(in_features=768, out_features=768, bias=True)\n",
       "              (key): Linear(in_features=768, out_features=768, bias=True)\n",
       "              (value): Linear(in_features=768, out_features=768, bias=True)\n",
       "              (dropout): Dropout(p=0.1, inplace=False)\n",
       "            )\n",
       "            (output): BertSelfOutput(\n",
       "              (dense): Linear(in_features=768, out_features=768, bias=True)\n",
       "              (LayerNorm): LayerNorm((768,), eps=1e-12, elementwise_affine=True)\n",
       "              (dropout): Dropout(p=0.1, inplace=False)\n",
       "            )\n",
       "          )\n",
       "          (intermediate): BertIntermediate(\n",
       "            (dense): Linear(in_features=768, out_features=3072, bias=True)\n",
       "            (intermediate_act_fn): GELUActivation()\n",
       "          )\n",
       "          (output): BertOutput(\n",
       "            (dense): Linear(in_features=3072, out_features=768, bias=True)\n",
       "            (LayerNorm): LayerNorm((768,), eps=1e-12, elementwise_affine=True)\n",
       "            (dropout): Dropout(p=0.1, inplace=False)\n",
       "          )\n",
       "        )\n",
       "        (11): BertLayer(\n",
       "          (attention): BertAttention(\n",
       "            (self): BertSelfAttention(\n",
       "              (query): Linear(in_features=768, out_features=768, bias=True)\n",
       "              (key): Linear(in_features=768, out_features=768, bias=True)\n",
       "              (value): Linear(in_features=768, out_features=768, bias=True)\n",
       "              (dropout): Dropout(p=0.1, inplace=False)\n",
       "            )\n",
       "            (output): BertSelfOutput(\n",
       "              (dense): Linear(in_features=768, out_features=768, bias=True)\n",
       "              (LayerNorm): LayerNorm((768,), eps=1e-12, elementwise_affine=True)\n",
       "              (dropout): Dropout(p=0.1, inplace=False)\n",
       "            )\n",
       "          )\n",
       "          (intermediate): BertIntermediate(\n",
       "            (dense): Linear(in_features=768, out_features=3072, bias=True)\n",
       "            (intermediate_act_fn): GELUActivation()\n",
       "          )\n",
       "          (output): BertOutput(\n",
       "            (dense): Linear(in_features=3072, out_features=768, bias=True)\n",
       "            (LayerNorm): LayerNorm((768,), eps=1e-12, elementwise_affine=True)\n",
       "            (dropout): Dropout(p=0.1, inplace=False)\n",
       "          )\n",
       "        )\n",
       "      )\n",
       "    )\n",
       "    (pooler): BertPooler(\n",
       "      (dense): Linear(in_features=768, out_features=768, bias=True)\n",
       "      (activation): Tanh()\n",
       "    )\n",
       "  )\n",
       "  (dropout): Dropout(p=0.1, inplace=False)\n",
       "  (classifier): Linear(in_features=768, out_features=7, bias=True)\n",
       ")"
      ]
     },
     "execution_count": 62,
     "metadata": {},
     "output_type": "execute_result"
    }
   ],
   "source": [
    "model.to(device)"
   ]
  },
  {
   "cell_type": "code",
   "execution_count": 63,
   "metadata": {
    "colab": {
     "base_uri": "https://localhost:8080/"
    },
    "execution": {
     "iopub.execute_input": "2023-02-20T01:02:06.442719Z",
     "iopub.status.busy": "2023-02-20T01:02:06.442493Z",
     "iopub.status.idle": "2023-02-20T01:08:41.080754Z",
     "shell.execute_reply": "2023-02-20T01:08:41.080103Z",
     "shell.execute_reply.started": "2023-02-20T01:02:06.442701Z"
    },
    "id": "yGQc6JBCwxLy",
    "outputId": "359cd302-33f8-4553-d86c-976e85588372",
    "tags": []
   },
   "outputs": [
    {
     "name": "stdout",
     "output_type": "stream",
     "text": [
      "********************\n",
      "Лосс на обучении: 1.4789659759625287\n",
      "CPU times: user 4min 45s, sys: 1min 49s, total: 6min 34s\n",
      "Wall time: 6min 34s\n"
     ]
    }
   ],
   "source": [
    "%%time\n",
    "train_loss_set = []\n",
    "train_loss = 0\n",
    "\n",
    "# Переводим модель в training mode\n",
    "model.train()\n",
    "\n",
    "for step, batch in enumerate(train_dataloader):\n",
    "    # Переводим данные на видеокарту\n",
    "    batch = tuple(t.to(device) for t in batch)\n",
    "    b_input_ids, b_input_mask, b_labels = batch\n",
    "    \n",
    "    # Обнуляем градиенты\n",
    "    optimizer.zero_grad()\n",
    "    \n",
    "    # Прогоняем данные по слоям нейросети\n",
    "    loss = model(b_input_ids, token_type_ids=None, attention_mask=b_input_mask, labels=b_labels)\n",
    "\n",
    "    train_loss_set.append(loss[0].item())  \n",
    "    \n",
    "    # Обратный прогон\n",
    "    loss[0].backward()\n",
    "    \n",
    "    # Шаг\n",
    "    optimizer.step()\n",
    "\n",
    "    # Обновляем loss\n",
    "    train_loss += loss[0].item()\n",
    "    #print(f'Loss: {loss[0].item()}')\n",
    "print('*'*20)\n",
    "print(f'Лосс на обучении: {train_loss / len(train_dataloader)}')"
   ]
  },
  {
   "cell_type": "code",
   "execution_count": 64,
   "metadata": {
    "colab": {
     "base_uri": "https://localhost:8080/",
     "height": 295
    },
    "execution": {
     "iopub.execute_input": "2023-02-20T01:08:41.081974Z",
     "iopub.status.busy": "2023-02-20T01:08:41.081663Z",
     "iopub.status.idle": "2023-02-20T01:08:41.196618Z",
     "shell.execute_reply": "2023-02-20T01:08:41.195965Z",
     "shell.execute_reply.started": "2023-02-20T01:08:41.081942Z"
    },
    "id": "Qa64Tff2w3DP",
    "outputId": "ac901dec-21f2-4f55-8e64-5d10ae8364c9",
    "tags": []
   },
   "outputs": [
    {
     "data": {
      "image/png": "[encoded data removed]",
      "text/plain": [
       "<Figure size 432x288 with 1 Axes>"
      ]
     },
     "metadata": {
      "needs_background": "light"
     },
     "output_type": "display_data"
    }
   ],
   "source": [
    "# посмотрим, как обучалась наша модель\n",
    "plt.plot(train_loss_set)\n",
    "plt.title(\"Loss на обучении\")\n",
    "plt.xlabel(\"Батчи\")\n",
    "plt.ylabel(\"Потери\")\n",
    "plt.show()"
   ]
  },
  {
   "cell_type": "code",
   "execution_count": 65,
   "metadata": {
    "colab": {
     "base_uri": "https://localhost:8080/"
    },
    "execution": {
     "iopub.execute_input": "2023-02-20T01:08:41.198286Z",
     "iopub.status.busy": "2023-02-20T01:08:41.197783Z",
     "iopub.status.idle": "2023-02-20T01:08:54.744827Z",
     "shell.execute_reply": "2023-02-20T01:08:54.744181Z",
     "shell.execute_reply.started": "2023-02-20T01:08:41.198248Z"
    },
    "id": "7cQUfdsDw6OC",
    "outputId": "4fad6194-ca6b-448e-8d84-06661bbb69aa",
    "tags": []
   },
   "outputs": [
    {
     "name": "stdout",
     "output_type": "stream",
     "text": [
      "CPU times: user 2 µs, sys: 0 ns, total: 2 µs\n",
      "Wall time: 6.2 µs\n"
     ]
    }
   ],
   "source": [
    "%time\n",
    "\n",
    "# Переводим модель в evaluation mode\n",
    "model.eval()\n",
    "\n",
    "valid_preds, valid_labels = [], []\n",
    "\n",
    "for batch in validation_dataloader:   \n",
    "    # добавляем батч для вычисления на GPU\n",
    "    batch = tuple(t.to(device) for t in batch)\n",
    "    \n",
    "    b_input_ids, b_input_mask, b_labels = batch\n",
    "\n",
    "    \n",
    "    \n",
    "    # Вычислять градиенты не нужно\n",
    "    with torch.no_grad():\n",
    "        logits = model(b_input_ids, token_type_ids=None, attention_mask=b_input_mask)\n",
    "\n",
    "    # Перемещаем логиты и метки на CPU\n",
    "    logits = logits[0].detach().cpu().numpy()\n",
    "    label_ids = b_labels.to('cpu').numpy()\n",
    "    \n",
    "    batch_preds = np.argmax(logits, axis=1)\n",
    "    batch_labels = label_ids #np.concatenate(label_ids)     \n",
    "    valid_preds.extend(batch_preds)\n",
    "    valid_labels.extend(batch_labels)"
   ]
  },
  {
   "cell_type": "code",
   "execution_count": 66,
   "metadata": {
    "colab": {
     "base_uri": "https://localhost:8080/"
    },
    "execution": {
     "iopub.execute_input": "2023-02-20T01:08:54.746056Z",
     "iopub.status.busy": "2023-02-20T01:08:54.745815Z",
     "iopub.status.idle": "2023-02-20T01:08:54.774997Z",
     "shell.execute_reply": "2023-02-20T01:08:54.774307Z",
     "shell.execute_reply.started": "2023-02-20T01:08:54.746034Z"
    },
    "id": "vhJg3jUJKbJl",
    "outputId": "b788d7f5-6345-4232-e3ab-048b6acdcbfd",
    "tags": []
   },
   "outputs": [
    {
     "name": "stdout",
     "output_type": "stream",
     "text": [
      "              precision    recall  f1-score   support\n",
      "\n",
      "         Все       0.76      0.55      0.64      1489\n",
      "    Политика       0.65      0.79      0.71      1490\n",
      "    Общество       0.88      0.79      0.83      1495\n",
      "     Украина       0.43      0.40      0.41      1506\n",
      "Происшествия       0.58      0.59      0.58      1479\n",
      "Госэкономика       0.52      0.70      0.59      1525\n",
      "      Футбол       0.68      0.57      0.62      1464\n",
      "\n",
      "    accuracy                           0.63     10448\n",
      "   macro avg       0.64      0.63      0.63     10448\n",
      "weighted avg       0.64      0.63      0.63     10448\n",
      "\n"
     ]
    }
   ],
   "source": [
    "print(classification_report(valid_labels, valid_preds, target_names=['Все', 'Политика', 'Общество', 'Украина', 'Происшествия',\n",
    "       'Госэкономика', 'Футбол']))"
   ]
  },
  {
   "cell_type": "markdown",
   "metadata": {
    "id": "HbtrSGBvyGko"
   },
   "source": [
    "Сохранение и загрузка дообученной модели"
   ]
  },
  {
   "cell_type": "code",
   "execution_count": 67,
   "metadata": {
    "colab": {
     "base_uri": "https://localhost:8080/"
    },
    "execution": {
     "iopub.execute_input": "2023-02-20T01:08:54.776094Z",
     "iopub.status.busy": "2023-02-20T01:08:54.775851Z",
     "iopub.status.idle": "2023-02-20T01:08:55.462543Z",
     "shell.execute_reply": "2023-02-20T01:08:55.461959Z",
     "shell.execute_reply.started": "2023-02-20T01:08:54.776072Z"
    },
    "id": "qab-SpP1F1q4",
    "outputId": "6c610002-2ac3-4b4f-e249-9f6b3bfb12d4",
    "tags": []
   },
   "outputs": [
    {
     "data": {
      "text/plain": [
       "('Bert/tokenizer_config.json',\n",
       " 'Bert/special_tokens_map.json',\n",
       " 'Bert/vocab.txt',\n",
       " 'Bert/added_tokens.json')"
      ]
     },
     "execution_count": 67,
     "metadata": {},
     "output_type": "execute_result"
    }
   ],
   "source": [
    "model.save_pretrained('Bert')\n",
    "tokenizer.save_pretrained('Bert')"
   ]
  },
  {
   "cell_type": "code",
   "execution_count": 68,
   "metadata": {
    "execution": {
     "iopub.execute_input": "2023-02-20T01:08:55.463920Z",
     "iopub.status.busy": "2023-02-20T01:08:55.463595Z",
     "iopub.status.idle": "2023-02-20T01:08:56.684543Z",
     "shell.execute_reply": "2023-02-20T01:08:56.683959Z",
     "shell.execute_reply.started": "2023-02-20T01:08:55.463884Z"
    },
    "id": "YJWB4yDBF1q4",
    "tags": []
   },
   "outputs": [],
   "source": [
    "# config\n",
    "config = AutoConfig.from_pretrained('Bert')\n",
    "# tokenizer\n",
    "tokenizer = AutoTokenizer.from_pretrained('Bert', pad_to_max_length=True)\n",
    "# model\n",
    "model = AutoModelForSequenceClassification.from_pretrained('Bert', config=config)"
   ]
  },
  {
   "cell_type": "code",
   "execution_count": 69,
   "metadata": {
    "colab": {
     "base_uri": "https://localhost:8080/"
    },
    "execution": {
     "iopub.execute_input": "2023-02-20T01:08:56.685664Z",
     "iopub.status.busy": "2023-02-20T01:08:56.685429Z",
     "iopub.status.idle": "2023-02-20T01:08:56.692089Z",
     "shell.execute_reply": "2023-02-20T01:08:56.691545Z",
     "shell.execute_reply.started": "2023-02-20T01:08:56.685641Z"
    },
    "id": "8Kdtb4JEF1q4",
    "outputId": "48aa656c-5792-42cb-d30b-218ae6580517",
    "tags": []
   },
   "outputs": [
    {
     "data": {
      "text/plain": [
       "BertForSequenceClassification(\n",
       "  (bert): BertModel(\n",
       "    (embeddings): BertEmbeddings(\n",
       "      (word_embeddings): Embedding(30522, 768, padding_idx=0)\n",
       "      (position_embeddings): Embedding(512, 768)\n",
       "      (token_type_embeddings): Embedding(2, 768)\n",
       "      (LayerNorm): LayerNorm((768,), eps=1e-12, elementwise_affine=True)\n",
       "      (dropout): Dropout(p=0.1, inplace=False)\n",
       "    )\n",
       "    (encoder): BertEncoder(\n",
       "      (layer): ModuleList(\n",
       "        (0): BertLayer(\n",
       "          (attention): BertAttention(\n",
       "            (self): BertSelfAttention(\n",
       "              (query): Linear(in_features=768, out_features=768, bias=True)\n",
       "              (key): Linear(in_features=768, out_features=768, bias=True)\n",
       "              (value): Linear(in_features=768, out_features=768, bias=True)\n",
       "              (dropout): Dropout(p=0.1, inplace=False)\n",
       "            )\n",
       "            (output): BertSelfOutput(\n",
       "              (dense): Linear(in_features=768, out_features=768, bias=True)\n",
       "              (LayerNorm): LayerNorm((768,), eps=1e-12, elementwise_affine=True)\n",
       "              (dropout): Dropout(p=0.1, inplace=False)\n",
       "            )\n",
       "          )\n",
       "          (intermediate): BertIntermediate(\n",
       "            (dense): Linear(in_features=768, out_features=3072, bias=True)\n",
       "            (intermediate_act_fn): GELUActivation()\n",
       "          )\n",
       "          (output): BertOutput(\n",
       "            (dense): Linear(in_features=3072, out_features=768, bias=True)\n",
       "            (LayerNorm): LayerNorm((768,), eps=1e-12, elementwise_affine=True)\n",
       "            (dropout): Dropout(p=0.1, inplace=False)\n",
       "          )\n",
       "        )\n",
       "        (1): BertLayer(\n",
       "          (attention): BertAttention(\n",
       "            (self): BertSelfAttention(\n",
       "              (query): Linear(in_features=768, out_features=768, bias=True)\n",
       "              (key): Linear(in_features=768, out_features=768, bias=True)\n",
       "              (value): Linear(in_features=768, out_features=768, bias=True)\n",
       "              (dropout): Dropout(p=0.1, inplace=False)\n",
       "            )\n",
       "            (output): BertSelfOutput(\n",
       "              (dense): Linear(in_features=768, out_features=768, bias=True)\n",
       "              (LayerNorm): LayerNorm((768,), eps=1e-12, elementwise_affine=True)\n",
       "              (dropout): Dropout(p=0.1, inplace=False)\n",
       "            )\n",
       "          )\n",
       "          (intermediate): BertIntermediate(\n",
       "            (dense): Linear(in_features=768, out_features=3072, bias=True)\n",
       "            (intermediate_act_fn): GELUActivation()\n",
       "          )\n",
       "          (output): BertOutput(\n",
       "            (dense): Linear(in_features=3072, out_features=768, bias=True)\n",
       "            (LayerNorm): LayerNorm((768,), eps=1e-12, elementwise_affine=True)\n",
       "            (dropout): Dropout(p=0.1, inplace=False)\n",
       "          )\n",
       "        )\n",
       "        (2): BertLayer(\n",
       "          (attention): BertAttention(\n",
       "            (self): BertSelfAttention(\n",
       "              (query): Linear(in_features=768, out_features=768, bias=True)\n",
       "              (key): Linear(in_features=768, out_features=768, bias=True)\n",
       "              (value): Linear(in_features=768, out_features=768, bias=True)\n",
       "              (dropout): Dropout(p=0.1, inplace=False)\n",
       "            )\n",
       "            (output): BertSelfOutput(\n",
       "              (dense): Linear(in_features=768, out_features=768, bias=True)\n",
       "              (LayerNorm): LayerNorm((768,), eps=1e-12, elementwise_affine=True)\n",
       "              (dropout): Dropout(p=0.1, inplace=False)\n",
       "            )\n",
       "          )\n",
       "          (intermediate): BertIntermediate(\n",
       "            (dense): Linear(in_features=768, out_features=3072, bias=True)\n",
       "            (intermediate_act_fn): GELUActivation()\n",
       "          )\n",
       "          (output): BertOutput(\n",
       "            (dense): Linear(in_features=3072, out_features=768, bias=True)\n",
       "            (LayerNorm): LayerNorm((768,), eps=1e-12, elementwise_affine=True)\n",
       "            (dropout): Dropout(p=0.1, inplace=False)\n",
       "          )\n",
       "        )\n",
       "        (3): BertLayer(\n",
       "          (attention): BertAttention(\n",
       "            (self): BertSelfAttention(\n",
       "              (query): Linear(in_features=768, out_features=768, bias=True)\n",
       "              (key): Linear(in_features=768, out_features=768, bias=True)\n",
       "              (value): Linear(in_features=768, out_features=768, bias=True)\n",
       "              (dropout): Dropout(p=0.1, inplace=False)\n",
       "            )\n",
       "            (output): BertSelfOutput(\n",
       "              (dense): Linear(in_features=768, out_features=768, bias=True)\n",
       "              (LayerNorm): LayerNorm((768,), eps=1e-12, elementwise_affine=True)\n",
       "              (dropout): Dropout(p=0.1, inplace=False)\n",
       "            )\n",
       "          )\n",
       "          (intermediate): BertIntermediate(\n",
       "            (dense): Linear(in_features=768, out_features=3072, bias=True)\n",
       "            (intermediate_act_fn): GELUActivation()\n",
       "          )\n",
       "          (output): BertOutput(\n",
       "            (dense): Linear(in_features=3072, out_features=768, bias=True)\n",
       "            (LayerNorm): LayerNorm((768,), eps=1e-12, elementwise_affine=True)\n",
       "            (dropout): Dropout(p=0.1, inplace=False)\n",
       "          )\n",
       "        )\n",
       "        (4): BertLayer(\n",
       "          (attention): BertAttention(\n",
       "            (self): BertSelfAttention(\n",
       "              (query): Linear(in_features=768, out_features=768, bias=True)\n",
       "              (key): Linear(in_features=768, out_features=768, bias=True)\n",
       "              (value): Linear(in_features=768, out_features=768, bias=True)\n",
       "              (dropout): Dropout(p=0.1, inplace=False)\n",
       "            )\n",
       "            (output): BertSelfOutput(\n",
       "              (dense): Linear(in_features=768, out_features=768, bias=True)\n",
       "              (LayerNorm): LayerNorm((768,), eps=1e-12, elementwise_affine=True)\n",
       "              (dropout): Dropout(p=0.1, inplace=False)\n",
       "            )\n",
       "          )\n",
       "          (intermediate): BertIntermediate(\n",
       "            (dense): Linear(in_features=768, out_features=3072, bias=True)\n",
       "            (intermediate_act_fn): GELUActivation()\n",
       "          )\n",
       "          (output): BertOutput(\n",
       "            (dense): Linear(in_features=3072, out_features=768, bias=True)\n",
       "            (LayerNorm): LayerNorm((768,), eps=1e-12, elementwise_affine=True)\n",
       "            (dropout): Dropout(p=0.1, inplace=False)\n",
       "          )\n",
       "        )\n",
       "        (5): BertLayer(\n",
       "          (attention): BertAttention(\n",
       "            (self): BertSelfAttention(\n",
       "              (query): Linear(in_features=768, out_features=768, bias=True)\n",
       "              (key): Linear(in_features=768, out_features=768, bias=True)\n",
       "              (value): Linear(in_features=768, out_features=768, bias=True)\n",
       "              (dropout): Dropout(p=0.1, inplace=False)\n",
       "            )\n",
       "            (output): BertSelfOutput(\n",
       "              (dense): Linear(in_features=768, out_features=768, bias=True)\n",
       "              (LayerNorm): LayerNorm((768,), eps=1e-12, elementwise_affine=True)\n",
       "              (dropout): Dropout(p=0.1, inplace=False)\n",
       "            )\n",
       "          )\n",
       "          (intermediate): BertIntermediate(\n",
       "            (dense): Linear(in_features=768, out_features=3072, bias=True)\n",
       "            (intermediate_act_fn): GELUActivation()\n",
       "          )\n",
       "          (output): BertOutput(\n",
       "            (dense): Linear(in_features=3072, out_features=768, bias=True)\n",
       "            (LayerNorm): LayerNorm((768,), eps=1e-12, elementwise_affine=True)\n",
       "            (dropout): Dropout(p=0.1, inplace=False)\n",
       "          )\n",
       "        )\n",
       "        (6): BertLayer(\n",
       "          (attention): BertAttention(\n",
       "            (self): BertSelfAttention(\n",
       "              (query): Linear(in_features=768, out_features=768, bias=True)\n",
       "              (key): Linear(in_features=768, out_features=768, bias=True)\n",
       "              (value): Linear(in_features=768, out_features=768, bias=True)\n",
       "              (dropout): Dropout(p=0.1, inplace=False)\n",
       "            )\n",
       "            (output): BertSelfOutput(\n",
       "              (dense): Linear(in_features=768, out_features=768, bias=True)\n",
       "              (LayerNorm): LayerNorm((768,), eps=1e-12, elementwise_affine=True)\n",
       "              (dropout): Dropout(p=0.1, inplace=False)\n",
       "            )\n",
       "          )\n",
       "          (intermediate): BertIntermediate(\n",
       "            (dense): Linear(in_features=768, out_features=3072, bias=True)\n",
       "            (intermediate_act_fn): GELUActivation()\n",
       "          )\n",
       "          (output): BertOutput(\n",
       "            (dense): Linear(in_features=3072, out_features=768, bias=True)\n",
       "            (LayerNorm): LayerNorm((768,), eps=1e-12, elementwise_affine=True)\n",
       "            (dropout): Dropout(p=0.1, inplace=False)\n",
       "          )\n",
       "        )\n",
       "        (7): BertLayer(\n",
       "          (attention): BertAttention(\n",
       "            (self): BertSelfAttention(\n",
       "              (query): Linear(in_features=768, out_features=768, bias=True)\n",
       "              (key): Linear(in_features=768, out_features=768, bias=True)\n",
       "              (value): Linear(in_features=768, out_features=768, bias=True)\n",
       "              (dropout): Dropout(p=0.1, inplace=False)\n",
       "            )\n",
       "            (output): BertSelfOutput(\n",
       "              (dense): Linear(in_features=768, out_features=768, bias=True)\n",
       "              (LayerNorm): LayerNorm((768,), eps=1e-12, elementwise_affine=True)\n",
       "              (dropout): Dropout(p=0.1, inplace=False)\n",
       "            )\n",
       "          )\n",
       "          (intermediate): BertIntermediate(\n",
       "            (dense): Linear(in_features=768, out_features=3072, bias=True)\n",
       "            (intermediate_act_fn): GELUActivation()\n",
       "          )\n",
       "          (output): BertOutput(\n",
       "            (dense): Linear(in_features=3072, out_features=768, bias=True)\n",
       "            (LayerNorm): LayerNorm((768,), eps=1e-12, elementwise_affine=True)\n",
       "            (dropout): Dropout(p=0.1, inplace=False)\n",
       "          )\n",
       "        )\n",
       "        (8): BertLayer(\n",
       "          (attention): BertAttention(\n",
       "            (self): BertSelfAttention(\n",
       "              (query): Linear(in_features=768, out_features=768, bias=True)\n",
       "              (key): Linear(in_features=768, out_features=768, bias=True)\n",
       "              (value): Linear(in_features=768, out_features=768, bias=True)\n",
       "              (dropout): Dropout(p=0.1, inplace=False)\n",
       "            )\n",
       "            (output): BertSelfOutput(\n",
       "              (dense): Linear(in_features=768, out_features=768, bias=True)\n",
       "              (LayerNorm): LayerNorm((768,), eps=1e-12, elementwise_affine=True)\n",
       "              (dropout): Dropout(p=0.1, inplace=False)\n",
       "            )\n",
       "          )\n",
       "          (intermediate): BertIntermediate(\n",
       "            (dense): Linear(in_features=768, out_features=3072, bias=True)\n",
       "            (intermediate_act_fn): GELUActivation()\n",
       "          )\n",
       "          (output): BertOutput(\n",
       "            (dense): Linear(in_features=3072, out_features=768, bias=True)\n",
       "            (LayerNorm): LayerNorm((768,), eps=1e-12, elementwise_affine=True)\n",
       "            (dropout): Dropout(p=0.1, inplace=False)\n",
       "          )\n",
       "        )\n",
       "        (9): BertLayer(\n",
       "          (attention): BertAttention(\n",
       "            (self): BertSelfAttention(\n",
       "              (query): Linear(in_features=768, out_features=768, bias=True)\n",
       "              (key): Linear(in_features=768, out_features=768, bias=True)\n",
       "              (value): Linear(in_features=768, out_features=768, bias=True)\n",
       "              (dropout): Dropout(p=0.1, inplace=False)\n",
       "            )\n",
       "            (output): BertSelfOutput(\n",
       "              (dense): Linear(in_features=768, out_features=768, bias=True)\n",
       "              (LayerNorm): LayerNorm((768,), eps=1e-12, elementwise_affine=True)\n",
       "              (dropout): Dropout(p=0.1, inplace=False)\n",
       "            )\n",
       "          )\n",
       "          (intermediate): BertIntermediate(\n",
       "            (dense): Linear(in_features=768, out_features=3072, bias=True)\n",
       "            (intermediate_act_fn): GELUActivation()\n",
       "          )\n",
       "          (output): BertOutput(\n",
       "            (dense): Linear(in_features=3072, out_features=768, bias=True)\n",
       "            (LayerNorm): LayerNorm((768,), eps=1e-12, elementwise_affine=True)\n",
       "            (dropout): Dropout(p=0.1, inplace=False)\n",
       "          )\n",
       "        )\n",
       "        (10): BertLayer(\n",
       "          (attention): BertAttention(\n",
       "            (self): BertSelfAttention(\n",
       "              (query): Linear(in_features=768, out_features=768, bias=True)\n",
       "              (key): Linear(in_features=768, out_features=768, bias=True)\n",
       "              (value): Linear(in_features=768, out_features=768, bias=True)\n",
       "              (dropout): Dropout(p=0.1, inplace=False)\n",
       "            )\n",
       "            (output): BertSelfOutput(\n",
       "              (dense): Linear(in_features=768, out_features=768, bias=True)\n",
       "              (LayerNorm): LayerNorm((768,), eps=1e-12, elementwise_affine=True)\n",
       "              (dropout): Dropout(p=0.1, inplace=False)\n",
       "            )\n",
       "          )\n",
       "          (intermediate): BertIntermediate(\n",
       "            (dense): Linear(in_features=768, out_features=3072, bias=True)\n",
       "            (intermediate_act_fn): GELUActivation()\n",
       "          )\n",
       "          (output): BertOutput(\n",
       "            (dense): Linear(in_features=3072, out_features=768, bias=True)\n",
       "            (LayerNorm): LayerNorm((768,), eps=1e-12, elementwise_affine=True)\n",
       "            (dropout): Dropout(p=0.1, inplace=False)\n",
       "          )\n",
       "        )\n",
       "        (11): BertLayer(\n",
       "          (attention): BertAttention(\n",
       "            (self): BertSelfAttention(\n",
       "              (query): Linear(in_features=768, out_features=768, bias=True)\n",
       "              (key): Linear(in_features=768, out_features=768, bias=True)\n",
       "              (value): Linear(in_features=768, out_features=768, bias=True)\n",
       "              (dropout): Dropout(p=0.1, inplace=False)\n",
       "            )\n",
       "            (output): BertSelfOutput(\n",
       "              (dense): Linear(in_features=768, out_features=768, bias=True)\n",
       "              (LayerNorm): LayerNorm((768,), eps=1e-12, elementwise_affine=True)\n",
       "              (dropout): Dropout(p=0.1, inplace=False)\n",
       "            )\n",
       "          )\n",
       "          (intermediate): BertIntermediate(\n",
       "            (dense): Linear(in_features=768, out_features=3072, bias=True)\n",
       "            (intermediate_act_fn): GELUActivation()\n",
       "          )\n",
       "          (output): BertOutput(\n",
       "            (dense): Linear(in_features=3072, out_features=768, bias=True)\n",
       "            (LayerNorm): LayerNorm((768,), eps=1e-12, elementwise_affine=True)\n",
       "            (dropout): Dropout(p=0.1, inplace=False)\n",
       "          )\n",
       "        )\n",
       "      )\n",
       "    )\n",
       "    (pooler): BertPooler(\n",
       "      (dense): Linear(in_features=768, out_features=768, bias=True)\n",
       "      (activation): Tanh()\n",
       "    )\n",
       "  )\n",
       "  (dropout): Dropout(p=0.1, inplace=False)\n",
       "  (classifier): Linear(in_features=768, out_features=7, bias=True)\n",
       ")"
      ]
     },
     "execution_count": 69,
     "metadata": {},
     "output_type": "execute_result"
    }
   ],
   "source": [
    "model"
   ]
  },
  {
   "cell_type": "code",
   "execution_count": 70,
   "metadata": {
    "colab": {
     "base_uri": "https://localhost:8080/"
    },
    "execution": {
     "iopub.execute_input": "2023-02-20T01:08:56.694531Z",
     "iopub.status.busy": "2023-02-20T01:08:56.694331Z",
     "iopub.status.idle": "2023-02-20T01:08:57.580907Z",
     "shell.execute_reply": "2023-02-20T01:08:57.580262Z",
     "shell.execute_reply.started": "2023-02-20T01:08:56.694511Z"
    },
    "id": "4g9EutO4F1q4",
    "outputId": "7d7b2b58-b9bf-46ee-e24b-d6776806d90b",
    "tags": []
   },
   "outputs": [
    {
     "name": "stdout",
     "output_type": "stream",
     "text": [
      "Название статьи: В Великобритании рассекретили план похищения королевы Виктории\n",
      "Предсказанная категория: Происшествия\n",
      "Истинная категория: Общество\n",
      "\n",
      "Название статьи: Савченко приехала в Донбасс и села за штурвал боевого вертолета\n",
      "Предсказанная категория: Украина\n",
      "Истинная категория: Украина\n",
      "\n",
      "Название статьи: Именинница съела обед в самолете и пролежала три дня с отравлением\n",
      "Предсказанная категория: Происшествия\n",
      "Истинная категория: Происшествия\n",
      "\n",
      "Название статьи: Вице-президент США назвал республиканцев неандертальцами\n",
      "Предсказанная категория: Политика\n",
      "Истинная категория: Политика\n",
      "\n",
      "Название статьи: Радамель Фалькао перейдет в клуб российского бизнесмена\n",
      "Предсказанная категория: Футбол\n",
      "Истинная категория: Футбол\n",
      "\n",
      "Название статьи: Министр экономики Швейцарии осудил санкции против России\n",
      "Предсказанная категория: Госэкономика\n",
      "Истинная категория: Политика\n",
      "\n",
      "Название статьи: Минобразования Киргизии засудило противников школьной формы\n",
      "Предсказанная категория: Все\n",
      "Истинная категория: Все\n",
      "\n",
      "Название статьи: Аксенова переизбрали главой Крыма\n",
      "Предсказанная категория: Политика\n",
      "Истинная категория: Политика\n",
      "\n",
      "Название статьи: В 2005 году Киев сделает украинцами 12 тысяч иностранцев\n",
      "Предсказанная категория: Украина\n",
      "Истинная категория: Все\n",
      "\n",
      "Название статьи: Бывший аргентинский диктатор Хорхе Видела скончался в тюрьме\n",
      "Предсказанная категория: Политика\n",
      "Истинная категория: Политика\n",
      "\n",
      "CPU times: user 1.67 s, sys: 34.7 ms, total: 1.71 s\n",
      "Wall time: 881 ms\n"
     ]
    }
   ],
   "source": [
    "%%time\n",
    "\n",
    "model.to('cpu')\n",
    "model.eval()\n",
    "\n",
    "# Выберем несколько случайных названий товаров\n",
    "skus = [randint(1, len(df)) for p in range(0, 10)]\n",
    "for sku in skus:\n",
    "    ground_truth = df.iloc[sku]['category_1']\n",
    "    sku_title = df.iloc[sku]['name']\n",
    "    tokens = tokenizer.encode(sku_title, add_special_tokens=True)\n",
    "    tokens_tensor = torch.tensor([tokens])\n",
    "    with torch.no_grad():\n",
    "        logits = model(tokens_tensor)\n",
    "    # Логиты по каждой категории\n",
    "    logits = logits[0].detach().numpy()\n",
    "    # Выбираем наиболее вероятную категорию товара\n",
    "    predicted_class = np.argmax(logits, axis=1)\n",
    "\n",
    "    print(f'Название статьи: {sku_title}')\n",
    "    print(f'Предсказанная категория: {category_index_reverce[predicted_class[0]]}')\n",
    "    print(f'Истинная категория: {ground_truth}')\n",
    "    print()"
   ]
  },
  {
   "cell_type": "code",
   "execution_count": null,
   "metadata": {
    "id": "aiZjXaCPF1q5"
   },
   "outputs": [],
   "source": []
  },
  {
   "cell_type": "code",
   "execution_count": null,
   "metadata": {
    "id": "ta0Ymh2JF1q5"
   },
   "outputs": [],
   "source": []
  },
  {
   "cell_type": "code",
   "execution_count": null,
   "metadata": {
    "id": "MF7eEAnyF1q5"
   },
   "outputs": [],
   "source": []
  }
 ],
 "metadata": {
  "accelerator": "GPU",
  "colab": {
   "provenance": []
  },
  "kernelspec": {
   "display_name": "saturn (Python 3)",
   "language": "python",
   "name": "python3"
  },
  "language_info": {
   "codemirror_mode": {
    "name": "ipython",
    "version": 3
   },
   "file_extension": ".py",
   "mimetype": "text/x-python",
   "name": "python",
   "nbconvert_exporter": "python",
   "pygments_lexer": "ipython3",
   "version": "3.9.12"
  }
 },
 "nbformat": 4,
 "nbformat_minor": 4
}
