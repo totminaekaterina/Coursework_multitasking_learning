{
 "cells": [
  {
   "cell_type": "code",
   "execution_count": 1,
   "metadata": {
    "_cell_guid": "b1076dfc-b9ad-4769-8c92-a6c4dae69d19",
    "_uuid": "8f2839f25d086af736a60e9eeb907d3b93b6e0e5",
    "jupyter": {
     "outputs_hidden": true
    }
   },
   "outputs": [],
   "source": [
    "from sklearn.feature_extraction.text import TfidfVectorizer\n",
    "from nltk.corpus import stopwords\n",
    "from nltk import word_tokenize\n",
    "import pandas as pd\n",
    "import numpy as np\n",
    "import re\n",
    "from sklearn.model_selection import train_test_split\n",
    "from collections import defaultdict\n",
    "from sklearn.linear_model import LogisticRegression\n",
    "from sklearn.preprocessing import LabelEncoder\n",
    "from sklearn.metrics import accuracy_score, classification_report\n",
    "import json"
   ]
  },
  {
   "cell_type": "markdown",
   "metadata": {
    "_cell_guid": "1e7ce5e1-5c36-43aa-aeb7-427e55e9daa6",
    "_uuid": "48b8c571b118a12109989242e3ffc90ba1e197c8"
   },
   "source": [
    "# read date"
   ]
  },
  {
   "cell_type": "code",
   "execution_count": 57,
   "metadata": {
    "_cell_guid": "79c7e3d0-c299-4dcb-8224-4455121ee9b0",
    "_uuid": "d629ff2d2480ee46fbb7e2d37f6b5fab8052498a",
    "jupyter": {
     "outputs_hidden": true
    }
   },
   "outputs": [],
   "source": [
    "with open('train.json', encoding='UTF-8-SIG') as f:\n",
    "    raw_train = json.load(f)"
   ]
  },
  {
   "cell_type": "code",
   "execution_count": 58,
   "metadata": {},
   "outputs": [
    {
     "data": {
      "text/plain": [
       "{'text': 'Медики рассказали о состоянии пострадавшего мужчины, на которого было совершено нападение возле отделения банка по Тимирязева. Как прокомментировали Tengrinews.kz в пресс-службе Управления здравоохранения Алматы, с места происшествия в службу скорой помощи обратились двое человек. \\n\\n«Одному из них на месте была оказана медицинская помощь. От госпитализации он отказался. Второй пациент был доставлен в больницу скорой неотложной помощи (БСНП) с сотрясением головного мозга, ушибленной раной головы. Состояние на данный момент оценивается ближе к удовлетворительному. Пока он проходит обследование в больнице», — сообщили в Управлении здравоохранения Алматы.  \\n\\nНапомним, в Алматы на пересечении улиц Тимирязева и Маркова возле БЦ «Алатау Гранд» произошла стрельба, ориентировочно в обеденное время. В здании расположены отделения банков «ВТБ» и «Сбербанк». \\n\\nВ настоящее время полицейские разыскивают подозреваемых в стрельбе. По факту нападения в местном управлении внутренних дел начато досудебное расследование по статье 192 УК РК «Разбой». Создана специальная следственно-оперативная группа из числа опытных сотрудников подразделений криминальной полиции. В настоящий момент проводится комплекс оперативных и следственных мероприятий, направленных на установление личностей нападавших и их задержание. \\n\\nРанее в «ДО АО Банк ВТБ (Казахстан)» прокомментировали нападение на мужчину. По данным пресс-службы банка, все отделения банка работают в штатном режиме с применением усиленных мер безопасности.   сотрудники полиции работают внутри отделения банка «ВТБ». Место происшествия не оцеплено. \\n\\n \\n',\n",
       " 'id': 1957,\n",
       " 'sentiment': 'negative'}"
      ]
     },
     "execution_count": 58,
     "metadata": {},
     "output_type": "execute_result"
    }
   ],
   "source": [
    "raw_train[1]"
   ]
  },
  {
   "cell_type": "markdown",
   "metadata": {
    "_cell_guid": "ba20f8f7-7272-48d6-b765-128eef8b2c77",
    "_uuid": "07aee9902b74e922de9fe4303710f91921ed6652"
   },
   "source": [
    "## build tfidf language model"
   ]
  },
  {
   "cell_type": "code",
   "execution_count": 59,
   "metadata": {
    "_cell_guid": "04e7b325-ca9c-4492-a314-c28f06843323",
    "_uuid": "c839f496745dbaad093b8786a5d0ddb4add69377",
    "jupyter": {
     "outputs_hidden": true
    }
   },
   "outputs": [],
   "source": [
    "def ru_token(string):\n",
    "    \"\"\"russian tokenize based on nltk.word_tokenize. only russian letter remaind.\"\"\"\n",
    "    return [i for i in word_tokenize(string) if re.match(r'[\\u0400-\\u04ffа́]+$', i)]"
   ]
  },
  {
   "cell_type": "code",
   "execution_count": 60,
   "metadata": {},
   "outputs": [
    {
     "name": "stderr",
     "output_type": "stream",
     "text": [
      "[nltk_data] Downloading package punkt to\n",
      "[nltk_data]     C:\\Users\\totmi\\AppData\\Roaming\\nltk_data...\n",
      "[nltk_data]   Package punkt is already up-to-date!\n"
     ]
    },
    {
     "data": {
      "text/plain": [
       "True"
      ]
     },
     "execution_count": 60,
     "metadata": {},
     "output_type": "execute_result"
    }
   ],
   "source": [
    "import nltk\n",
    "nltk.download('punkt')"
   ]
  },
  {
   "cell_type": "code",
   "execution_count": 61,
   "metadata": {
    "_cell_guid": "e845fcda-b189-41ac-acdd-ca64dadcc30d",
    "_uuid": "c33e3e63190cef616fd79fb776514581865f8371",
    "jupyter": {
     "outputs_hidden": true
    }
   },
   "outputs": [],
   "source": [
    "params = {}\n",
    "params['tokenizer'] = ru_token\n",
    "params['stop_words'] = nltk.corpus.stopwords.words('russian')\n",
    "params['ngram_range'] = (1, 3)\n",
    "params['min_df'] = 3"
   ]
  },
  {
   "cell_type": "code",
   "execution_count": 62,
   "metadata": {
    "_cell_guid": "e12adfc7-f0a9-463b-91bd-3ec27a4e8a06",
    "_uuid": "ab5170c3aa76ec00ca8ae4c5a381a07f8e6dd853",
    "jupyter": {
     "outputs_hidden": true
    }
   },
   "outputs": [],
   "source": [
    "tfidf  = TfidfVectorizer(**params)"
   ]
  },
  {
   "cell_type": "code",
   "execution_count": 63,
   "metadata": {
    "_cell_guid": "89f82978-df03-4cfd-8740-46d7b22b8d84",
    "_uuid": "3ecfca75ac4d1cd1ce02db080c0d17dc2e76ad9d",
    "scrolled": true
   },
   "outputs": [
    {
     "name": "stderr",
     "output_type": "stream",
     "text": [
      "C:\\Users\\totmi\\anaconda3\\lib\\site-packages\\sklearn\\feature_extraction\\text.py:528: UserWarning: The parameter 'token_pattern' will not be used since 'tokenizer' is not None'\n",
      "  warnings.warn(\n"
     ]
    },
    {
     "data": {
      "text/html": [
       "<style>#sk-container-id-5 {color: black;background-color: white;}#sk-container-id-5 pre{padding: 0;}#sk-container-id-5 div.sk-toggleable {background-color: white;}#sk-container-id-5 label.sk-toggleable__label {cursor: pointer;display: block;width: 100%;margin-bottom: 0;padding: 0.3em;box-sizing: border-box;text-align: center;}#sk-container-id-5 label.sk-toggleable__label-arrow:before {content: \"▸\";float: left;margin-right: 0.25em;color: #696969;}#sk-container-id-5 label.sk-toggleable__label-arrow:hover:before {color: black;}#sk-container-id-5 div.sk-estimator:hover label.sk-toggleable__label-arrow:before {color: black;}#sk-container-id-5 div.sk-toggleable__content {max-height: 0;max-width: 0;overflow: hidden;text-align: left;background-color: #f0f8ff;}#sk-container-id-5 div.sk-toggleable__content pre {margin: 0.2em;color: black;border-radius: 0.25em;background-color: #f0f8ff;}#sk-container-id-5 input.sk-toggleable__control:checked~div.sk-toggleable__content {max-height: 200px;max-width: 100%;overflow: auto;}#sk-container-id-5 input.sk-toggleable__control:checked~label.sk-toggleable__label-arrow:before {content: \"▾\";}#sk-container-id-5 div.sk-estimator input.sk-toggleable__control:checked~label.sk-toggleable__label {background-color: #d4ebff;}#sk-container-id-5 div.sk-label input.sk-toggleable__control:checked~label.sk-toggleable__label {background-color: #d4ebff;}#sk-container-id-5 input.sk-hidden--visually {border: 0;clip: rect(1px 1px 1px 1px);clip: rect(1px, 1px, 1px, 1px);height: 1px;margin: -1px;overflow: hidden;padding: 0;position: absolute;width: 1px;}#sk-container-id-5 div.sk-estimator {font-family: monospace;background-color: #f0f8ff;border: 1px dotted black;border-radius: 0.25em;box-sizing: border-box;margin-bottom: 0.5em;}#sk-container-id-5 div.sk-estimator:hover {background-color: #d4ebff;}#sk-container-id-5 div.sk-parallel-item::after {content: \"\";width: 100%;border-bottom: 1px solid gray;flex-grow: 1;}#sk-container-id-5 div.sk-label:hover label.sk-toggleable__label {background-color: #d4ebff;}#sk-container-id-5 div.sk-serial::before {content: \"\";position: absolute;border-left: 1px solid gray;box-sizing: border-box;top: 0;bottom: 0;left: 50%;z-index: 0;}#sk-container-id-5 div.sk-serial {display: flex;flex-direction: column;align-items: center;background-color: white;padding-right: 0.2em;padding-left: 0.2em;position: relative;}#sk-container-id-5 div.sk-item {position: relative;z-index: 1;}#sk-container-id-5 div.sk-parallel {display: flex;align-items: stretch;justify-content: center;background-color: white;position: relative;}#sk-container-id-5 div.sk-item::before, #sk-container-id-5 div.sk-parallel-item::before {content: \"\";position: absolute;border-left: 1px solid gray;box-sizing: border-box;top: 0;bottom: 0;left: 50%;z-index: -1;}#sk-container-id-5 div.sk-parallel-item {display: flex;flex-direction: column;z-index: 1;position: relative;background-color: white;}#sk-container-id-5 div.sk-parallel-item:first-child::after {align-self: flex-end;width: 50%;}#sk-container-id-5 div.sk-parallel-item:last-child::after {align-self: flex-start;width: 50%;}#sk-container-id-5 div.sk-parallel-item:only-child::after {width: 0;}#sk-container-id-5 div.sk-dashed-wrapped {border: 1px dashed gray;margin: 0 0.4em 0.5em 0.4em;box-sizing: border-box;padding-bottom: 0.4em;background-color: white;}#sk-container-id-5 div.sk-label label {font-family: monospace;font-weight: bold;display: inline-block;line-height: 1.2em;}#sk-container-id-5 div.sk-label-container {text-align: center;}#sk-container-id-5 div.sk-container {/* jupyter's `normalize.less` sets `[hidden] { display: none; }` but bootstrap.min.css set `[hidden] { display: none !important; }` so we also need the `!important` here to be able to override the default hidden behavior on the sphinx rendered scikit-learn.org. See: https://github.com/scikit-learn/scikit-learn/issues/21755 */display: inline-block !important;position: relative;}#sk-container-id-5 div.sk-text-repr-fallback {display: none;}</style><div id=\"sk-container-id-5\" class=\"sk-top-container\"><div class=\"sk-text-repr-fallback\"><pre>TfidfVectorizer(min_df=3, ngram_range=(1, 3),\n",
       "                stop_words=[&#x27;и&#x27;, &#x27;в&#x27;, &#x27;во&#x27;, &#x27;не&#x27;, &#x27;что&#x27;, &#x27;он&#x27;, &#x27;на&#x27;, &#x27;я&#x27;, &#x27;с&#x27;,\n",
       "                            &#x27;со&#x27;, &#x27;как&#x27;, &#x27;а&#x27;, &#x27;то&#x27;, &#x27;все&#x27;, &#x27;она&#x27;, &#x27;так&#x27;, &#x27;его&#x27;,\n",
       "                            &#x27;но&#x27;, &#x27;да&#x27;, &#x27;ты&#x27;, &#x27;к&#x27;, &#x27;у&#x27;, &#x27;же&#x27;, &#x27;вы&#x27;, &#x27;за&#x27;, &#x27;бы&#x27;,\n",
       "                            &#x27;по&#x27;, &#x27;только&#x27;, &#x27;ее&#x27;, &#x27;мне&#x27;, ...],\n",
       "                tokenizer=&lt;function ru_token at 0x000001EFC8B9C670&gt;)</pre><b>In a Jupyter environment, please rerun this cell to show the HTML representation or trust the notebook. <br />On GitHub, the HTML representation is unable to render, please try loading this page with nbviewer.org.</b></div><div class=\"sk-container\" hidden><div class=\"sk-item\"><div class=\"sk-estimator sk-toggleable\"><input class=\"sk-toggleable__control sk-hidden--visually\" id=\"sk-estimator-id-5\" type=\"checkbox\" checked><label for=\"sk-estimator-id-5\" class=\"sk-toggleable__label sk-toggleable__label-arrow\">TfidfVectorizer</label><div class=\"sk-toggleable__content\"><pre>TfidfVectorizer(min_df=3, ngram_range=(1, 3),\n",
       "                stop_words=[&#x27;и&#x27;, &#x27;в&#x27;, &#x27;во&#x27;, &#x27;не&#x27;, &#x27;что&#x27;, &#x27;он&#x27;, &#x27;на&#x27;, &#x27;я&#x27;, &#x27;с&#x27;,\n",
       "                            &#x27;со&#x27;, &#x27;как&#x27;, &#x27;а&#x27;, &#x27;то&#x27;, &#x27;все&#x27;, &#x27;она&#x27;, &#x27;так&#x27;, &#x27;его&#x27;,\n",
       "                            &#x27;но&#x27;, &#x27;да&#x27;, &#x27;ты&#x27;, &#x27;к&#x27;, &#x27;у&#x27;, &#x27;же&#x27;, &#x27;вы&#x27;, &#x27;за&#x27;, &#x27;бы&#x27;,\n",
       "                            &#x27;по&#x27;, &#x27;только&#x27;, &#x27;ее&#x27;, &#x27;мне&#x27;, ...],\n",
       "                tokenizer=&lt;function ru_token at 0x000001EFC8B9C670&gt;)</pre></div></div></div></div></div>"
      ],
      "text/plain": [
       "TfidfVectorizer(min_df=3, ngram_range=(1, 3),\n",
       "                stop_words=['и', 'в', 'во', 'не', 'что', 'он', 'на', 'я', 'с',\n",
       "                            'со', 'как', 'а', 'то', 'все', 'она', 'так', 'его',\n",
       "                            'но', 'да', 'ты', 'к', 'у', 'же', 'вы', 'за', 'бы',\n",
       "                            'по', 'только', 'ее', 'мне', ...],\n",
       "                tokenizer=<function ru_token at 0x000001EFC8B9C670>)"
      ]
     },
     "execution_count": 63,
     "metadata": {},
     "output_type": "execute_result"
    }
   ],
   "source": [
    "tfidf.fit([i['text'] for i in raw_train])"
   ]
  },
  {
   "cell_type": "markdown",
   "metadata": {
    "_cell_guid": "ca07a374-0d0b-464c-bd30-34b7945ef66f",
    "_uuid": "2a16de95ab36dcbd48315933f3b037688199ad70"
   },
   "source": [
    "## train Validation set split"
   ]
  },
  {
   "cell_type": "code",
   "execution_count": 64,
   "metadata": {
    "_cell_guid": "93fd0230-a9ed-4730-a259-9fe7c6b18410",
    "_uuid": "86d445d4b351ef2eb6a86576203d19c67b11c450",
    "jupyter": {
     "outputs_hidden": true
    },
    "scrolled": false
   },
   "outputs": [],
   "source": [
    "train = {}\n",
    "val = {}\n",
    "tmp = defaultdict(list)\n",
    "for e in raw_train:\n",
    "    tmp[e['sentiment']].append(e['text'])\n",
    "for l in tmp:\n",
    "    train[l], val[l] = train_test_split(tmp[l], test_size=0.25, random_state=42)"
   ]
  },
  {
   "cell_type": "markdown",
   "metadata": {
    "_cell_guid": "68164113-5cf2-431c-9921-d802a5173d4f",
    "_uuid": "3f82eba0c655c80e7affca43a0fae891dff4fe75"
   },
   "source": [
    "## upsampling align for balance"
   ]
  },
  {
   "cell_type": "code",
   "execution_count": 65,
   "metadata": {
    "_cell_guid": "8a29ab3a-c70c-4892-8492-8c1a04580784",
    "_uuid": "053009ed866d2a35806feb8562c608ad33b1b054",
    "jupyter": {
     "outputs_hidden": true
    }
   },
   "outputs": [],
   "source": [
    "def upsampling_align(some_dict, random_state=2018):\n",
    "    rand = np.random.RandomState(random_state)\n",
    "    upper = max([len(some_dict[l]) for l in some_dict])\n",
    "    print('upper bound: {}'.format(upper))\n",
    "    tmp = {}\n",
    "    for l in some_dict:\n",
    "        if len(some_dict[l]) < upper:\n",
    "            repeat_time = int(upper/len(some_dict[l]))\n",
    "            remainder = upper % len(some_dict[l])\n",
    "            _tmp = some_dict[l].copy()\n",
    "            rand.shuffle(_tmp)\n",
    "            tmp[l] = some_dict[l] * repeat_time + _tmp[:remainder]\n",
    "            rand.shuffle(tmp[l])\n",
    "        else:\n",
    "            tmp[l] = some_dict[l]\n",
    "    return tmp"
   ]
  },
  {
   "cell_type": "code",
   "execution_count": 66,
   "metadata": {
    "_cell_guid": "d0f40731-2950-4282-8f87-daddee118b37",
    "_uuid": "18585dbbb50b0fdeea89e4cc3baab4a115085d91"
   },
   "outputs": [
    {
     "name": "stdout",
     "output_type": "stream",
     "text": [
      "upper bound: 3025\n"
     ]
    }
   ],
   "source": [
    "btrain = upsampling_align(train)"
   ]
  },
  {
   "cell_type": "markdown",
   "metadata": {
    "_cell_guid": "97d208e2-0a29-4d2b-87c4-13bbf9515ed9",
    "_uuid": "7a1a1cebdccc032fb9aea8752d3717d36610af09"
   },
   "source": [
    "## softmax regression model training"
   ]
  },
  {
   "cell_type": "code",
   "execution_count": 67,
   "metadata": {
    "_cell_guid": "ea51eca8-7a13-47a0-b198-b58ff640e17d",
    "_uuid": "30fdd3b6d3495f3e54fcdd01d1797a0fd974ac2d",
    "jupyter": {
     "outputs_hidden": true
    }
   },
   "outputs": [],
   "source": [
    "m_params = {}\n",
    "m_params['solver'] = 'lbfgs'\n",
    "m_params['multi_class'] = 'multinomial'"
   ]
  },
  {
   "cell_type": "code",
   "execution_count": 68,
   "metadata": {
    "_cell_guid": "1a183b47-f624-4f98-8699-908f31f3d13f",
    "_uuid": "3e58dfba1d924c487677f771cd245ff9c4593ecf",
    "jupyter": {
     "outputs_hidden": true
    }
   },
   "outputs": [],
   "source": [
    "softmax = LogisticRegression(**m_params)"
   ]
  },
  {
   "cell_type": "code",
   "execution_count": 69,
   "metadata": {
    "_cell_guid": "1c10264d-f973-4c7e-91d7-da3e795a892c",
    "_uuid": "559a1cd77ca652d88439a8c1d449566d678cc37f"
   },
   "outputs": [
    {
     "name": "stderr",
     "output_type": "stream",
     "text": [
      "C:\\Users\\totmi\\anaconda3\\lib\\site-packages\\sklearn\\linear_model\\_logistic.py:458: ConvergenceWarning: lbfgs failed to converge (status=1):\n",
      "STOP: TOTAL NO. of ITERATIONS REACHED LIMIT.\n",
      "\n",
      "Increase the number of iterations (max_iter) or scale the data as shown in:\n",
      "    https://scikit-learn.org/stable/modules/preprocessing.html\n",
      "Please also refer to the documentation for alternative solver options:\n",
      "    https://scikit-learn.org/stable/modules/linear_model.html#logistic-regression\n",
      "  n_iter_i = _check_optimize_result(\n"
     ]
    },
    {
     "data": {
      "text/html": [
       "<style>#sk-container-id-6 {color: black;background-color: white;}#sk-container-id-6 pre{padding: 0;}#sk-container-id-6 div.sk-toggleable {background-color: white;}#sk-container-id-6 label.sk-toggleable__label {cursor: pointer;display: block;width: 100%;margin-bottom: 0;padding: 0.3em;box-sizing: border-box;text-align: center;}#sk-container-id-6 label.sk-toggleable__label-arrow:before {content: \"▸\";float: left;margin-right: 0.25em;color: #696969;}#sk-container-id-6 label.sk-toggleable__label-arrow:hover:before {color: black;}#sk-container-id-6 div.sk-estimator:hover label.sk-toggleable__label-arrow:before {color: black;}#sk-container-id-6 div.sk-toggleable__content {max-height: 0;max-width: 0;overflow: hidden;text-align: left;background-color: #f0f8ff;}#sk-container-id-6 div.sk-toggleable__content pre {margin: 0.2em;color: black;border-radius: 0.25em;background-color: #f0f8ff;}#sk-container-id-6 input.sk-toggleable__control:checked~div.sk-toggleable__content {max-height: 200px;max-width: 100%;overflow: auto;}#sk-container-id-6 input.sk-toggleable__control:checked~label.sk-toggleable__label-arrow:before {content: \"▾\";}#sk-container-id-6 div.sk-estimator input.sk-toggleable__control:checked~label.sk-toggleable__label {background-color: #d4ebff;}#sk-container-id-6 div.sk-label input.sk-toggleable__control:checked~label.sk-toggleable__label {background-color: #d4ebff;}#sk-container-id-6 input.sk-hidden--visually {border: 0;clip: rect(1px 1px 1px 1px);clip: rect(1px, 1px, 1px, 1px);height: 1px;margin: -1px;overflow: hidden;padding: 0;position: absolute;width: 1px;}#sk-container-id-6 div.sk-estimator {font-family: monospace;background-color: #f0f8ff;border: 1px dotted black;border-radius: 0.25em;box-sizing: border-box;margin-bottom: 0.5em;}#sk-container-id-6 div.sk-estimator:hover {background-color: #d4ebff;}#sk-container-id-6 div.sk-parallel-item::after {content: \"\";width: 100%;border-bottom: 1px solid gray;flex-grow: 1;}#sk-container-id-6 div.sk-label:hover label.sk-toggleable__label {background-color: #d4ebff;}#sk-container-id-6 div.sk-serial::before {content: \"\";position: absolute;border-left: 1px solid gray;box-sizing: border-box;top: 0;bottom: 0;left: 50%;z-index: 0;}#sk-container-id-6 div.sk-serial {display: flex;flex-direction: column;align-items: center;background-color: white;padding-right: 0.2em;padding-left: 0.2em;position: relative;}#sk-container-id-6 div.sk-item {position: relative;z-index: 1;}#sk-container-id-6 div.sk-parallel {display: flex;align-items: stretch;justify-content: center;background-color: white;position: relative;}#sk-container-id-6 div.sk-item::before, #sk-container-id-6 div.sk-parallel-item::before {content: \"\";position: absolute;border-left: 1px solid gray;box-sizing: border-box;top: 0;bottom: 0;left: 50%;z-index: -1;}#sk-container-id-6 div.sk-parallel-item {display: flex;flex-direction: column;z-index: 1;position: relative;background-color: white;}#sk-container-id-6 div.sk-parallel-item:first-child::after {align-self: flex-end;width: 50%;}#sk-container-id-6 div.sk-parallel-item:last-child::after {align-self: flex-start;width: 50%;}#sk-container-id-6 div.sk-parallel-item:only-child::after {width: 0;}#sk-container-id-6 div.sk-dashed-wrapped {border: 1px dashed gray;margin: 0 0.4em 0.5em 0.4em;box-sizing: border-box;padding-bottom: 0.4em;background-color: white;}#sk-container-id-6 div.sk-label label {font-family: monospace;font-weight: bold;display: inline-block;line-height: 1.2em;}#sk-container-id-6 div.sk-label-container {text-align: center;}#sk-container-id-6 div.sk-container {/* jupyter's `normalize.less` sets `[hidden] { display: none; }` but bootstrap.min.css set `[hidden] { display: none !important; }` so we also need the `!important` here to be able to override the default hidden behavior on the sphinx rendered scikit-learn.org. See: https://github.com/scikit-learn/scikit-learn/issues/21755 */display: inline-block !important;position: relative;}#sk-container-id-6 div.sk-text-repr-fallback {display: none;}</style><div id=\"sk-container-id-6\" class=\"sk-top-container\"><div class=\"sk-text-repr-fallback\"><pre>LogisticRegression(multi_class=&#x27;multinomial&#x27;)</pre><b>In a Jupyter environment, please rerun this cell to show the HTML representation or trust the notebook. <br />On GitHub, the HTML representation is unable to render, please try loading this page with nbviewer.org.</b></div><div class=\"sk-container\" hidden><div class=\"sk-item\"><div class=\"sk-estimator sk-toggleable\"><input class=\"sk-toggleable__control sk-hidden--visually\" id=\"sk-estimator-id-6\" type=\"checkbox\" checked><label for=\"sk-estimator-id-6\" class=\"sk-toggleable__label sk-toggleable__label-arrow\">LogisticRegression</label><div class=\"sk-toggleable__content\"><pre>LogisticRegression(multi_class=&#x27;multinomial&#x27;)</pre></div></div></div></div></div>"
      ],
      "text/plain": [
       "LogisticRegression(multi_class='multinomial')"
      ]
     },
     "execution_count": 69,
     "metadata": {},
     "output_type": "execute_result"
    }
   ],
   "source": [
    "train_x = [j for i in sorted(btrain.keys()) for j in btrain[i]]\n",
    "train_y = [i for i in sorted(btrain.keys()) for j in btrain[i]]\n",
    "softmax.fit(tfidf.transform(train_x), train_y)"
   ]
  },
  {
   "cell_type": "markdown",
   "metadata": {
    "_cell_guid": "4a7b47a6-70ca-40e5-9878-d75e34f4a8ac",
    "_uuid": "a7f1fc9c0568738c10b8a0971481b4f04c6128dd"
   },
   "source": [
    "## evaluate the softmax regression model"
   ]
  },
  {
   "cell_type": "markdown",
   "metadata": {
    "_cell_guid": "22dc6af7-2f9d-4ae0-849c-a9c1930c487a",
    "_uuid": "ec82ab53eb3144598643b0875a39467b19027192"
   },
   "source": [
    "### accuracy"
   ]
  },
  {
   "cell_type": "code",
   "execution_count": 70,
   "metadata": {
    "_cell_guid": "ff9db4c1-a35d-492e-a9cc-0c9cc284d1b7",
    "_uuid": "f39b6bd24a185fcb5afc1067a33c0037627b3133",
    "jupyter": {
     "outputs_hidden": true
    }
   },
   "outputs": [],
   "source": [
    "test_x = [j for i in sorted(val.keys()) for j in val[i]]\n",
    "true = [i for i in sorted(val.keys()) for j in val[i]]"
   ]
  },
  {
   "cell_type": "code",
   "execution_count": 71,
   "metadata": {
    "_cell_guid": "b0a1d928-a89e-4854-a5d9-f75d1b045a20",
    "_uuid": "6e762bcae8a21e326de049a1fabf17b51c4ceec4",
    "jupyter": {
     "outputs_hidden": true
    }
   },
   "outputs": [],
   "source": [
    "pred = softmax.predict(tfidf.transform(test_x))"
   ]
  },
  {
   "cell_type": "code",
   "execution_count": 72,
   "metadata": {
    "_cell_guid": "3f57711e-371c-47c8-8e43-aad6979a6960",
    "_uuid": "a6a9f15a035160e80884276d863d22fe9056a34c"
   },
   "outputs": [
    {
     "data": {
      "text/plain": [
       "0.7155297532656023"
      ]
     },
     "execution_count": 72,
     "metadata": {},
     "output_type": "execute_result"
    }
   ],
   "source": [
    "accuracy_score(true, pred)"
   ]
  },
  {
   "cell_type": "markdown",
   "metadata": {
    "_cell_guid": "898f7426-66d5-4d61-8034-e25c3b80ff9b",
    "_uuid": "31154ab94ad53eb0103e123aa172c863b499f839"
   },
   "source": [
    "### macro recall"
   ]
  },
  {
   "cell_type": "code",
   "execution_count": 73,
   "metadata": {
    "_cell_guid": "4f64e7b3-2613-45ed-83fa-b757d902a411",
    "_uuid": "cb1d059dbdd2a123d063715cc7ce46ec7e096d0e"
   },
   "outputs": [
    {
     "name": "stdout",
     "output_type": "stream",
     "text": [
      "              precision    recall  f1-score   support\n",
      "\n",
      "    negative    0.66227   0.69916   0.68022       359\n",
      "     neutral    0.75510   0.69673   0.72474      1009\n",
      "    positive    0.69353   0.75107   0.72115       699\n",
      "\n",
      "    accuracy                        0.71553      2067\n",
      "   macro avg    0.70363   0.71566   0.70870      2067\n",
      "weighted avg    0.71816   0.71553   0.71580      2067\n",
      "\n"
     ]
    }
   ],
   "source": [
    "lab = LabelEncoder()\n",
    "c_true = lab.fit_transform(true)\n",
    "c_pred = lab.transform(pred)\n",
    "print(classification_report(c_true, c_pred, target_names=lab.classes_, digits=5))"
   ]
  },
  {
   "cell_type": "markdown",
   "metadata": {
    "_uuid": "adbfbd7a8bc2517262eb91b5d479d4d48fa634ed"
   },
   "source": [
    "### balance score"
   ]
  },
  {
   "cell_type": "code",
   "execution_count": 74,
   "metadata": {
    "_uuid": "821b849edf06158dd31a0b32de16c0637f2bf903"
   },
   "outputs": [
    {
     "name": "stdout",
     "output_type": "stream",
     "text": [
      "upper bound: 1009\n"
     ]
    }
   ],
   "source": [
    "bval = upsampling_align(val)"
   ]
  },
  {
   "cell_type": "code",
   "execution_count": 75,
   "metadata": {
    "_uuid": "142f3a45fd0c980a7c26b49b84c2468fa19c1252"
   },
   "outputs": [
    {
     "name": "stdout",
     "output_type": "stream",
     "text": [
      "              precision    recall  f1-score   support\n",
      "\n",
      "    negative    0.83790   0.69673   0.76082      1009\n",
      "     neutral    0.61237   0.69673   0.65183      1009\n",
      "    positive    0.72404   0.74628   0.73499      1009\n",
      "\n",
      "    accuracy                        0.71325      3027\n",
      "   macro avg    0.72477   0.71325   0.71588      3027\n",
      "weighted avg    0.72477   0.71325   0.71588      3027\n",
      "\n"
     ]
    }
   ],
   "source": [
    "b_test_x = [j for i in sorted(bval.keys()) for j in bval[i]]\n",
    "b_true = [i for i in sorted(bval.keys()) for j in bval[i]]\n",
    "b_pred = softmax.predict(tfidf.transform(b_test_x))\n",
    "lab = LabelEncoder()\n",
    "c_true = lab.fit_transform(b_true)\n",
    "c_pred = lab.transform(b_pred)\n",
    "print(classification_report(c_true, c_pred, target_names=lab.classes_, digits=5))"
   ]
  },
  {
   "cell_type": "markdown",
   "metadata": {
    "_cell_guid": "6fc3fc46-006d-4872-8fec-aae2125654cd",
    "_uuid": "81f56a0868c6438d932733a2abb1462d9c12f1d0"
   },
   "source": [
    "## predict"
   ]
  },
  {
   "cell_type": "code",
   "execution_count": 76,
   "metadata": {},
   "outputs": [],
   "source": [
    "with open('TrainOnlySentenceJson.json', encoding='UTF-8-SIG') as f:\n",
    "    raw_test = json.load(f)"
   ]
  },
  {
   "cell_type": "code",
   "execution_count": 77,
   "metadata": {},
   "outputs": [],
   "source": [
    "sub_pred = softmax.predict(tfidf.transform([i['text'] for i in raw_test]))\n",
    "sub_df = pd.DataFrame()\n",
    "sub_df['id'] =  [i['id'] for i in raw_test]\n",
    "sub_df['text'] =  [g['text'] for g in raw_test]\n",
    "sub_df['sentiment'] = sub_pred"
   ]
  },
  {
   "cell_type": "code",
   "execution_count": 78,
   "metadata": {},
   "outputs": [
    {
     "data": {
      "text/html": [
       "<div>\n",
       "<style scoped>\n",
       "    .dataframe tbody tr th:only-of-type {\n",
       "        vertical-align: middle;\n",
       "    }\n",
       "\n",
       "    .dataframe tbody tr th {\n",
       "        vertical-align: top;\n",
       "    }\n",
       "\n",
       "    .dataframe thead th {\n",
       "        text-align: right;\n",
       "    }\n",
       "</style>\n",
       "<table border=\"1\" class=\"dataframe\">\n",
       "  <thead>\n",
       "    <tr style=\"text-align: right;\">\n",
       "      <th></th>\n",
       "      <th>id</th>\n",
       "      <th>text</th>\n",
       "      <th>sentiment</th>\n",
       "    </tr>\n",
       "  </thead>\n",
       "  <tbody>\n",
       "    <tr>\n",
       "      <th>0</th>\n",
       "      <td>1</td>\n",
       "      <td>Один из создателей сервиса шестисекундных виде...</td>\n",
       "      <td>positive</td>\n",
       "    </tr>\n",
       "    <tr>\n",
       "      <th>1</th>\n",
       "      <td>2</td>\n",
       "      <td>Об этом сообщает портал TMZ со ссылкой на исто...</td>\n",
       "      <td>positive</td>\n",
       "    </tr>\n",
       "    <tr>\n",
       "      <th>2</th>\n",
       "      <td>3</td>\n",
       "      <td>По информации издания, утром в воскресенье, 16...</td>\n",
       "      <td>neutral</td>\n",
       "    </tr>\n",
       "    <tr>\n",
       "      <th>3</th>\n",
       "      <td>4</td>\n",
       "      <td>После этого сотрудники правоохранительных орга...</td>\n",
       "      <td>negative</td>\n",
       "    </tr>\n",
       "    <tr>\n",
       "      <th>4</th>\n",
       "      <td>5</td>\n",
       "      <td>В комнате были найдены также следы наркотиков ...</td>\n",
       "      <td>neutral</td>\n",
       "    </tr>\n",
       "  </tbody>\n",
       "</table>\n",
       "</div>"
      ],
      "text/plain": [
       "  id                                               text sentiment\n",
       "0  1  Один из создателей сервиса шестисекундных виде...  positive\n",
       "1  2  Об этом сообщает портал TMZ со ссылкой на исто...  positive\n",
       "2  3  По информации издания, утром в воскресенье, 16...   neutral\n",
       "3  4  После этого сотрудники правоохранительных орга...  negative\n",
       "4  5  В комнате были найдены также следы наркотиков ...   neutral"
      ]
     },
     "execution_count": 78,
     "metadata": {},
     "output_type": "execute_result"
    }
   ],
   "source": [
    "sub_df.head()"
   ]
  },
  {
   "cell_type": "code",
   "execution_count": 79,
   "metadata": {
    "_cell_guid": "b3ba9861-e142-4ad0-8b8e-4e0b2301ddc7",
    "_uuid": "190b5b30ef3e567d65564be0df0e27bcbe1b3b01",
    "jupyter": {
     "outputs_hidden": true
    }
   },
   "outputs": [],
   "source": [
    "sub_df.to_csv('SentimentAnalysis.csv', index=False)"
   ]
  }
 ],
 "metadata": {
  "kernelspec": {
   "display_name": "Python 3 (ipykernel)",
   "language": "python",
   "name": "python3"
  },
  "language_info": {
   "codemirror_mode": {
    "name": "ipython",
    "version": 3
   },
   "file_extension": ".py",
   "mimetype": "text/x-python",
   "name": "python",
   "nbconvert_exporter": "python",
   "pygments_lexer": "ipython3",
   "version": "3.10.10"
  }
 },
 "nbformat": 4,
 "nbformat_minor": 4
}
