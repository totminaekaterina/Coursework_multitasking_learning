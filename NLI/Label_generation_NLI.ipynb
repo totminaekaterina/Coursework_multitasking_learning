{
 "cells": [
  {
   "cell_type": "code",
   "execution_count": 1,
   "id": "231d4746-25df-4c0d-b802-4b93fdbc9155",
   "metadata": {
    "execution": {
     "iopub.execute_input": "2023-04-09T01:47:48.000231Z",
     "iopub.status.busy": "2023-04-09T01:47:47.999878Z",
     "iopub.status.idle": "2023-04-09T01:47:50.738371Z",
     "shell.execute_reply": "2023-04-09T01:47:50.737724Z",
     "shell.execute_reply.started": "2023-04-09T01:47:48.000140Z"
    },
    "tags": []
   },
   "outputs": [
    {
     "name": "stdout",
     "output_type": "stream",
     "text": [
      "Requirement already satisfied: transformers in /opt/conda/envs/saturn/lib/python3.9/site-packages (4.27.4)\n",
      "Requirement already satisfied: regex!=2019.12.17 in /opt/conda/envs/saturn/lib/python3.9/site-packages (from transformers) (2023.3.23)\n",
      "Requirement already satisfied: packaging>=20.0 in /opt/conda/envs/saturn/lib/python3.9/site-packages (from transformers) (21.3)\n",
      "Requirement already satisfied: tqdm>=4.27 in /opt/conda/envs/saturn/lib/python3.9/site-packages (from transformers) (4.64.0)\n",
      "Requirement already satisfied: filelock in /opt/conda/envs/saturn/lib/python3.9/site-packages (from transformers) (3.11.0)\n",
      "Requirement already satisfied: huggingface-hub<1.0,>=0.11.0 in /opt/conda/envs/saturn/lib/python3.9/site-packages (from transformers) (0.13.4)\n",
      "Requirement already satisfied: pyyaml>=5.1 in /opt/conda/envs/saturn/lib/python3.9/site-packages (from transformers) (6.0)\n",
      "Requirement already satisfied: numpy>=1.17 in /opt/conda/envs/saturn/lib/python3.9/site-packages (from transformers) (1.21.5)\n",
      "Requirement already satisfied: tokenizers!=0.11.3,<0.14,>=0.11.1 in /opt/conda/envs/saturn/lib/python3.9/site-packages (from transformers) (0.13.3)\n",
      "Requirement already satisfied: requests in /opt/conda/envs/saturn/lib/python3.9/site-packages (from transformers) (2.27.1)\n",
      "Requirement already satisfied: typing-extensions>=3.7.4.3 in /opt/conda/envs/saturn/lib/python3.9/site-packages (from huggingface-hub<1.0,>=0.11.0->transformers) (4.1.1)\n",
      "Requirement already satisfied: pyparsing!=3.0.5,>=2.0.2 in /opt/conda/envs/saturn/lib/python3.9/site-packages (from packaging>=20.0->transformers) (3.0.4)\n",
      "Requirement already satisfied: certifi>=2017.4.17 in /opt/conda/envs/saturn/lib/python3.9/site-packages (from requests->transformers) (2021.10.8)\n",
      "Requirement already satisfied: charset-normalizer~=2.0.0 in /opt/conda/envs/saturn/lib/python3.9/site-packages (from requests->transformers) (2.0.4)\n",
      "Requirement already satisfied: idna<4,>=2.5 in /opt/conda/envs/saturn/lib/python3.9/site-packages (from requests->transformers) (3.3)\n",
      "Requirement already satisfied: urllib3<1.27,>=1.21.1 in /opt/conda/envs/saturn/lib/python3.9/site-packages (from requests->transformers) (1.26.9)\n"
     ]
    }
   ],
   "source": [
    "!pip install transformers"
   ]
  },
  {
   "cell_type": "code",
   "execution_count": 5,
   "id": "8f2e0e7a-e8c8-4e9d-8abe-4649b84d5df2",
   "metadata": {
    "execution": {
     "iopub.execute_input": "2023-04-08T04:05:32.715657Z",
     "iopub.status.busy": "2023-04-08T04:05:32.715360Z",
     "iopub.status.idle": "2023-04-08T04:37:06.310665Z",
     "shell.execute_reply": "2023-04-08T04:37:06.310092Z",
     "shell.execute_reply.started": "2023-04-08T04:05:32.715632Z"
    },
    "tags": []
   },
   "outputs": [
    {
     "name": "stdout",
     "output_type": "stream",
     "text": [
      "huggingface/tokenizers: The current process just got forked, after parallelism has already been used. Disabling parallelism to avoid deadlocks...\n",
      "To disable this warning, you can either:\n",
      "\t- Avoid using `tokenizers` before the fork if possible\n",
      "\t- Explicitly set the environment variable TOKENIZERS_PARALLELISM=(true | false)\n",
      "Requirement already satisfied: transformers in /opt/conda/envs/saturn/lib/python3.9/site-packages (4.27.4)\n",
      "Requirement already satisfied: tokenizers!=0.11.3,<0.14,>=0.11.1 in /opt/conda/envs/saturn/lib/python3.9/site-packages (from transformers) (0.13.3)\n",
      "Requirement already satisfied: numpy>=1.17 in /opt/conda/envs/saturn/lib/python3.9/site-packages (from transformers) (1.21.5)\n",
      "Requirement already satisfied: requests in /opt/conda/envs/saturn/lib/python3.9/site-packages (from transformers) (2.27.1)\n",
      "Requirement already satisfied: filelock in /opt/conda/envs/saturn/lib/python3.9/site-packages (from transformers) (3.11.0)\n",
      "Requirement already satisfied: packaging>=20.0 in /opt/conda/envs/saturn/lib/python3.9/site-packages (from transformers) (21.3)\n",
      "Requirement already satisfied: huggingface-hub<1.0,>=0.11.0 in /opt/conda/envs/saturn/lib/python3.9/site-packages (from transformers) (0.13.4)\n",
      "Requirement already satisfied: tqdm>=4.27 in /opt/conda/envs/saturn/lib/python3.9/site-packages (from transformers) (4.64.0)\n",
      "Requirement already satisfied: pyyaml>=5.1 in /opt/conda/envs/saturn/lib/python3.9/site-packages (from transformers) (6.0)\n",
      "Requirement already satisfied: regex!=2019.12.17 in /opt/conda/envs/saturn/lib/python3.9/site-packages (from transformers) (2023.3.23)\n",
      "Requirement already satisfied: typing-extensions>=3.7.4.3 in /opt/conda/envs/saturn/lib/python3.9/site-packages (from huggingface-hub<1.0,>=0.11.0->transformers) (4.1.1)\n",
      "Requirement already satisfied: pyparsing!=3.0.5,>=2.0.2 in /opt/conda/envs/saturn/lib/python3.9/site-packages (from packaging>=20.0->transformers) (3.0.4)\n",
      "Requirement already satisfied: certifi>=2017.4.17 in /opt/conda/envs/saturn/lib/python3.9/site-packages (from requests->transformers) (2021.10.8)\n",
      "Requirement already satisfied: charset-normalizer~=2.0.0 in /opt/conda/envs/saturn/lib/python3.9/site-packages (from requests->transformers) (2.0.4)\n",
      "Requirement already satisfied: idna<4,>=2.5 in /opt/conda/envs/saturn/lib/python3.9/site-packages (from requests->transformers) (3.3)\n",
      "Requirement already satisfied: urllib3<1.27,>=1.21.1 in /opt/conda/envs/saturn/lib/python3.9/site-packages (from requests->transformers) (1.26.9)\n"
     ]
    },
    {
     "name": "stderr",
     "output_type": "stream",
     "text": [
      "100%|██████████| 1563/1563 [31:04<00:00,  1.19s/it]\n"
     ]
    }
   ],
   "source": [
    "!pip install transformers\n",
    "import pandas as pd\n",
    "import torch\n",
    "from transformers import AutoTokenizer, AutoModelForSequenceClassification\n",
    "from tqdm import tqdm\n",
    "\n",
    "# загружаем данные из файла\n",
    "data = pd.read_csv('Train_Only_Sentence_NLI.csv', encoding='utf-8-sig', sep=';')\n",
    "data.head()\n",
    "\n",
    "# инициализируем токенизатор и модель\n",
    "tokenizer = AutoTokenizer.from_pretrained(\"MoritzLaurer/mDeBERTa-v3-base-xnli-multilingual-nli-2mil7\")\n",
    "model = AutoModelForSequenceClassification.from_pretrained(\"MoritzLaurer/mDeBERTa-v3-base-xnli-multilingual-nli-2mil7\")\n",
    "\n",
    "# определяем device\n",
    "device = torch.device(\"cuda\" if torch.cuda.is_available() else \"cpu\")\n",
    "\n",
    "# переводим модель на device\n",
    "model.to(device)\n",
    "\n",
    "# переводим данные в формат, подходящий для модели\n",
    "premises = data['premise'].astype(str).tolist()\n",
    "hypotheses = data['hypothesis'].astype(str).tolist()\n",
    "\n",
    "encoded_data = tokenizer(\n",
    "    premises,\n",
    "    hypotheses,\n",
    "    padding=True,\n",
    "    truncation=True,\n",
    "    max_length=256,\n",
    "    return_tensors='pt'\n",
    ")\n",
    "\n",
    "# переводим данные на device\n",
    "input_ids = encoded_data['input_ids'].to(device)\n",
    "attention_mask = encoded_data['attention_mask'].to(device)\n",
    "\n",
    "# получаем предсказания\n",
    "with torch.no_grad():\n",
    "    logits = []\n",
    "    for i in tqdm(range(0, len(input_ids), 64)):\n",
    "        batch_input_ids = input_ids[i:i+64]\n",
    "        batch_attention_mask = attention_mask[i:i+64]\n",
    "        batch_logits = model(input_ids=batch_input_ids, attention_mask=batch_attention_mask).logits\n",
    "        logits.append(batch_logits)\n",
    "        torch.cuda.empty_cache()  # очистка кеша GPU после каждой итерации\n",
    "    logits = torch.cat(logits, dim=0)\n",
    "    predictions = torch.argmax(logits, dim=1)\n",
    "\n",
    "# декодируем предсказания\n",
    "decoded_predictions = [model.config.id2label[prediction.item()] for prediction in predictions]\n",
    "\n",
    "# добавляем столбец с предсказаниями в DataFrame\n",
    "data['label'] = decoded_predictions\n",
    "\n",
    "# сохраняем результат в файл CSV\n",
    "data.to_csv('Train_Only_Sentence_NLI_out.csv', index=False)"
   ]
  }
 ],
 "metadata": {
  "kernelspec": {
   "display_name": "Python 3 (ipykernel)",
   "language": "python",
   "name": "python3"
  },
  "language_info": {
   "codemirror_mode": {
    "name": "ipython",
    "version": 3
   },
   "file_extension": ".py",
   "mimetype": "text/x-python",
   "name": "python",
   "nbconvert_exporter": "python",
   "pygments_lexer": "ipython3",
   "version": "3.10.10"
  }
 },
 "nbformat": 4,
 "nbformat_minor": 5
}
