{
  "cells": [
    {
      "cell_type": "markdown",
      "metadata": {
        "id": "view-in-github",
        "colab_type": "text"
      },
      "source": [
        "<a href=\"https://colab.research.google.com/github/totminaekaterina/Coursework_multitasking_learning/blob/main/%D0%9A%D0%BB%D0%B0%D1%81%D1%81%D0%B8%D1%84%D0%B8%D0%BA%D0%B0%D1%86%D0%B8%D1%8F_%D1%82%D0%B5%D0%BA%D1%81%D1%82%D0%BE%D0%B2.ipynb\" target=\"_parent\"><img src=\"https://colab.research.google.com/assets/colab-badge.svg\" alt=\"Open In Colab\"/></a>"
      ]
    },
    {
      "cell_type": "code",
      "execution_count": 1,
      "metadata": {
        "colab": {
          "base_uri": "https://localhost:8080/"
        },
        "execution": {
          "iopub.execute_input": "2023-02-09T02:23:01.430304Z",
          "iopub.status.busy": "2023-02-09T02:23:01.429980Z",
          "iopub.status.idle": "2023-02-09T02:23:04.187186Z",
          "shell.execute_reply": "2023-02-09T02:23:04.186565Z",
          "shell.execute_reply.started": "2023-02-09T02:23:01.430240Z"
        },
        "id": "bhIs5z1_uzTp",
        "outputId": "bbb8359f-2913-440a-fb20-34c862c9d365",
        "tags": []
      },
      "outputs": [
        {
          "output_type": "stream",
          "name": "stdout",
          "text": [
            "Looking in indexes: https://pypi.org/simple, https://us-python.pkg.dev/colab-wheels/public/simple/\n",
            "Collecting transformers\n",
            "  Downloading transformers-4.26.0-py3-none-any.whl (6.3 MB)\n",
            "\u001b[2K     \u001b[90m━━━━━━━━━━━━━━━━━━━━━━━━━━━━━━━━━━━━━━━━\u001b[0m \u001b[32m6.3/6.3 MB\u001b[0m \u001b[31m52.1 MB/s\u001b[0m eta \u001b[36m0:00:00\u001b[0m\n",
            "\u001b[?25hRequirement already satisfied: numpy>=1.17 in /usr/local/lib/python3.8/dist-packages (from transformers) (1.21.6)\n",
            "Requirement already satisfied: tqdm>=4.27 in /usr/local/lib/python3.8/dist-packages (from transformers) (4.64.1)\n",
            "Requirement already satisfied: packaging>=20.0 in /usr/local/lib/python3.8/dist-packages (from transformers) (23.0)\n",
            "Collecting huggingface-hub<1.0,>=0.11.0\n",
            "  Downloading huggingface_hub-0.12.0-py3-none-any.whl (190 kB)\n",
            "\u001b[2K     \u001b[90m━━━━━━━━━━━━━━━━━━━━━━━━━━━━━━━━━━━━━━\u001b[0m \u001b[32m190.3/190.3 KB\u001b[0m \u001b[31m24.3 MB/s\u001b[0m eta \u001b[36m0:00:00\u001b[0m\n",
            "\u001b[?25hCollecting tokenizers!=0.11.3,<0.14,>=0.11.1\n",
            "  Downloading tokenizers-0.13.2-cp38-cp38-manylinux_2_17_x86_64.manylinux2014_x86_64.whl (7.6 MB)\n",
            "\u001b[2K     \u001b[90m━━━━━━━━━━━━━━━━━━━━━━━━━━━━━━━━━━━━━━━━\u001b[0m \u001b[32m7.6/7.6 MB\u001b[0m \u001b[31m70.6 MB/s\u001b[0m eta \u001b[36m0:00:00\u001b[0m\n",
            "\u001b[?25hRequirement already satisfied: filelock in /usr/local/lib/python3.8/dist-packages (from transformers) (3.9.0)\n",
            "Requirement already satisfied: pyyaml>=5.1 in /usr/local/lib/python3.8/dist-packages (from transformers) (6.0)\n",
            "Requirement already satisfied: regex!=2019.12.17 in /usr/local/lib/python3.8/dist-packages (from transformers) (2022.6.2)\n",
            "Requirement already satisfied: requests in /usr/local/lib/python3.8/dist-packages (from transformers) (2.25.1)\n",
            "Requirement already satisfied: typing-extensions>=3.7.4.3 in /usr/local/lib/python3.8/dist-packages (from huggingface-hub<1.0,>=0.11.0->transformers) (4.4.0)\n",
            "Requirement already satisfied: certifi>=2017.4.17 in /usr/local/lib/python3.8/dist-packages (from requests->transformers) (2022.12.7)\n",
            "Requirement already satisfied: chardet<5,>=3.0.2 in /usr/local/lib/python3.8/dist-packages (from requests->transformers) (4.0.0)\n",
            "Requirement already satisfied: idna<3,>=2.5 in /usr/local/lib/python3.8/dist-packages (from requests->transformers) (2.10)\n",
            "Requirement already satisfied: urllib3<1.27,>=1.21.1 in /usr/local/lib/python3.8/dist-packages (from requests->transformers) (1.24.3)\n",
            "Installing collected packages: tokenizers, huggingface-hub, transformers\n",
            "Successfully installed huggingface-hub-0.12.0 tokenizers-0.13.2 transformers-4.26.0\n"
          ]
        }
      ],
      "source": [
        "!pip install transformers"
      ]
    },
    {
      "cell_type": "code",
      "execution_count": 2,
      "metadata": {
        "execution": {
          "iopub.execute_input": "2023-02-09T02:23:04.189276Z",
          "iopub.status.busy": "2023-02-09T02:23:04.188969Z",
          "iopub.status.idle": "2023-02-09T02:23:07.066096Z",
          "shell.execute_reply": "2023-02-09T02:23:07.065446Z",
          "shell.execute_reply.started": "2023-02-09T02:23:04.189246Z"
        },
        "tags": [],
        "colab": {
          "base_uri": "https://localhost:8080/"
        },
        "id": "lmYsdbdPF1qw",
        "outputId": "156d4896-525e-441d-dd9d-050ef63153a4"
      },
      "outputs": [
        {
          "output_type": "stream",
          "name": "stdout",
          "text": [
            "Looking in indexes: https://pypi.org/simple, https://us-python.pkg.dev/colab-wheels/public/simple/\n",
            "Requirement already satisfied: tensorflow in /usr/local/lib/python3.8/dist-packages (2.9.2)\n",
            "Requirement already satisfied: absl-py>=1.0.0 in /usr/local/lib/python3.8/dist-packages (from tensorflow) (1.4.0)\n",
            "Requirement already satisfied: flatbuffers<2,>=1.12 in /usr/local/lib/python3.8/dist-packages (from tensorflow) (1.12)\n",
            "Requirement already satisfied: grpcio<2.0,>=1.24.3 in /usr/local/lib/python3.8/dist-packages (from tensorflow) (1.51.1)\n",
            "Requirement already satisfied: packaging in /usr/local/lib/python3.8/dist-packages (from tensorflow) (23.0)\n",
            "Requirement already satisfied: typing-extensions>=3.6.6 in /usr/local/lib/python3.8/dist-packages (from tensorflow) (4.4.0)\n",
            "Requirement already satisfied: wrapt>=1.11.0 in /usr/local/lib/python3.8/dist-packages (from tensorflow) (1.14.1)\n",
            "Requirement already satisfied: protobuf<3.20,>=3.9.2 in /usr/local/lib/python3.8/dist-packages (from tensorflow) (3.19.6)\n",
            "Requirement already satisfied: termcolor>=1.1.0 in /usr/local/lib/python3.8/dist-packages (from tensorflow) (2.2.0)\n",
            "Requirement already satisfied: keras<2.10.0,>=2.9.0rc0 in /usr/local/lib/python3.8/dist-packages (from tensorflow) (2.9.0)\n",
            "Requirement already satisfied: tensorboard<2.10,>=2.9 in /usr/local/lib/python3.8/dist-packages (from tensorflow) (2.9.1)\n",
            "Requirement already satisfied: tensorflow-estimator<2.10.0,>=2.9.0rc0 in /usr/local/lib/python3.8/dist-packages (from tensorflow) (2.9.0)\n",
            "Requirement already satisfied: google-pasta>=0.1.1 in /usr/local/lib/python3.8/dist-packages (from tensorflow) (0.2.0)\n",
            "Requirement already satisfied: setuptools in /usr/local/lib/python3.8/dist-packages (from tensorflow) (57.4.0)\n",
            "Requirement already satisfied: keras-preprocessing>=1.1.1 in /usr/local/lib/python3.8/dist-packages (from tensorflow) (1.1.2)\n",
            "Requirement already satisfied: gast<=0.4.0,>=0.2.1 in /usr/local/lib/python3.8/dist-packages (from tensorflow) (0.4.0)\n",
            "Requirement already satisfied: opt-einsum>=2.3.2 in /usr/local/lib/python3.8/dist-packages (from tensorflow) (3.3.0)\n",
            "Requirement already satisfied: libclang>=13.0.0 in /usr/local/lib/python3.8/dist-packages (from tensorflow) (15.0.6.1)\n",
            "Requirement already satisfied: h5py>=2.9.0 in /usr/local/lib/python3.8/dist-packages (from tensorflow) (3.1.0)\n",
            "Requirement already satisfied: six>=1.12.0 in /usr/local/lib/python3.8/dist-packages (from tensorflow) (1.15.0)\n",
            "Requirement already satisfied: astunparse>=1.6.0 in /usr/local/lib/python3.8/dist-packages (from tensorflow) (1.6.3)\n",
            "Requirement already satisfied: numpy>=1.20 in /usr/local/lib/python3.8/dist-packages (from tensorflow) (1.21.6)\n",
            "Requirement already satisfied: tensorflow-io-gcs-filesystem>=0.23.1 in /usr/local/lib/python3.8/dist-packages (from tensorflow) (0.30.0)\n",
            "Requirement already satisfied: wheel<1.0,>=0.23.0 in /usr/local/lib/python3.8/dist-packages (from astunparse>=1.6.0->tensorflow) (0.38.4)\n",
            "Requirement already satisfied: tensorboard-data-server<0.7.0,>=0.6.0 in /usr/local/lib/python3.8/dist-packages (from tensorboard<2.10,>=2.9->tensorflow) (0.6.1)\n",
            "Requirement already satisfied: tensorboard-plugin-wit>=1.6.0 in /usr/local/lib/python3.8/dist-packages (from tensorboard<2.10,>=2.9->tensorflow) (1.8.1)\n",
            "Requirement already satisfied: markdown>=2.6.8 in /usr/local/lib/python3.8/dist-packages (from tensorboard<2.10,>=2.9->tensorflow) (3.4.1)\n",
            "Requirement already satisfied: google-auth<3,>=1.6.3 in /usr/local/lib/python3.8/dist-packages (from tensorboard<2.10,>=2.9->tensorflow) (2.16.0)\n",
            "Requirement already satisfied: google-auth-oauthlib<0.5,>=0.4.1 in /usr/local/lib/python3.8/dist-packages (from tensorboard<2.10,>=2.9->tensorflow) (0.4.6)\n",
            "Requirement already satisfied: werkzeug>=1.0.1 in /usr/local/lib/python3.8/dist-packages (from tensorboard<2.10,>=2.9->tensorflow) (1.0.1)\n",
            "Requirement already satisfied: requests<3,>=2.21.0 in /usr/local/lib/python3.8/dist-packages (from tensorboard<2.10,>=2.9->tensorflow) (2.25.1)\n",
            "Requirement already satisfied: cachetools<6.0,>=2.0.0 in /usr/local/lib/python3.8/dist-packages (from google-auth<3,>=1.6.3->tensorboard<2.10,>=2.9->tensorflow) (5.3.0)\n",
            "Requirement already satisfied: rsa<5,>=3.1.4 in /usr/local/lib/python3.8/dist-packages (from google-auth<3,>=1.6.3->tensorboard<2.10,>=2.9->tensorflow) (4.9)\n",
            "Requirement already satisfied: pyasn1-modules>=0.2.1 in /usr/local/lib/python3.8/dist-packages (from google-auth<3,>=1.6.3->tensorboard<2.10,>=2.9->tensorflow) (0.2.8)\n",
            "Requirement already satisfied: requests-oauthlib>=0.7.0 in /usr/local/lib/python3.8/dist-packages (from google-auth-oauthlib<0.5,>=0.4.1->tensorboard<2.10,>=2.9->tensorflow) (1.3.1)\n",
            "Requirement already satisfied: importlib-metadata>=4.4 in /usr/local/lib/python3.8/dist-packages (from markdown>=2.6.8->tensorboard<2.10,>=2.9->tensorflow) (6.0.0)\n",
            "Requirement already satisfied: urllib3<1.27,>=1.21.1 in /usr/local/lib/python3.8/dist-packages (from requests<3,>=2.21.0->tensorboard<2.10,>=2.9->tensorflow) (1.24.3)\n",
            "Requirement already satisfied: certifi>=2017.4.17 in /usr/local/lib/python3.8/dist-packages (from requests<3,>=2.21.0->tensorboard<2.10,>=2.9->tensorflow) (2022.12.7)\n",
            "Requirement already satisfied: chardet<5,>=3.0.2 in /usr/local/lib/python3.8/dist-packages (from requests<3,>=2.21.0->tensorboard<2.10,>=2.9->tensorflow) (4.0.0)\n",
            "Requirement already satisfied: idna<3,>=2.5 in /usr/local/lib/python3.8/dist-packages (from requests<3,>=2.21.0->tensorboard<2.10,>=2.9->tensorflow) (2.10)\n",
            "Requirement already satisfied: zipp>=0.5 in /usr/local/lib/python3.8/dist-packages (from importlib-metadata>=4.4->markdown>=2.6.8->tensorboard<2.10,>=2.9->tensorflow) (3.12.0)\n",
            "Requirement already satisfied: pyasn1<0.5.0,>=0.4.6 in /usr/local/lib/python3.8/dist-packages (from pyasn1-modules>=0.2.1->google-auth<3,>=1.6.3->tensorboard<2.10,>=2.9->tensorflow) (0.4.8)\n",
            "Requirement already satisfied: oauthlib>=3.0.0 in /usr/local/lib/python3.8/dist-packages (from requests-oauthlib>=0.7.0->google-auth-oauthlib<0.5,>=0.4.1->tensorboard<2.10,>=2.9->tensorflow) (3.2.2)\n"
          ]
        }
      ],
      "source": [
        "!pip install tensorflow"
      ]
    },
    {
      "cell_type": "code",
      "execution_count": 3,
      "metadata": {
        "execution": {
          "iopub.execute_input": "2023-02-09T02:23:07.067481Z",
          "iopub.status.busy": "2023-02-09T02:23:07.067229Z",
          "iopub.status.idle": "2023-02-09T02:23:09.779808Z",
          "shell.execute_reply": "2023-02-09T02:23:09.779143Z",
          "shell.execute_reply.started": "2023-02-09T02:23:07.067456Z"
        },
        "tags": [],
        "colab": {
          "base_uri": "https://localhost:8080/"
        },
        "id": "OBEQfM7eF1qx",
        "outputId": "ebae3b7c-dc2b-47a9-f70c-445ba84672b4"
      },
      "outputs": [
        {
          "output_type": "stream",
          "name": "stdout",
          "text": [
            "Looking in indexes: https://pypi.org/simple, https://us-python.pkg.dev/colab-wheels/public/simple/\n",
            "Requirement already satisfied: scikit-learn in /usr/local/lib/python3.8/dist-packages (1.0.2)\n",
            "Requirement already satisfied: joblib>=0.11 in /usr/local/lib/python3.8/dist-packages (from scikit-learn) (1.2.0)\n",
            "Requirement already satisfied: scipy>=1.1.0 in /usr/local/lib/python3.8/dist-packages (from scikit-learn) (1.7.3)\n",
            "Requirement already satisfied: numpy>=1.14.6 in /usr/local/lib/python3.8/dist-packages (from scikit-learn) (1.21.6)\n",
            "Requirement already satisfied: threadpoolctl>=2.0.0 in /usr/local/lib/python3.8/dist-packages (from scikit-learn) (3.1.0)\n"
          ]
        }
      ],
      "source": [
        "!pip install scikit-learn"
      ]
    },
    {
      "cell_type": "code",
      "execution_count": 4,
      "metadata": {
        "execution": {
          "iopub.execute_input": "2023-02-09T02:23:09.782186Z",
          "iopub.status.busy": "2023-02-09T02:23:09.781869Z",
          "iopub.status.idle": "2023-02-09T02:23:16.014886Z",
          "shell.execute_reply": "2023-02-09T02:23:16.014349Z",
          "shell.execute_reply.started": "2023-02-09T02:23:09.782151Z"
        },
        "id": "7phFRstGrxYI",
        "tags": []
      },
      "outputs": [],
      "source": [
        "import numpy as np\n",
        "import pandas as pd\n",
        "from random import randint\n",
        "import torch\n",
        "from torch.utils.data import (TensorDataset,\n",
        "                              DataLoader,\n",
        "                              RandomSampler)\n",
        "\n",
        "from tensorflow.keras.preprocessing.sequence import pad_sequences\n",
        "\n",
        "from transformers import AutoConfig, AutoModelForSequenceClassification\n",
        "from transformers import (AutoTokenizer,\n",
        "                          AutoModelForCausalLM,\n",
        "                          Trainer,\n",
        "                          TrainingArguments,\n",
        "                          TrainerCallback,\n",
        "                          AdamW,\n",
        "                          get_linear_schedule_with_warmup)\n",
        "\n",
        "from sklearn.model_selection import train_test_split\n",
        "from sklearn.metrics import classification_report\n",
        "import matplotlib.pyplot as plt"
      ]
    },
    {
      "cell_type": "code",
      "execution_count": 5,
      "metadata": {
        "execution": {
          "iopub.execute_input": "2023-02-09T02:23:16.015977Z",
          "iopub.status.busy": "2023-02-09T02:23:16.015751Z",
          "iopub.status.idle": "2023-02-09T02:23:16.072062Z",
          "shell.execute_reply": "2023-02-09T02:23:16.071374Z",
          "shell.execute_reply.started": "2023-02-09T02:23:16.015956Z"
        },
        "id": "sP-aNRMQry7U",
        "tags": [],
        "colab": {
          "base_uri": "https://localhost:8080/"
        },
        "outputId": "1fb43260-59eb-4295-b055-68835b5fc01a"
      },
      "outputs": [
        {
          "output_type": "stream",
          "name": "stdout",
          "text": [
            "cuda\n",
            "Tesla T4\n"
          ]
        }
      ],
      "source": [
        "device = 'cuda'\n",
        "device = torch.device(device)\n",
        "\n",
        "print(device.type)\n",
        "if device.type == 'cuda':\n",
        "    print(torch.cuda.get_device_name(0))"
      ]
    },
    {
      "cell_type": "code",
      "execution_count": 6,
      "metadata": {
        "execution": {
          "iopub.execute_input": "2023-02-09T02:23:16.072990Z",
          "iopub.status.busy": "2023-02-09T02:23:16.072848Z",
          "iopub.status.idle": "2023-02-09T02:23:18.860715Z",
          "shell.execute_reply": "2023-02-09T02:23:18.860060Z",
          "shell.execute_reply.started": "2023-02-09T02:23:16.072973Z"
        },
        "tags": [],
        "colab": {
          "base_uri": "https://localhost:8080/"
        },
        "id": "xOVjhJ8uF1qy",
        "outputId": "a96414ae-74fb-4a62-b512-0454082b3d50"
      },
      "outputs": [
        {
          "output_type": "stream",
          "name": "stdout",
          "text": [
            "Looking in indexes: https://pypi.org/simple, https://us-python.pkg.dev/colab-wheels/public/simple/\n",
            "Requirement already satisfied: chardet in /usr/local/lib/python3.8/dist-packages (4.0.0)\n"
          ]
        }
      ],
      "source": [
        "!pip install chardet"
      ]
    },
    {
      "cell_type": "code",
      "execution_count": 8,
      "metadata": {
        "execution": {
          "iopub.execute_input": "2023-02-09T02:23:18.862005Z",
          "iopub.status.busy": "2023-02-09T02:23:18.861825Z",
          "iopub.status.idle": "2023-02-09T02:23:18.869883Z",
          "shell.execute_reply": "2023-02-09T02:23:18.869330Z",
          "shell.execute_reply.started": "2023-02-09T02:23:18.861984Z"
        },
        "tags": [],
        "colab": {
          "base_uri": "https://localhost:8080/"
        },
        "id": "2QOtqSt3F1qy",
        "outputId": "920c544e-767b-4a2c-9085-03bceb9bc944"
      },
      "outputs": [
        {
          "output_type": "execute_result",
          "data": {
            "text/plain": [
              "{'encoding': 'UTF-8-SIG', 'confidence': 1.0, 'language': ''}"
            ]
          },
          "metadata": {},
          "execution_count": 8
        }
      ],
      "source": [
        "import chardet\n",
        "with open('/content/train.csv', 'rb') as rawdata:\n",
        "    result = chardet.detect(rawdata.read(100000))\n",
        "result"
      ]
    },
    {
      "cell_type": "code",
      "execution_count": 9,
      "metadata": {
        "colab": {
          "base_uri": "https://localhost:8080/"
        },
        "execution": {
          "iopub.execute_input": "2023-02-09T02:23:18.871286Z",
          "iopub.status.busy": "2023-02-09T02:23:18.870794Z",
          "iopub.status.idle": "2023-02-09T02:23:20.979040Z",
          "shell.execute_reply": "2023-02-09T02:23:20.978414Z",
          "shell.execute_reply.started": "2023-02-09T02:23:18.871252Z"
        },
        "id": "QZikC1XEr0je",
        "outputId": "60db2505-e8c0-41cb-dd6d-d12035707f72",
        "tags": []
      },
      "outputs": [
        {
          "output_type": "execute_result",
          "data": {
            "text/plain": [
              "(758509, 3)"
            ]
          },
          "metadata": {},
          "execution_count": 9
        }
      ],
      "source": [
        "df = pd.read_csv('/content/train.csv', encoding='UTF-8-SIG', sep=';')\n",
        "# Размер нашей выборки\n",
        "df.shape"
      ]
    },
    {
      "cell_type": "code",
      "execution_count": 10,
      "metadata": {
        "colab": {
          "base_uri": "https://localhost:8080/",
          "height": 206
        },
        "execution": {
          "iopub.execute_input": "2023-02-09T02:23:20.980364Z",
          "iopub.status.busy": "2023-02-09T02:23:20.980083Z",
          "iopub.status.idle": "2023-02-09T02:23:21.008766Z",
          "shell.execute_reply": "2023-02-09T02:23:21.008244Z",
          "shell.execute_reply.started": "2023-02-09T02:23:20.980331Z"
        },
        "id": "PBKA0cHgt6mL",
        "outputId": "c299ca06-2d69-4a9f-e966-9de9d4768caa",
        "tags": []
      },
      "outputs": [
        {
          "output_type": "execute_result",
          "data": {
            "text/plain": [
              "        Unnamed: 0                                               name  \\\n",
              "16954       422031   \"Сургутнефтегаз\" потратит 10 миллиардов долларов   \n",
              "689836      532625  Убийство саудовцами главы правительства хусито...   \n",
              "563025      597437  Пьяный пассажир угнал микроавтобус со взлетной...   \n",
              "268402      335935  Две челябинских школьницы выжили после прыжка ...   \n",
              "298332      359997  Житель Сочи украл десять километров электрокабеля   \n",
              "\n",
              "       category_1  \n",
              "16954         Все  \n",
              "689836  Конфликты  \n",
              "563025   Общество  \n",
              "268402        Все  \n",
              "298332        Все  "
            ],
            "text/html": [
              "\n",
              "  <div id=\"df-37781efb-71d9-4c9a-86ee-0890b7f824f3\">\n",
              "    <div class=\"colab-df-container\">\n",
              "      <div>\n",
              "<style scoped>\n",
              "    .dataframe tbody tr th:only-of-type {\n",
              "        vertical-align: middle;\n",
              "    }\n",
              "\n",
              "    .dataframe tbody tr th {\n",
              "        vertical-align: top;\n",
              "    }\n",
              "\n",
              "    .dataframe thead th {\n",
              "        text-align: right;\n",
              "    }\n",
              "</style>\n",
              "<table border=\"1\" class=\"dataframe\">\n",
              "  <thead>\n",
              "    <tr style=\"text-align: right;\">\n",
              "      <th></th>\n",
              "      <th>Unnamed: 0</th>\n",
              "      <th>name</th>\n",
              "      <th>category_1</th>\n",
              "    </tr>\n",
              "  </thead>\n",
              "  <tbody>\n",
              "    <tr>\n",
              "      <th>16954</th>\n",
              "      <td>422031</td>\n",
              "      <td>\"Сургутнефтегаз\" потратит 10 миллиардов долларов</td>\n",
              "      <td>Все</td>\n",
              "    </tr>\n",
              "    <tr>\n",
              "      <th>689836</th>\n",
              "      <td>532625</td>\n",
              "      <td>Убийство саудовцами главы правительства хусито...</td>\n",
              "      <td>Конфликты</td>\n",
              "    </tr>\n",
              "    <tr>\n",
              "      <th>563025</th>\n",
              "      <td>597437</td>\n",
              "      <td>Пьяный пассажир угнал микроавтобус со взлетной...</td>\n",
              "      <td>Общество</td>\n",
              "    </tr>\n",
              "    <tr>\n",
              "      <th>268402</th>\n",
              "      <td>335935</td>\n",
              "      <td>Две челябинских школьницы выжили после прыжка ...</td>\n",
              "      <td>Все</td>\n",
              "    </tr>\n",
              "    <tr>\n",
              "      <th>298332</th>\n",
              "      <td>359997</td>\n",
              "      <td>Житель Сочи украл десять километров электрокабеля</td>\n",
              "      <td>Все</td>\n",
              "    </tr>\n",
              "  </tbody>\n",
              "</table>\n",
              "</div>\n",
              "      <button class=\"colab-df-convert\" onclick=\"convertToInteractive('df-37781efb-71d9-4c9a-86ee-0890b7f824f3')\"\n",
              "              title=\"Convert this dataframe to an interactive table.\"\n",
              "              style=\"display:none;\">\n",
              "        \n",
              "  <svg xmlns=\"http://www.w3.org/2000/svg\" height=\"24px\"viewBox=\"0 0 24 24\"\n",
              "       width=\"24px\">\n",
              "    <path d=\"M0 0h24v24H0V0z\" fill=\"none\"/>\n",
              "    <path d=\"M18.56 5.44l.94 2.06.94-2.06 2.06-.94-2.06-.94-.94-2.06-.94 2.06-2.06.94zm-11 1L8.5 8.5l.94-2.06 2.06-.94-2.06-.94L8.5 2.5l-.94 2.06-2.06.94zm10 10l.94 2.06.94-2.06 2.06-.94-2.06-.94-.94-2.06-.94 2.06-2.06.94z\"/><path d=\"M17.41 7.96l-1.37-1.37c-.4-.4-.92-.59-1.43-.59-.52 0-1.04.2-1.43.59L10.3 9.45l-7.72 7.72c-.78.78-.78 2.05 0 2.83L4 21.41c.39.39.9.59 1.41.59.51 0 1.02-.2 1.41-.59l7.78-7.78 2.81-2.81c.8-.78.8-2.07 0-2.86zM5.41 20L4 18.59l7.72-7.72 1.47 1.35L5.41 20z\"/>\n",
              "  </svg>\n",
              "      </button>\n",
              "      \n",
              "  <style>\n",
              "    .colab-df-container {\n",
              "      display:flex;\n",
              "      flex-wrap:wrap;\n",
              "      gap: 12px;\n",
              "    }\n",
              "\n",
              "    .colab-df-convert {\n",
              "      background-color: #E8F0FE;\n",
              "      border: none;\n",
              "      border-radius: 50%;\n",
              "      cursor: pointer;\n",
              "      display: none;\n",
              "      fill: #1967D2;\n",
              "      height: 32px;\n",
              "      padding: 0 0 0 0;\n",
              "      width: 32px;\n",
              "    }\n",
              "\n",
              "    .colab-df-convert:hover {\n",
              "      background-color: #E2EBFA;\n",
              "      box-shadow: 0px 1px 2px rgba(60, 64, 67, 0.3), 0px 1px 3px 1px rgba(60, 64, 67, 0.15);\n",
              "      fill: #174EA6;\n",
              "    }\n",
              "\n",
              "    [theme=dark] .colab-df-convert {\n",
              "      background-color: #3B4455;\n",
              "      fill: #D2E3FC;\n",
              "    }\n",
              "\n",
              "    [theme=dark] .colab-df-convert:hover {\n",
              "      background-color: #434B5C;\n",
              "      box-shadow: 0px 1px 3px 1px rgba(0, 0, 0, 0.15);\n",
              "      filter: drop-shadow(0px 1px 2px rgba(0, 0, 0, 0.3));\n",
              "      fill: #FFFFFF;\n",
              "    }\n",
              "  </style>\n",
              "\n",
              "      <script>\n",
              "        const buttonEl =\n",
              "          document.querySelector('#df-37781efb-71d9-4c9a-86ee-0890b7f824f3 button.colab-df-convert');\n",
              "        buttonEl.style.display =\n",
              "          google.colab.kernel.accessAllowed ? 'block' : 'none';\n",
              "\n",
              "        async function convertToInteractive(key) {\n",
              "          const element = document.querySelector('#df-37781efb-71d9-4c9a-86ee-0890b7f824f3');\n",
              "          const dataTable =\n",
              "            await google.colab.kernel.invokeFunction('convertToInteractive',\n",
              "                                                     [key], {});\n",
              "          if (!dataTable) return;\n",
              "\n",
              "          const docLinkHtml = 'Like what you see? Visit the ' +\n",
              "            '<a target=\"_blank\" href=https://colab.research.google.com/notebooks/data_table.ipynb>data table notebook</a>'\n",
              "            + ' to learn more about interactive tables.';\n",
              "          element.innerHTML = '';\n",
              "          dataTable['output_type'] = 'display_data';\n",
              "          await google.colab.output.renderOutput(dataTable, element);\n",
              "          const docLink = document.createElement('div');\n",
              "          docLink.innerHTML = docLinkHtml;\n",
              "          element.appendChild(docLink);\n",
              "        }\n",
              "      </script>\n",
              "    </div>\n",
              "  </div>\n",
              "  "
            ]
          },
          "metadata": {},
          "execution_count": 10
        }
      ],
      "source": [
        "df.sample(5)"
      ]
    },
    {
      "cell_type": "code",
      "execution_count": 11,
      "metadata": {
        "colab": {
          "base_uri": "https://localhost:8080/"
        },
        "execution": {
          "iopub.execute_input": "2023-02-09T02:23:21.010826Z",
          "iopub.status.busy": "2023-02-09T02:23:21.010588Z",
          "iopub.status.idle": "2023-02-09T02:23:21.054655Z",
          "shell.execute_reply": "2023-02-09T02:23:21.054161Z",
          "shell.execute_reply.started": "2023-02-09T02:23:21.010806Z"
        },
        "id": "6HeuKAwIt-lK",
        "outputId": "cf836dd7-0ee9-4b24-96d5-f5670bdcefb8",
        "tags": []
      },
      "outputs": [
        {
          "output_type": "execute_result",
          "data": {
            "text/plain": [
              "array(['Все', 'Музыка', 'Кино', 'Офис', 'Украина', 'Деловой климат',\n",
              "       'Футбол', 'Пресса', 'Бизнес', 'Космос', 'Город', 'Первая мировая',\n",
              "       'Coцсети', 'Искусство', 'Гаджеты', 'Инструменты', 'Стиль', 'Рынки',\n",
              "       'Интернет', 'Общество', 'Явления', 'Политика', 'Происшествия',\n",
              "       'Еда', 'Экономика', 'Часы', 'Госэкономика', 'Игры', 'Деньги',\n",
              "       'Летние виды', 'ТВ и радио', 'Вещи', 'Бокс и ММА', 'Культура',\n",
              "       'Россия', 'Мир', 'Конфликты', 'Белоруссия', 'Закавказье', 'Мнения',\n",
              "       'Люди', 'Регионы', 'Достижения', 'Прибалтика', 'Следствие и суд',\n",
              "       'Преступность', 'Квартира', 'Дача', 'Молдавия', 'Средняя Азия',\n",
              "       'Криминал', 'Театр', 'Звери', 'Мемы', 'Москва', 'Наука', 'Книги',\n",
              "       'Дом', 'Техника', 'Софт', 'Из жизни', 'Реклама', 'События',\n",
              "       'Внешний вид', 'Автобизнес', 'Оружие', 'Финансы компаний',\n",
              "       'Социальная сфера', 'Хоккей', 'Английский футбол',\n",
              "       'Мировой бизнес', 'Полиция и спецслужбы', 'Жизнь', 'Вкусы',\n",
              "       'История', 'Вирусные ролики', 'Зимние виды', 'Производители',\n",
              "       'Движение', 'Наследие', 'Киберпреступность', 'Туризм',\n",
              "       'Аналитика рынка', 'Преступная Россия', 'Госрегулирование',\n",
              "       'Экология', 'Авто', 'Нацпроекты', 'Мировой опыт', 'Фотография',\n",
              "       'Казахстан', 'Выборы', 'Страноведение', 'Смолин', 'Инновации',\n",
              "       'Вооружение'], dtype=object)"
            ]
          },
          "metadata": {},
          "execution_count": 11
        }
      ],
      "source": [
        "df.category_1.unique()"
      ]
    },
    {
      "cell_type": "code",
      "execution_count": 12,
      "metadata": {
        "execution": {
          "iopub.execute_input": "2023-02-09T02:23:21.055535Z",
          "iopub.status.busy": "2023-02-09T02:23:21.055384Z",
          "iopub.status.idle": "2023-02-09T02:23:21.139649Z",
          "shell.execute_reply": "2023-02-09T02:23:21.139134Z",
          "shell.execute_reply.started": "2023-02-09T02:23:21.055517Z"
        },
        "id": "VaVzTbKbuZjn",
        "tags": []
      },
      "outputs": [],
      "source": [
        "# Присвоим каждой категории индекс, чтобы подавать в модель\n",
        "category_index = {i[1]:i[0] for i in enumerate(df.category_1.unique())}\n",
        "# обратное преобразование - индекс метки в текст, этот словарь нам понадобится \n",
        "# после обучения для большей наглядности, чтобы видеть, к какой категории товар \n",
        "# отнесён моделью\n",
        "category_index_reverce = {i[0]:i[1] for i in enumerate(df.category_1.unique())}"
      ]
    },
    {
      "cell_type": "code",
      "execution_count": 13,
      "metadata": {
        "colab": {
          "base_uri": "https://localhost:8080/"
        },
        "collapsed": true,
        "execution": {
          "iopub.execute_input": "2023-02-09T02:23:21.140926Z",
          "iopub.status.busy": "2023-02-09T02:23:21.140518Z",
          "iopub.status.idle": "2023-02-09T02:23:21.146705Z",
          "shell.execute_reply": "2023-02-09T02:23:21.146100Z",
          "shell.execute_reply.started": "2023-02-09T02:23:21.140895Z"
        },
        "id": "vLwLVkg3ubY_",
        "jupyter": {
          "outputs_hidden": true
        },
        "outputId": "cc86f59f-952e-47c9-ecde-ef895dfd03d5",
        "tags": []
      },
      "outputs": [
        {
          "output_type": "execute_result",
          "data": {
            "text/plain": [
              "{'Все': 0,\n",
              " 'Музыка': 1,\n",
              " 'Кино': 2,\n",
              " 'Офис': 3,\n",
              " 'Украина': 4,\n",
              " 'Деловой климат': 5,\n",
              " 'Футбол': 6,\n",
              " 'Пресса': 7,\n",
              " 'Бизнес': 8,\n",
              " 'Космос': 9,\n",
              " 'Город': 10,\n",
              " 'Первая мировая': 11,\n",
              " 'Coцсети': 12,\n",
              " 'Искусство': 13,\n",
              " 'Гаджеты': 14,\n",
              " 'Инструменты': 15,\n",
              " 'Стиль': 16,\n",
              " 'Рынки': 17,\n",
              " 'Интернет': 18,\n",
              " 'Общество': 19,\n",
              " 'Явления': 20,\n",
              " 'Политика': 21,\n",
              " 'Происшествия': 22,\n",
              " 'Еда': 23,\n",
              " 'Экономика': 24,\n",
              " 'Часы': 25,\n",
              " 'Госэкономика': 26,\n",
              " 'Игры': 27,\n",
              " 'Деньги': 28,\n",
              " 'Летние виды': 29,\n",
              " 'ТВ и радио': 30,\n",
              " 'Вещи': 31,\n",
              " 'Бокс и ММА': 32,\n",
              " 'Культура': 33,\n",
              " 'Россия': 34,\n",
              " 'Мир': 35,\n",
              " 'Конфликты': 36,\n",
              " 'Белоруссия': 37,\n",
              " 'Закавказье': 38,\n",
              " 'Мнения': 39,\n",
              " 'Люди': 40,\n",
              " 'Регионы': 41,\n",
              " 'Достижения': 42,\n",
              " 'Прибалтика': 43,\n",
              " 'Следствие и суд': 44,\n",
              " 'Преступность': 45,\n",
              " 'Квартира': 46,\n",
              " 'Дача': 47,\n",
              " 'Молдавия': 48,\n",
              " 'Средняя Азия': 49,\n",
              " 'Криминал': 50,\n",
              " 'Театр': 51,\n",
              " 'Звери': 52,\n",
              " 'Мемы': 53,\n",
              " 'Москва': 54,\n",
              " 'Наука': 55,\n",
              " 'Книги': 56,\n",
              " 'Дом': 57,\n",
              " 'Техника': 58,\n",
              " 'Софт': 59,\n",
              " 'Из жизни': 60,\n",
              " 'Реклама': 61,\n",
              " 'События': 62,\n",
              " 'Внешний вид': 63,\n",
              " 'Автобизнес': 64,\n",
              " 'Оружие': 65,\n",
              " 'Финансы компаний': 66,\n",
              " 'Социальная сфера': 67,\n",
              " 'Хоккей': 68,\n",
              " 'Английский футбол': 69,\n",
              " 'Мировой бизнес': 70,\n",
              " 'Полиция и спецслужбы': 71,\n",
              " 'Жизнь': 72,\n",
              " 'Вкусы': 73,\n",
              " 'История': 74,\n",
              " 'Вирусные ролики': 75,\n",
              " 'Зимние виды': 76,\n",
              " 'Производители': 77,\n",
              " 'Движение': 78,\n",
              " 'Наследие': 79,\n",
              " 'Киберпреступность': 80,\n",
              " 'Туризм': 81,\n",
              " 'Аналитика рынка': 82,\n",
              " 'Преступная Россия': 83,\n",
              " 'Госрегулирование': 84,\n",
              " 'Экология': 85,\n",
              " 'Авто': 86,\n",
              " 'Нацпроекты': 87,\n",
              " 'Мировой опыт': 88,\n",
              " 'Фотография': 89,\n",
              " 'Казахстан': 90,\n",
              " 'Выборы': 91,\n",
              " 'Страноведение': 92,\n",
              " 'Смолин': 93,\n",
              " 'Инновации': 94,\n",
              " 'Вооружение': 95}"
            ]
          },
          "metadata": {},
          "execution_count": 13
        }
      ],
      "source": [
        "category_index"
      ]
    },
    {
      "cell_type": "code",
      "execution_count": 14,
      "metadata": {
        "collapsed": true,
        "execution": {
          "iopub.execute_input": "2023-02-09T02:23:21.147697Z",
          "iopub.status.busy": "2023-02-09T02:23:21.147504Z",
          "iopub.status.idle": "2023-02-09T02:23:21.153170Z",
          "shell.execute_reply": "2023-02-09T02:23:21.152593Z",
          "shell.execute_reply.started": "2023-02-09T02:23:21.147677Z"
        },
        "jupyter": {
          "outputs_hidden": true
        },
        "tags": [],
        "colab": {
          "base_uri": "https://localhost:8080/"
        },
        "id": "O1dSD8gXF1q0",
        "outputId": "6e55a138-ee6c-45dd-e453-77bcaa2a9bf9"
      },
      "outputs": [
        {
          "output_type": "execute_result",
          "data": {
            "text/plain": [
              "{0: 'Все',\n",
              " 1: 'Музыка',\n",
              " 2: 'Кино',\n",
              " 3: 'Офис',\n",
              " 4: 'Украина',\n",
              " 5: 'Деловой климат',\n",
              " 6: 'Футбол',\n",
              " 7: 'Пресса',\n",
              " 8: 'Бизнес',\n",
              " 9: 'Космос',\n",
              " 10: 'Город',\n",
              " 11: 'Первая мировая',\n",
              " 12: 'Coцсети',\n",
              " 13: 'Искусство',\n",
              " 14: 'Гаджеты',\n",
              " 15: 'Инструменты',\n",
              " 16: 'Стиль',\n",
              " 17: 'Рынки',\n",
              " 18: 'Интернет',\n",
              " 19: 'Общество',\n",
              " 20: 'Явления',\n",
              " 21: 'Политика',\n",
              " 22: 'Происшествия',\n",
              " 23: 'Еда',\n",
              " 24: 'Экономика',\n",
              " 25: 'Часы',\n",
              " 26: 'Госэкономика',\n",
              " 27: 'Игры',\n",
              " 28: 'Деньги',\n",
              " 29: 'Летние виды',\n",
              " 30: 'ТВ и радио',\n",
              " 31: 'Вещи',\n",
              " 32: 'Бокс и ММА',\n",
              " 33: 'Культура',\n",
              " 34: 'Россия',\n",
              " 35: 'Мир',\n",
              " 36: 'Конфликты',\n",
              " 37: 'Белоруссия',\n",
              " 38: 'Закавказье',\n",
              " 39: 'Мнения',\n",
              " 40: 'Люди',\n",
              " 41: 'Регионы',\n",
              " 42: 'Достижения',\n",
              " 43: 'Прибалтика',\n",
              " 44: 'Следствие и суд',\n",
              " 45: 'Преступность',\n",
              " 46: 'Квартира',\n",
              " 47: 'Дача',\n",
              " 48: 'Молдавия',\n",
              " 49: 'Средняя Азия',\n",
              " 50: 'Криминал',\n",
              " 51: 'Театр',\n",
              " 52: 'Звери',\n",
              " 53: 'Мемы',\n",
              " 54: 'Москва',\n",
              " 55: 'Наука',\n",
              " 56: 'Книги',\n",
              " 57: 'Дом',\n",
              " 58: 'Техника',\n",
              " 59: 'Софт',\n",
              " 60: 'Из жизни',\n",
              " 61: 'Реклама',\n",
              " 62: 'События',\n",
              " 63: 'Внешний вид',\n",
              " 64: 'Автобизнес',\n",
              " 65: 'Оружие',\n",
              " 66: 'Финансы компаний',\n",
              " 67: 'Социальная сфера',\n",
              " 68: 'Хоккей',\n",
              " 69: 'Английский футбол',\n",
              " 70: 'Мировой бизнес',\n",
              " 71: 'Полиция и спецслужбы',\n",
              " 72: 'Жизнь',\n",
              " 73: 'Вкусы',\n",
              " 74: 'История',\n",
              " 75: 'Вирусные ролики',\n",
              " 76: 'Зимние виды',\n",
              " 77: 'Производители',\n",
              " 78: 'Движение',\n",
              " 79: 'Наследие',\n",
              " 80: 'Киберпреступность',\n",
              " 81: 'Туризм',\n",
              " 82: 'Аналитика рынка',\n",
              " 83: 'Преступная Россия',\n",
              " 84: 'Госрегулирование',\n",
              " 85: 'Экология',\n",
              " 86: 'Авто',\n",
              " 87: 'Нацпроекты',\n",
              " 88: 'Мировой опыт',\n",
              " 89: 'Фотография',\n",
              " 90: 'Казахстан',\n",
              " 91: 'Выборы',\n",
              " 92: 'Страноведение',\n",
              " 93: 'Смолин',\n",
              " 94: 'Инновации',\n",
              " 95: 'Вооружение'}"
            ]
          },
          "metadata": {},
          "execution_count": 14
        }
      ],
      "source": [
        "category_index_reverce"
      ]
    },
    {
      "cell_type": "code",
      "execution_count": 15,
      "metadata": {
        "execution": {
          "iopub.execute_input": "2023-02-09T02:23:21.154063Z",
          "iopub.status.busy": "2023-02-09T02:23:21.153913Z",
          "iopub.status.idle": "2023-02-09T02:23:21.208191Z",
          "shell.execute_reply": "2023-02-09T02:23:21.207765Z",
          "shell.execute_reply.started": "2023-02-09T02:23:21.154046Z"
        },
        "id": "FCM9mjgHueWh",
        "tags": []
      },
      "outputs": [],
      "source": [
        "# Переведём все метки датасета в числа\n",
        "sentences = df.name.values\n",
        "labels = [category_index[i] for i in df.category_1.values]"
      ]
    },
    {
      "cell_type": "code",
      "execution_count": 16,
      "metadata": {
        "colab": {
          "base_uri": "https://localhost:8080/"
        },
        "execution": {
          "iopub.execute_input": "2023-02-09T02:23:21.209002Z",
          "iopub.status.busy": "2023-02-09T02:23:21.208818Z",
          "iopub.status.idle": "2023-02-09T02:23:21.213063Z",
          "shell.execute_reply": "2023-02-09T02:23:21.212504Z",
          "shell.execute_reply.started": "2023-02-09T02:23:21.208984Z"
        },
        "id": "q2RL4VMyughp",
        "outputId": "54922400-a463-4ef1-9200-cacf504c8d0e",
        "tags": []
      },
      "outputs": [
        {
          "output_type": "execute_result",
          "data": {
            "text/plain": [
              "(' \"\"Локомотив\"\" и \"\"Спартак\"\"', 0)"
            ]
          },
          "metadata": {},
          "execution_count": 16
        }
      ],
      "source": [
        "# Каждому предложению (названию товара) теперь соответсвует не название категории, а её индекс:\n",
        "sentences[22], labels[22]"
      ]
    },
    {
      "cell_type": "code",
      "execution_count": 17,
      "metadata": {
        "execution": {
          "iopub.execute_input": "2023-02-09T02:23:21.214035Z",
          "iopub.status.busy": "2023-02-09T02:23:21.213828Z",
          "iopub.status.idle": "2023-02-09T02:23:21.216996Z",
          "shell.execute_reply": "2023-02-09T02:23:21.216544Z",
          "shell.execute_reply.started": "2023-02-09T02:23:21.214018Z"
        },
        "id": "ebipCQUFukG2",
        "tags": []
      },
      "outputs": [],
      "source": [
        "# Проверим, что все данные корректны\n",
        "assert len(sentences) == len(labels) == df.shape[0]"
      ]
    },
    {
      "cell_type": "code",
      "execution_count": 18,
      "metadata": {
        "execution": {
          "iopub.execute_input": "2023-02-09T02:23:21.218302Z",
          "iopub.status.busy": "2023-02-09T02:23:21.217717Z",
          "iopub.status.idle": "2023-02-09T02:23:21.437169Z",
          "shell.execute_reply": "2023-02-09T02:23:21.436571Z",
          "shell.execute_reply.started": "2023-02-09T02:23:21.218276Z"
        },
        "id": "6bLlupUcumwY",
        "tags": []
      },
      "outputs": [],
      "source": [
        "sentences = ['[CLS] ' + sentence + ' [SEP]' for sentence in sentences]"
      ]
    },
    {
      "cell_type": "code",
      "execution_count": 19,
      "metadata": {
        "execution": {
          "iopub.execute_input": "2023-02-09T02:23:21.438796Z",
          "iopub.status.busy": "2023-02-09T02:23:21.438217Z",
          "iopub.status.idle": "2023-02-09T02:23:21.756067Z",
          "shell.execute_reply": "2023-02-09T02:23:21.755425Z",
          "shell.execute_reply.started": "2023-02-09T02:23:21.438756Z"
        },
        "id": "RmDoRwT7uq0f",
        "tags": []
      },
      "outputs": [],
      "source": [
        "train_sentences, test_sentences, train_category, test_category = train_test_split(sentences, labels, test_size=0.005)"
      ]
    },
    {
      "cell_type": "code",
      "execution_count": 20,
      "metadata": {
        "colab": {
          "base_uri": "https://localhost:8080/"
        },
        "execution": {
          "iopub.execute_input": "2023-02-09T02:23:21.757114Z",
          "iopub.status.busy": "2023-02-09T02:23:21.756883Z",
          "iopub.status.idle": "2023-02-09T02:23:21.761088Z",
          "shell.execute_reply": "2023-02-09T02:23:21.760601Z",
          "shell.execute_reply.started": "2023-02-09T02:23:21.757095Z"
        },
        "id": "8lOPCZhHuuO2",
        "outputId": "868b9b27-3cb3-4ee3-e8f4-f8cdf864b997",
        "tags": []
      },
      "outputs": [
        {
          "output_type": "execute_result",
          "data": {
            "text/plain": [
              "(754716, 3793)"
            ]
          },
          "metadata": {},
          "execution_count": 20
        }
      ],
      "source": [
        "len(train_sentences), len(test_sentences)"
      ]
    },
    {
      "cell_type": "code",
      "execution_count": 21,
      "metadata": {
        "execution": {
          "iopub.execute_input": "2023-02-09T02:38:31.937536Z",
          "iopub.status.busy": "2023-02-09T02:38:31.937253Z",
          "iopub.status.idle": "2023-02-09T02:38:33.857454Z",
          "shell.execute_reply": "2023-02-09T02:38:33.856893Z",
          "shell.execute_reply.started": "2023-02-09T02:38:31.937510Z"
        },
        "id": "5duuGlNYuwxU",
        "tags": [],
        "colab": {
          "base_uri": "https://localhost:8080/",
          "height": 113,
          "referenced_widgets": [
            "b9d4765072bc4b049dba1291a72ddbc9",
            "035b6bb99d264ce19f91dcd105bfc768",
            "b994289a5bbe4226a7dfc7d2a090ac4e",
            "fe1eae46ec40499f92f3bb4a938b9cb4",
            "d6187372e7354405813faee689c43f82",
            "7af7220e8f9247f99a10e15cc6f14cdd",
            "d4670c05eae84c97a94f254c11fe76e8",
            "713027a3547e428aa92b2b46ce9392d4",
            "3b20a9b098b7463298d19f6c754bf584",
            "675e6e09ac644ed584e98f6c0d24c6aa",
            "fa04b203d52a4f098518e7a41c5a3e7d",
            "2cf14d265dc541679637c3f43a42c2dd",
            "4e28db40bdd04aac8ab32faa3f3518a8",
            "111dd9353f184ebcaf398ecf122a9b3d",
            "3c11cc2a5d804b6da405f137ca91760d",
            "970cebfb95b543d480fa5c074274da48",
            "220b88224f1d404eb8845f0891028184",
            "38c195554097445cbd37eebece1fc331",
            "5f7b886a8f184453a8435ff0f8d31c76",
            "99f2cf8d1d5f4386818a3e7dc73e5df1",
            "0820614f17b84dfb84cf8e672a762e5a",
            "3021db5fdfb24c81ab803fcf91320a9b",
            "f1111e8d738a415792a3f667c95cc379",
            "3b311cecc3c34f87b7435fe26b1e7e25",
            "60fa4dbb56da4b599e7bdc2f60d13021",
            "e5b3b6cab59f448b9b509d4c90ef6825",
            "510e873efafb42f6bf031e2ea5ab4033",
            "7f49050dae81449592b0555fc2f05065",
            "27cfffdc38054798b8798ec719270961",
            "e4acf2ecdfb64c59bc2276dcbac25e87",
            "2b0c1536bdad4dab8060070f48e3c13c",
            "19dc53fca5a94affa707c3b3bfdb8b53",
            "db59bbc843204301aece00f3054cd345"
          ]
        },
        "outputId": "5bc4daa4-d5ba-4369-e0dd-2fd10c41cc29"
      },
      "outputs": [
        {
          "output_type": "display_data",
          "data": {
            "text/plain": [
              "Downloading (…)solve/main/vocab.txt:   0%|          | 0.00/187k [00:00<?, ?B/s]"
            ],
            "application/vnd.jupyter.widget-view+json": {
              "version_major": 2,
              "version_minor": 0,
              "model_id": "b9d4765072bc4b049dba1291a72ddbc9"
            }
          },
          "metadata": {}
        },
        {
          "output_type": "display_data",
          "data": {
            "text/plain": [
              "Downloading (…)lve/main/config.json:   0%|          | 0.00/504 [00:00<?, ?B/s]"
            ],
            "application/vnd.jupyter.widget-view+json": {
              "version_major": 2,
              "version_minor": 0,
              "model_id": "2cf14d265dc541679637c3f43a42c2dd"
            }
          },
          "metadata": {}
        },
        {
          "output_type": "display_data",
          "data": {
            "text/plain": [
              "Downloading (…)\"pytorch_model.bin\";:   0%|          | 0.00/474M [00:00<?, ?B/s]"
            ],
            "application/vnd.jupyter.widget-view+json": {
              "version_major": 2,
              "version_minor": 0,
              "model_id": "f1111e8d738a415792a3f667c95cc379"
            }
          },
          "metadata": {}
        }
      ],
      "source": [
        "from transformers import BertTokenizer, ErnieForMaskedLM\n",
        "\n",
        "tokenizer = BertTokenizer.from_pretrained(\"nghuyong/ernie-3.0-base-zh\")\n",
        "model = ErnieForMaskedLM.from_pretrained(\"nghuyong/ernie-3.0-base-zh\")"
      ]
    },
    {
      "cell_type": "code",
      "execution_count": 22,
      "metadata": {
        "execution": {
          "iopub.execute_input": "2023-02-09T02:38:35.790629Z",
          "iopub.status.busy": "2023-02-09T02:38:35.790337Z",
          "iopub.status.idle": "2023-02-09T02:42:17.906155Z",
          "shell.execute_reply": "2023-02-09T02:42:17.905447Z",
          "shell.execute_reply.started": "2023-02-09T02:38:35.790607Z"
        },
        "id": "ydwWyruWvSE5",
        "tags": []
      },
      "outputs": [],
      "source": [
        "tokenized_texts = [tokenizer.tokenize(sent) for sent in train_sentences]"
      ]
    },
    {
      "cell_type": "code",
      "execution_count": 23,
      "metadata": {
        "colab": {
          "base_uri": "https://localhost:8080/"
        },
        "execution": {
          "iopub.execute_input": "2023-02-09T02:42:17.908201Z",
          "iopub.status.busy": "2023-02-09T02:42:17.907945Z",
          "iopub.status.idle": "2023-02-09T02:42:17.911931Z",
          "shell.execute_reply": "2023-02-09T02:42:17.911355Z",
          "shell.execute_reply.started": "2023-02-09T02:42:17.908177Z"
        },
        "id": "zudXX-SovVEf",
        "outputId": "c1b10adc-2512-40f3-d442-f2ae738bbf6d",
        "tags": []
      },
      "outputs": [
        {
          "output_type": "stream",
          "name": "stdout",
          "text": [
            "['[CLS]', '[UNK]', '[UNK]', '[UNK]', 'в', '[UNK]', '[SEP]']\n"
          ]
        }
      ],
      "source": [
        "# Посмотрим, что получилось\n",
        "# Сомволы номеров отмечают то, что данный токен - продолжение слова\n",
        "print(tokenized_texts[42])"
      ]
    },
    {
      "cell_type": "code",
      "execution_count": 24,
      "metadata": {
        "execution": {
          "iopub.execute_input": "2023-02-09T02:42:17.913004Z",
          "iopub.status.busy": "2023-02-09T02:42:17.912792Z",
          "iopub.status.idle": "2023-02-09T02:42:24.050723Z",
          "shell.execute_reply": "2023-02-09T02:42:24.050173Z",
          "shell.execute_reply.started": "2023-02-09T02:42:17.912983Z"
        },
        "id": "TMJxzEplvZhM",
        "tags": []
      },
      "outputs": [],
      "source": [
        "# ииндексы токенов\n",
        "input_ids = [tokenizer.convert_tokens_to_ids(x) for x in tokenized_texts]"
      ]
    },
    {
      "cell_type": "code",
      "execution_count": 25,
      "metadata": {
        "colab": {
          "base_uri": "https://localhost:8080/",
          "height": 352
        },
        "execution": {
          "iopub.execute_input": "2023-02-09T02:42:24.052243Z",
          "iopub.status.busy": "2023-02-09T02:42:24.052018Z",
          "iopub.status.idle": "2023-02-09T02:42:25.984059Z",
          "shell.execute_reply": "2023-02-09T02:42:25.983397Z",
          "shell.execute_reply.started": "2023-02-09T02:42:24.052221Z"
        },
        "id": "sYwnpHAZvbaV",
        "outputId": "c854a7f4-75ff-43de-a224-0e003dbd92d9",
        "tags": []
      },
      "outputs": [
        {
          "output_type": "execute_result",
          "data": {
            "text/plain": [
              "(array([7.23965e+05, 3.04330e+04, 2.06000e+02, 7.00000e+01, 2.40000e+01,\n",
              "        1.00000e+01, 7.00000e+00, 0.00000e+00, 0.00000e+00, 1.00000e+00]),\n",
              " array([  3. ,  14.7,  26.4,  38.1,  49.8,  61.5,  73.2,  84.9,  96.6,\n",
              "        108.3, 120. ]),\n",
              " <a list of 10 Patch objects>)"
            ]
          },
          "metadata": {},
          "execution_count": 25
        },
        {
          "output_type": "display_data",
          "data": {
            "text/plain": [
              "<Figure size 432x288 with 1 Axes>"
            ],
            "image/png": "[encoded data removed]"
          },
          "metadata": {
            "needs_background": "light"
          }
        }
      ],
      "source": [
        "# Соберём все размеры последовательностей\n",
        "lenths = [len(sent) for sent in tokenized_texts]\n",
        "# Посмотрим, как они распределяются\n",
        "plt.hist(lenths)"
      ]
    },
    {
      "cell_type": "code",
      "execution_count": 26,
      "metadata": {
        "execution": {
          "iopub.execute_input": "2023-02-09T02:42:25.985702Z",
          "iopub.status.busy": "2023-02-09T02:42:25.985275Z",
          "iopub.status.idle": "2023-02-09T02:42:27.847942Z",
          "shell.execute_reply": "2023-02-09T02:42:27.847407Z",
          "shell.execute_reply.started": "2023-02-09T02:42:25.985667Z"
        },
        "id": "obLVv2Qzvd4H",
        "tags": []
      },
      "outputs": [],
      "source": [
        "# Выравниваем датасет. Возьмём размер, равный 24\n",
        "input_ids = pad_sequences(\n",
        "    input_ids,\n",
        "    # максимальная длина предложения\n",
        "    maxlen=24,\n",
        "    dtype='long',\n",
        "    truncating='post',\n",
        "    padding='post'\n",
        ")"
      ]
    },
    {
      "cell_type": "code",
      "execution_count": 27,
      "metadata": {
        "colab": {
          "base_uri": "https://localhost:8080/"
        },
        "execution": {
          "iopub.execute_input": "2023-02-09T02:42:27.849539Z",
          "iopub.status.busy": "2023-02-09T02:42:27.849003Z",
          "iopub.status.idle": "2023-02-09T02:42:27.854771Z",
          "shell.execute_reply": "2023-02-09T02:42:27.854106Z",
          "shell.execute_reply.started": "2023-02-09T02:42:27.849503Z"
        },
        "id": "7nwOAQxkvf1f",
        "outputId": "1027effa-2bb9-4f82-ef9a-c37240122670",
        "tags": []
      },
      "outputs": [
        {
          "output_type": "execute_result",
          "data": {
            "text/plain": [
              "array([    1, 39979, 39979, 39979, 18147, 39979,     2,     0,     0,\n",
              "           0,     0,     0,     0,     0,     0,     0,     0,     0,\n",
              "           0,     0,     0,     0,     0,     0])"
            ]
          },
          "metadata": {},
          "execution_count": 27
        }
      ],
      "source": [
        "\n",
        "# Вот, что у нас в результате получилось\n",
        "# Как видно, в этом примере меньше 24 токенов, поэтому в конец был добавлен паддинг\n",
        "input_ids[42]\n",
        "     "
      ]
    },
    {
      "cell_type": "code",
      "execution_count": 28,
      "metadata": {
        "execution": {
          "iopub.execute_input": "2023-02-09T02:42:27.855988Z",
          "iopub.status.busy": "2023-02-09T02:42:27.855575Z",
          "iopub.status.idle": "2023-02-09T02:42:37.020317Z",
          "shell.execute_reply": "2023-02-09T02:42:37.019770Z",
          "shell.execute_reply.started": "2023-02-09T02:42:27.855966Z"
        },
        "id": "fRblzCWLvij_",
        "tags": []
      },
      "outputs": [],
      "source": [
        "\n",
        "# Создадим маску внимания для каждого сэмпла нашей обучающей выборки.\n",
        "# единицами отметим те токены, которые нужно учитывать при обучении и вычислении градиентов,\n",
        "# нулями - те, которые следует пропустить.\n",
        "attention_masks = [[float(i>0) for i in seq] for seq in input_ids]"
      ]
    },
    {
      "cell_type": "code",
      "execution_count": 29,
      "metadata": {
        "colab": {
          "base_uri": "https://localhost:8080/"
        },
        "execution": {
          "iopub.execute_input": "2023-02-09T02:42:37.021391Z",
          "iopub.status.busy": "2023-02-09T02:42:37.021168Z",
          "iopub.status.idle": "2023-02-09T02:42:37.025610Z",
          "shell.execute_reply": "2023-02-09T02:42:37.024939Z",
          "shell.execute_reply.started": "2023-02-09T02:42:37.021369Z"
        },
        "id": "PnHS4sGpvjxv",
        "outputId": "8c24e89d-e910-4765-f978-00a38e95a327",
        "tags": []
      },
      "outputs": [
        {
          "output_type": "stream",
          "name": "stdout",
          "text": [
            "[1.0, 1.0, 1.0, 1.0, 1.0, 1.0, 1.0, 0.0, 0.0, 0.0, 0.0, 0.0, 0.0, 0.0, 0.0, 0.0, 0.0, 0.0, 0.0, 0.0, 0.0, 0.0, 0.0, 0.0]\n"
          ]
        }
      ],
      "source": [
        "\n",
        "print(attention_masks[42])"
      ]
    },
    {
      "cell_type": "code",
      "execution_count": 30,
      "metadata": {
        "execution": {
          "iopub.execute_input": "2023-02-09T02:42:37.026660Z",
          "iopub.status.busy": "2023-02-09T02:42:37.026505Z",
          "iopub.status.idle": "2023-02-09T02:42:37.030245Z",
          "shell.execute_reply": "2023-02-09T02:42:37.029577Z",
          "shell.execute_reply.started": "2023-02-09T02:42:37.026642Z"
        },
        "id": "6QNhQ4kivmNM",
        "tags": []
      },
      "outputs": [],
      "source": [
        "# каждая маска соответсвует своей последовательности\n",
        "assert len(input_ids[42]) == len(attention_masks[42])"
      ]
    },
    {
      "cell_type": "code",
      "execution_count": 31,
      "metadata": {
        "execution": {
          "iopub.execute_input": "2023-02-09T02:42:37.032002Z",
          "iopub.status.busy": "2023-02-09T02:42:37.031802Z",
          "iopub.status.idle": "2023-02-09T02:42:37.674883Z",
          "shell.execute_reply": "2023-02-09T02:42:37.674291Z",
          "shell.execute_reply.started": "2023-02-09T02:42:37.031978Z"
        },
        "id": "Nh28tQ5jvniL",
        "tags": []
      },
      "outputs": [],
      "source": [
        "train_inputs, validation_inputs, train_labels, validation_labels = train_test_split(\n",
        "    input_ids, train_category, \n",
        "    random_state=42,\n",
        "    test_size=0.1\n",
        ")\n",
        "\n",
        "train_masks, validation_masks, _, _ = train_test_split(\n",
        "    attention_masks,\n",
        "    input_ids,\n",
        "    random_state=42,\n",
        "    test_size=0.1\n",
        ")"
      ]
    },
    {
      "cell_type": "code",
      "execution_count": 32,
      "metadata": {
        "execution": {
          "iopub.execute_input": "2023-02-09T02:42:37.676102Z",
          "iopub.status.busy": "2023-02-09T02:42:37.675852Z",
          "iopub.status.idle": "2023-02-09T02:42:37.679369Z",
          "shell.execute_reply": "2023-02-09T02:42:37.678819Z",
          "shell.execute_reply.started": "2023-02-09T02:42:37.676081Z"
        },
        "id": "_CyXsiTJvqaC",
        "tags": []
      },
      "outputs": [],
      "source": [
        "assert len(train_inputs) == len(train_labels) == len(train_masks)\n",
        "assert len(validation_inputs) == len(validation_labels) == len(validation_masks)"
      ]
    },
    {
      "cell_type": "code",
      "execution_count": 33,
      "metadata": {
        "execution": {
          "iopub.execute_input": "2023-02-09T02:42:37.680245Z",
          "iopub.status.busy": "2023-02-09T02:42:37.680104Z",
          "iopub.status.idle": "2023-02-09T02:42:39.564805Z",
          "shell.execute_reply": "2023-02-09T02:42:39.564179Z",
          "shell.execute_reply.started": "2023-02-09T02:42:37.680228Z"
        },
        "id": "BZjiYOzbvsI8",
        "tags": []
      },
      "outputs": [],
      "source": [
        "train_inputs = torch.tensor(train_inputs)\n",
        "train_labels = torch.tensor(train_labels)\n",
        "train_masks = torch.tensor(train_masks)\n",
        "\n",
        "validation_inputs = torch.tensor(validation_inputs)\n",
        "validation_labels = torch.tensor(validation_labels)\n",
        "validation_masks = torch.tensor(validation_masks)"
      ]
    },
    {
      "cell_type": "code",
      "execution_count": 34,
      "metadata": {
        "execution": {
          "iopub.execute_input": "2023-02-09T02:42:39.565911Z",
          "iopub.status.busy": "2023-02-09T02:42:39.565709Z",
          "iopub.status.idle": "2023-02-09T02:42:39.569018Z",
          "shell.execute_reply": "2023-02-09T02:42:39.568445Z",
          "shell.execute_reply.started": "2023-02-09T02:42:39.565889Z"
        },
        "id": "p8CZ2SrnwKzp",
        "tags": []
      },
      "outputs": [],
      "source": [
        "from torch.utils.data import SequentialSampler"
      ]
    },
    {
      "cell_type": "code",
      "execution_count": 35,
      "metadata": {
        "execution": {
          "iopub.execute_input": "2023-02-09T02:42:39.570510Z",
          "iopub.status.busy": "2023-02-09T02:42:39.569929Z",
          "iopub.status.idle": "2023-02-09T02:42:39.583649Z",
          "shell.execute_reply": "2023-02-09T02:42:39.583158Z",
          "shell.execute_reply.started": "2023-02-09T02:42:39.570486Z"
        },
        "id": "kDAfR81svusf",
        "tags": []
      },
      "outputs": [],
      "source": [
        "# специальная обёртка для работы с Тензор-датасетами, в Pytorch есть и другие,\n",
        "# также можно и свою обёртку написать, для нашей же задачи вполне хватит уже существующих\n",
        "# в библиотеке инструментов. Используя их мы существенно сокращаем свой код.\n",
        "train_data = TensorDataset(train_inputs, train_masks, train_labels)\n",
        "train_dataloader = DataLoader(\n",
        "    train_data,\n",
        "    # Данные по батчам разбиваем произвольно с помощью RandomSampler\n",
        "    sampler=RandomSampler(train_data),\n",
        "    batch_size=64\n",
        ")\n",
        "validation_data = TensorDataset(validation_inputs, validation_masks, validation_labels)\n",
        "validation_dataloader = DataLoader(\n",
        "    validation_data,\n",
        "    sampler=SequentialSampler(validation_data),\n",
        "    batch_size=64\n",
        ")"
      ]
    },
    {
      "cell_type": "code",
      "execution_count": 36,
      "metadata": {
        "execution": {
          "iopub.execute_input": "2023-02-09T02:36:18.136537Z",
          "iopub.status.busy": "2023-02-09T02:36:18.136299Z",
          "iopub.status.idle": "2023-02-09T02:36:18.214527Z",
          "shell.execute_reply": "2023-02-09T02:36:18.214056Z",
          "shell.execute_reply.started": "2023-02-09T02:36:18.136517Z"
        },
        "id": "-KI9-DRwwPaa",
        "tags": []
      },
      "outputs": [],
      "source": [
        "config = AutoConfig.from_pretrained('nghuyong/ernie-3.0-base-zh',\n",
        "                                    num_labels=len(category_index),\n",
        "                                    id2label=category_index_reverce,\n",
        "                                    label2id=category_index)"
      ]
    },
    {
      "cell_type": "code",
      "execution_count": 37,
      "metadata": {
        "colab": {
          "base_uri": "https://localhost:8080/"
        },
        "execution": {
          "iopub.execute_input": "2023-02-09T02:38:03.036554Z",
          "iopub.status.busy": "2023-02-09T02:38:03.036262Z",
          "iopub.status.idle": "2023-02-09T02:38:04.149397Z",
          "shell.execute_reply": "2023-02-09T02:38:04.148845Z",
          "shell.execute_reply.started": "2023-02-09T02:38:03.036529Z"
        },
        "id": "6g_UTEyVwa6J",
        "outputId": "0e1c7569-dae3-495a-9e5f-bb43eb43985c",
        "tags": []
      },
      "outputs": [
        {
          "output_type": "stream",
          "name": "stderr",
          "text": [
            "Some weights of the model checkpoint at nghuyong/ernie-3.0-base-zh were not used when initializing ErnieForSequenceClassification: ['cls.predictions.transform.dense.weight', 'cls.predictions.transform.LayerNorm.weight', 'cls.predictions.bias', 'cls.predictions.transform.dense.bias', 'cls.predictions.transform.LayerNorm.bias']\n",
            "- This IS expected if you are initializing ErnieForSequenceClassification from the checkpoint of a model trained on another task or with another architecture (e.g. initializing a BertForSequenceClassification model from a BertForPreTraining model).\n",
            "- This IS NOT expected if you are initializing ErnieForSequenceClassification from the checkpoint of a model that you expect to be exactly identical (initializing a BertForSequenceClassification model from a BertForSequenceClassification model).\n",
            "Some weights of ErnieForSequenceClassification were not initialized from the model checkpoint at nghuyong/ernie-3.0-base-zh and are newly initialized: ['classifier.weight', 'classifier.bias']\n",
            "You should probably TRAIN this model on a down-stream task to be able to use it for predictions and inference.\n"
          ]
        }
      ],
      "source": [
        "#Загружаем модель, передаём ей наш конфиг\n",
        "model = AutoModelForSequenceClassification.from_pretrained('nghuyong/ernie-3.0-base-zh', config=config)"
      ]
    },
    {
      "cell_type": "code",
      "execution_count": 38,
      "metadata": {
        "execution": {
          "iopub.execute_input": "2023-02-09T02:38:08.777656Z",
          "iopub.status.busy": "2023-02-09T02:38:08.777384Z",
          "iopub.status.idle": "2023-02-09T02:38:08.835522Z",
          "shell.execute_reply": "2023-02-09T02:38:08.834601Z",
          "shell.execute_reply.started": "2023-02-09T02:38:08.777631Z"
        },
        "id": "0yYqD7GfwlXZ",
        "tags": [],
        "colab": {
          "base_uri": "https://localhost:8080/"
        },
        "outputId": "5bd306a5-a9c9-4482-d4ee-d41559679c40"
      },
      "outputs": [
        {
          "output_type": "execute_result",
          "data": {
            "text/plain": [
              "ErnieForSequenceClassification(\n",
              "  (ernie): ErnieModel(\n",
              "    (embeddings): ErnieEmbeddings(\n",
              "      (word_embeddings): Embedding(40000, 768, padding_idx=0)\n",
              "      (position_embeddings): Embedding(2048, 768)\n",
              "      (token_type_embeddings): Embedding(4, 768)\n",
              "      (task_type_embeddings): Embedding(3, 768)\n",
              "      (LayerNorm): LayerNorm((768,), eps=1e-05, elementwise_affine=True)\n",
              "      (dropout): Dropout(p=0.1, inplace=False)\n",
              "    )\n",
              "    (encoder): ErnieEncoder(\n",
              "      (layer): ModuleList(\n",
              "        (0): ErnieLayer(\n",
              "          (attention): ErnieAttention(\n",
              "            (self): ErnieSelfAttention(\n",
              "              (query): Linear(in_features=768, out_features=768, bias=True)\n",
              "              (key): Linear(in_features=768, out_features=768, bias=True)\n",
              "              (value): Linear(in_features=768, out_features=768, bias=True)\n",
              "              (dropout): Dropout(p=0.1, inplace=False)\n",
              "            )\n",
              "            (output): ErnieSelfOutput(\n",
              "              (dense): Linear(in_features=768, out_features=768, bias=True)\n",
              "              (LayerNorm): LayerNorm((768,), eps=1e-05, elementwise_affine=True)\n",
              "              (dropout): Dropout(p=0.1, inplace=False)\n",
              "            )\n",
              "          )\n",
              "          (intermediate): ErnieIntermediate(\n",
              "            (dense): Linear(in_features=768, out_features=3072, bias=True)\n",
              "            (intermediate_act_fn): GELUActivation()\n",
              "          )\n",
              "          (output): ErnieOutput(\n",
              "            (dense): Linear(in_features=3072, out_features=768, bias=True)\n",
              "            (LayerNorm): LayerNorm((768,), eps=1e-05, elementwise_affine=True)\n",
              "            (dropout): Dropout(p=0.1, inplace=False)\n",
              "          )\n",
              "        )\n",
              "        (1): ErnieLayer(\n",
              "          (attention): ErnieAttention(\n",
              "            (self): ErnieSelfAttention(\n",
              "              (query): Linear(in_features=768, out_features=768, bias=True)\n",
              "              (key): Linear(in_features=768, out_features=768, bias=True)\n",
              "              (value): Linear(in_features=768, out_features=768, bias=True)\n",
              "              (dropout): Dropout(p=0.1, inplace=False)\n",
              "            )\n",
              "            (output): ErnieSelfOutput(\n",
              "              (dense): Linear(in_features=768, out_features=768, bias=True)\n",
              "              (LayerNorm): LayerNorm((768,), eps=1e-05, elementwise_affine=True)\n",
              "              (dropout): Dropout(p=0.1, inplace=False)\n",
              "            )\n",
              "          )\n",
              "          (intermediate): ErnieIntermediate(\n",
              "            (dense): Linear(in_features=768, out_features=3072, bias=True)\n",
              "            (intermediate_act_fn): GELUActivation()\n",
              "          )\n",
              "          (output): ErnieOutput(\n",
              "            (dense): Linear(in_features=3072, out_features=768, bias=True)\n",
              "            (LayerNorm): LayerNorm((768,), eps=1e-05, elementwise_affine=True)\n",
              "            (dropout): Dropout(p=0.1, inplace=False)\n",
              "          )\n",
              "        )\n",
              "        (2): ErnieLayer(\n",
              "          (attention): ErnieAttention(\n",
              "            (self): ErnieSelfAttention(\n",
              "              (query): Linear(in_features=768, out_features=768, bias=True)\n",
              "              (key): Linear(in_features=768, out_features=768, bias=True)\n",
              "              (value): Linear(in_features=768, out_features=768, bias=True)\n",
              "              (dropout): Dropout(p=0.1, inplace=False)\n",
              "            )\n",
              "            (output): ErnieSelfOutput(\n",
              "              (dense): Linear(in_features=768, out_features=768, bias=True)\n",
              "              (LayerNorm): LayerNorm((768,), eps=1e-05, elementwise_affine=True)\n",
              "              (dropout): Dropout(p=0.1, inplace=False)\n",
              "            )\n",
              "          )\n",
              "          (intermediate): ErnieIntermediate(\n",
              "            (dense): Linear(in_features=768, out_features=3072, bias=True)\n",
              "            (intermediate_act_fn): GELUActivation()\n",
              "          )\n",
              "          (output): ErnieOutput(\n",
              "            (dense): Linear(in_features=3072, out_features=768, bias=True)\n",
              "            (LayerNorm): LayerNorm((768,), eps=1e-05, elementwise_affine=True)\n",
              "            (dropout): Dropout(p=0.1, inplace=False)\n",
              "          )\n",
              "        )\n",
              "        (3): ErnieLayer(\n",
              "          (attention): ErnieAttention(\n",
              "            (self): ErnieSelfAttention(\n",
              "              (query): Linear(in_features=768, out_features=768, bias=True)\n",
              "              (key): Linear(in_features=768, out_features=768, bias=True)\n",
              "              (value): Linear(in_features=768, out_features=768, bias=True)\n",
              "              (dropout): Dropout(p=0.1, inplace=False)\n",
              "            )\n",
              "            (output): ErnieSelfOutput(\n",
              "              (dense): Linear(in_features=768, out_features=768, bias=True)\n",
              "              (LayerNorm): LayerNorm((768,), eps=1e-05, elementwise_affine=True)\n",
              "              (dropout): Dropout(p=0.1, inplace=False)\n",
              "            )\n",
              "          )\n",
              "          (intermediate): ErnieIntermediate(\n",
              "            (dense): Linear(in_features=768, out_features=3072, bias=True)\n",
              "            (intermediate_act_fn): GELUActivation()\n",
              "          )\n",
              "          (output): ErnieOutput(\n",
              "            (dense): Linear(in_features=3072, out_features=768, bias=True)\n",
              "            (LayerNorm): LayerNorm((768,), eps=1e-05, elementwise_affine=True)\n",
              "            (dropout): Dropout(p=0.1, inplace=False)\n",
              "          )\n",
              "        )\n",
              "        (4): ErnieLayer(\n",
              "          (attention): ErnieAttention(\n",
              "            (self): ErnieSelfAttention(\n",
              "              (query): Linear(in_features=768, out_features=768, bias=True)\n",
              "              (key): Linear(in_features=768, out_features=768, bias=True)\n",
              "              (value): Linear(in_features=768, out_features=768, bias=True)\n",
              "              (dropout): Dropout(p=0.1, inplace=False)\n",
              "            )\n",
              "            (output): ErnieSelfOutput(\n",
              "              (dense): Linear(in_features=768, out_features=768, bias=True)\n",
              "              (LayerNorm): LayerNorm((768,), eps=1e-05, elementwise_affine=True)\n",
              "              (dropout): Dropout(p=0.1, inplace=False)\n",
              "            )\n",
              "          )\n",
              "          (intermediate): ErnieIntermediate(\n",
              "            (dense): Linear(in_features=768, out_features=3072, bias=True)\n",
              "            (intermediate_act_fn): GELUActivation()\n",
              "          )\n",
              "          (output): ErnieOutput(\n",
              "            (dense): Linear(in_features=3072, out_features=768, bias=True)\n",
              "            (LayerNorm): LayerNorm((768,), eps=1e-05, elementwise_affine=True)\n",
              "            (dropout): Dropout(p=0.1, inplace=False)\n",
              "          )\n",
              "        )\n",
              "        (5): ErnieLayer(\n",
              "          (attention): ErnieAttention(\n",
              "            (self): ErnieSelfAttention(\n",
              "              (query): Linear(in_features=768, out_features=768, bias=True)\n",
              "              (key): Linear(in_features=768, out_features=768, bias=True)\n",
              "              (value): Linear(in_features=768, out_features=768, bias=True)\n",
              "              (dropout): Dropout(p=0.1, inplace=False)\n",
              "            )\n",
              "            (output): ErnieSelfOutput(\n",
              "              (dense): Linear(in_features=768, out_features=768, bias=True)\n",
              "              (LayerNorm): LayerNorm((768,), eps=1e-05, elementwise_affine=True)\n",
              "              (dropout): Dropout(p=0.1, inplace=False)\n",
              "            )\n",
              "          )\n",
              "          (intermediate): ErnieIntermediate(\n",
              "            (dense): Linear(in_features=768, out_features=3072, bias=True)\n",
              "            (intermediate_act_fn): GELUActivation()\n",
              "          )\n",
              "          (output): ErnieOutput(\n",
              "            (dense): Linear(in_features=3072, out_features=768, bias=True)\n",
              "            (LayerNorm): LayerNorm((768,), eps=1e-05, elementwise_affine=True)\n",
              "            (dropout): Dropout(p=0.1, inplace=False)\n",
              "          )\n",
              "        )\n",
              "        (6): ErnieLayer(\n",
              "          (attention): ErnieAttention(\n",
              "            (self): ErnieSelfAttention(\n",
              "              (query): Linear(in_features=768, out_features=768, bias=True)\n",
              "              (key): Linear(in_features=768, out_features=768, bias=True)\n",
              "              (value): Linear(in_features=768, out_features=768, bias=True)\n",
              "              (dropout): Dropout(p=0.1, inplace=False)\n",
              "            )\n",
              "            (output): ErnieSelfOutput(\n",
              "              (dense): Linear(in_features=768, out_features=768, bias=True)\n",
              "              (LayerNorm): LayerNorm((768,), eps=1e-05, elementwise_affine=True)\n",
              "              (dropout): Dropout(p=0.1, inplace=False)\n",
              "            )\n",
              "          )\n",
              "          (intermediate): ErnieIntermediate(\n",
              "            (dense): Linear(in_features=768, out_features=3072, bias=True)\n",
              "            (intermediate_act_fn): GELUActivation()\n",
              "          )\n",
              "          (output): ErnieOutput(\n",
              "            (dense): Linear(in_features=3072, out_features=768, bias=True)\n",
              "            (LayerNorm): LayerNorm((768,), eps=1e-05, elementwise_affine=True)\n",
              "            (dropout): Dropout(p=0.1, inplace=False)\n",
              "          )\n",
              "        )\n",
              "        (7): ErnieLayer(\n",
              "          (attention): ErnieAttention(\n",
              "            (self): ErnieSelfAttention(\n",
              "              (query): Linear(in_features=768, out_features=768, bias=True)\n",
              "              (key): Linear(in_features=768, out_features=768, bias=True)\n",
              "              (value): Linear(in_features=768, out_features=768, bias=True)\n",
              "              (dropout): Dropout(p=0.1, inplace=False)\n",
              "            )\n",
              "            (output): ErnieSelfOutput(\n",
              "              (dense): Linear(in_features=768, out_features=768, bias=True)\n",
              "              (LayerNorm): LayerNorm((768,), eps=1e-05, elementwise_affine=True)\n",
              "              (dropout): Dropout(p=0.1, inplace=False)\n",
              "            )\n",
              "          )\n",
              "          (intermediate): ErnieIntermediate(\n",
              "            (dense): Linear(in_features=768, out_features=3072, bias=True)\n",
              "            (intermediate_act_fn): GELUActivation()\n",
              "          )\n",
              "          (output): ErnieOutput(\n",
              "            (dense): Linear(in_features=3072, out_features=768, bias=True)\n",
              "            (LayerNorm): LayerNorm((768,), eps=1e-05, elementwise_affine=True)\n",
              "            (dropout): Dropout(p=0.1, inplace=False)\n",
              "          )\n",
              "        )\n",
              "        (8): ErnieLayer(\n",
              "          (attention): ErnieAttention(\n",
              "            (self): ErnieSelfAttention(\n",
              "              (query): Linear(in_features=768, out_features=768, bias=True)\n",
              "              (key): Linear(in_features=768, out_features=768, bias=True)\n",
              "              (value): Linear(in_features=768, out_features=768, bias=True)\n",
              "              (dropout): Dropout(p=0.1, inplace=False)\n",
              "            )\n",
              "            (output): ErnieSelfOutput(\n",
              "              (dense): Linear(in_features=768, out_features=768, bias=True)\n",
              "              (LayerNorm): LayerNorm((768,), eps=1e-05, elementwise_affine=True)\n",
              "              (dropout): Dropout(p=0.1, inplace=False)\n",
              "            )\n",
              "          )\n",
              "          (intermediate): ErnieIntermediate(\n",
              "            (dense): Linear(in_features=768, out_features=3072, bias=True)\n",
              "            (intermediate_act_fn): GELUActivation()\n",
              "          )\n",
              "          (output): ErnieOutput(\n",
              "            (dense): Linear(in_features=3072, out_features=768, bias=True)\n",
              "            (LayerNorm): LayerNorm((768,), eps=1e-05, elementwise_affine=True)\n",
              "            (dropout): Dropout(p=0.1, inplace=False)\n",
              "          )\n",
              "        )\n",
              "        (9): ErnieLayer(\n",
              "          (attention): ErnieAttention(\n",
              "            (self): ErnieSelfAttention(\n",
              "              (query): Linear(in_features=768, out_features=768, bias=True)\n",
              "              (key): Linear(in_features=768, out_features=768, bias=True)\n",
              "              (value): Linear(in_features=768, out_features=768, bias=True)\n",
              "              (dropout): Dropout(p=0.1, inplace=False)\n",
              "            )\n",
              "            (output): ErnieSelfOutput(\n",
              "              (dense): Linear(in_features=768, out_features=768, bias=True)\n",
              "              (LayerNorm): LayerNorm((768,), eps=1e-05, elementwise_affine=True)\n",
              "              (dropout): Dropout(p=0.1, inplace=False)\n",
              "            )\n",
              "          )\n",
              "          (intermediate): ErnieIntermediate(\n",
              "            (dense): Linear(in_features=768, out_features=3072, bias=True)\n",
              "            (intermediate_act_fn): GELUActivation()\n",
              "          )\n",
              "          (output): ErnieOutput(\n",
              "            (dense): Linear(in_features=3072, out_features=768, bias=True)\n",
              "            (LayerNorm): LayerNorm((768,), eps=1e-05, elementwise_affine=True)\n",
              "            (dropout): Dropout(p=0.1, inplace=False)\n",
              "          )\n",
              "        )\n",
              "        (10): ErnieLayer(\n",
              "          (attention): ErnieAttention(\n",
              "            (self): ErnieSelfAttention(\n",
              "              (query): Linear(in_features=768, out_features=768, bias=True)\n",
              "              (key): Linear(in_features=768, out_features=768, bias=True)\n",
              "              (value): Linear(in_features=768, out_features=768, bias=True)\n",
              "              (dropout): Dropout(p=0.1, inplace=False)\n",
              "            )\n",
              "            (output): ErnieSelfOutput(\n",
              "              (dense): Linear(in_features=768, out_features=768, bias=True)\n",
              "              (LayerNorm): LayerNorm((768,), eps=1e-05, elementwise_affine=True)\n",
              "              (dropout): Dropout(p=0.1, inplace=False)\n",
              "            )\n",
              "          )\n",
              "          (intermediate): ErnieIntermediate(\n",
              "            (dense): Linear(in_features=768, out_features=3072, bias=True)\n",
              "            (intermediate_act_fn): GELUActivation()\n",
              "          )\n",
              "          (output): ErnieOutput(\n",
              "            (dense): Linear(in_features=3072, out_features=768, bias=True)\n",
              "            (LayerNorm): LayerNorm((768,), eps=1e-05, elementwise_affine=True)\n",
              "            (dropout): Dropout(p=0.1, inplace=False)\n",
              "          )\n",
              "        )\n",
              "        (11): ErnieLayer(\n",
              "          (attention): ErnieAttention(\n",
              "            (self): ErnieSelfAttention(\n",
              "              (query): Linear(in_features=768, out_features=768, bias=True)\n",
              "              (key): Linear(in_features=768, out_features=768, bias=True)\n",
              "              (value): Linear(in_features=768, out_features=768, bias=True)\n",
              "              (dropout): Dropout(p=0.1, inplace=False)\n",
              "            )\n",
              "            (output): ErnieSelfOutput(\n",
              "              (dense): Linear(in_features=768, out_features=768, bias=True)\n",
              "              (LayerNorm): LayerNorm((768,), eps=1e-05, elementwise_affine=True)\n",
              "              (dropout): Dropout(p=0.1, inplace=False)\n",
              "            )\n",
              "          )\n",
              "          (intermediate): ErnieIntermediate(\n",
              "            (dense): Linear(in_features=768, out_features=3072, bias=True)\n",
              "            (intermediate_act_fn): GELUActivation()\n",
              "          )\n",
              "          (output): ErnieOutput(\n",
              "            (dense): Linear(in_features=3072, out_features=768, bias=True)\n",
              "            (LayerNorm): LayerNorm((768,), eps=1e-05, elementwise_affine=True)\n",
              "            (dropout): Dropout(p=0.1, inplace=False)\n",
              "          )\n",
              "        )\n",
              "      )\n",
              "    )\n",
              "    (pooler): ErniePooler(\n",
              "      (dense): Linear(in_features=768, out_features=768, bias=True)\n",
              "      (activation): Tanh()\n",
              "    )\n",
              "  )\n",
              "  (dropout): Dropout(p=0.1, inplace=False)\n",
              "  (classifier): Linear(in_features=768, out_features=96, bias=True)\n",
              ")"
            ]
          },
          "metadata": {},
          "execution_count": 38
        }
      ],
      "source": [
        "# Отправим на видеокарту, заодно посмотрим архитектуру нашего Берта\n",
        "model.cuda()"
      ]
    },
    {
      "cell_type": "code",
      "execution_count": 39,
      "metadata": {
        "execution": {
          "iopub.execute_input": "2023-02-09T02:28:59.727600Z",
          "iopub.status.busy": "2023-02-09T02:28:59.727296Z",
          "iopub.status.idle": "2023-02-09T02:28:59.731792Z",
          "shell.execute_reply": "2023-02-09T02:28:59.731153Z",
          "shell.execute_reply.started": "2023-02-09T02:28:59.727566Z"
        },
        "id": "HslZLAcVwqlk",
        "tags": []
      },
      "outputs": [],
      "source": [
        "# Гипепараметры модели. Их можно изменять\n",
        "param_optimizer = list(model.named_parameters())"
      ]
    },
    {
      "cell_type": "code",
      "execution_count": 40,
      "metadata": {
        "colab": {
          "base_uri": "https://localhost:8080/"
        },
        "execution": {
          "iopub.execute_input": "2023-02-09T02:28:59.733185Z",
          "iopub.status.busy": "2023-02-09T02:28:59.732970Z",
          "iopub.status.idle": "2023-02-09T02:28:59.742163Z",
          "shell.execute_reply": "2023-02-09T02:28:59.740603Z",
          "shell.execute_reply.started": "2023-02-09T02:28:59.733165Z"
        },
        "id": "Hk-She3FwuOB",
        "outputId": "0bca123e-7636-4534-fa6f-fff87b9edfd5",
        "tags": []
      },
      "outputs": [
        {
          "output_type": "stream",
          "name": "stderr",
          "text": [
            "/usr/local/lib/python3.8/dist-packages/transformers/optimization.py:306: FutureWarning: This implementation of AdamW is deprecated and will be removed in a future version. Use the PyTorch implementation torch.optim.AdamW instead, or set `no_deprecation_warning=True` to disable this warning\n",
            "  warnings.warn(\n"
          ]
        }
      ],
      "source": [
        "# Можно посмотреть или изменить. Но нам этого не нужно, инициализируем лишь функцию\n",
        "# оптимизации. В качестве оптимизатора будем использовать оптимизированный \n",
        "# Adam (adaptive moment estimation)\n",
        "# for name, _ in param_optimizer:\n",
        "#     print(name)\n",
        "\n",
        "no_decay = ['bias', 'gamma', 'beta']\n",
        "optimizer_grouped_parameters = [\n",
        "    {'params': [p for n, p in param_optimizer if not any(nd in n for nd in no_decay)],\n",
        "     'weight_decay_rate': 0.01},\n",
        "    {'params': [p for n, p in param_optimizer if any(nd in n for nd in no_decay)],\n",
        "     'weight_decay_rate': 0.0}\n",
        "]\n",
        "\n",
        "optimizer = AdamW(optimizer_grouped_parameters, lr=2e-5)"
      ]
    },
    {
      "cell_type": "code",
      "execution_count": 41,
      "metadata": {
        "colab": {
          "base_uri": "https://localhost:8080/"
        },
        "execution": {
          "iopub.execute_input": "2023-02-09T02:28:59.743437Z",
          "iopub.status.busy": "2023-02-09T02:28:59.743133Z",
          "iopub.status.idle": "2023-02-09T02:29:00.185703Z",
          "shell.execute_reply": "2023-02-09T02:29:00.185167Z",
          "shell.execute_reply.started": "2023-02-09T02:28:59.743408Z"
        },
        "id": "yGQc6JBCwxLy",
        "outputId": "5622cf93-e3c3-410a-dfb1-53c384fc2436",
        "tags": []
      },
      "outputs": [
        {
          "output_type": "stream",
          "name": "stdout",
          "text": [
            "********************\n",
            "Лосс на обучении: 1.9156002038129871\n",
            "CPU times: user 34min 1s, sys: 15min 54s, total: 49min 55s\n",
            "Wall time: 50min 27s\n"
          ]
        }
      ],
      "source": [
        "%%time\n",
        "train_loss_set = []\n",
        "train_loss = 0\n",
        "\n",
        "# Переводим модель в training mode\n",
        "model.train()\n",
        "\n",
        "for step, batch in enumerate(train_dataloader):\n",
        "    # Переводим данные на видеокарту\n",
        "    batch = tuple(t.to(device) for t in batch)\n",
        "    b_input_ids, b_input_mask, b_labels = batch\n",
        "    \n",
        "    # Обнуляем градиенты\n",
        "    optimizer.zero_grad()\n",
        "    \n",
        "    # Прогоняем данные по слоям нейросети\n",
        "    loss = model(b_input_ids, token_type_ids=None, attention_mask=b_input_mask, labels=b_labels)\n",
        "\n",
        "    train_loss_set.append(loss[0].item())  \n",
        "    \n",
        "    # Обратный прогон\n",
        "    loss[0].backward()\n",
        "    \n",
        "    # Шаг\n",
        "    optimizer.step()\n",
        "\n",
        "    # Обновляем loss\n",
        "    train_loss += loss[0].item()\n",
        "    #print(f'Loss: {loss[0].item()}')\n",
        "print('*'*20)\n",
        "print(f'Лосс на обучении: {train_loss / len(train_dataloader)}')"
      ]
    },
    {
      "cell_type": "code",
      "execution_count": 42,
      "metadata": {
        "colab": {
          "base_uri": "https://localhost:8080/",
          "height": 295
        },
        "execution": {
          "iopub.execute_input": "2023-02-09T02:29:00.186816Z",
          "iopub.status.busy": "2023-02-09T02:29:00.186569Z",
          "iopub.status.idle": "2023-02-09T02:29:00.283059Z",
          "shell.execute_reply": "2023-02-09T02:29:00.282406Z",
          "shell.execute_reply.started": "2023-02-09T02:29:00.186794Z"
        },
        "id": "Qa64Tff2w3DP",
        "outputId": "520c2594-e42b-43ef-9148-c20eea19ca80",
        "tags": []
      },
      "outputs": [
        {
          "output_type": "display_data",
          "data": {
            "text/plain": [
              "<Figure size 432x288 with 1 Axes>"
            ],
            "image/png": "[encoded data removed]"
          },
          "metadata": {
            "needs_background": "light"
          }
        }
      ],
      "source": [
        "# посмотрим, как обучалась наша модель\n",
        "plt.plot(train_loss_set)\n",
        "plt.title(\"Loss на обучении\")\n",
        "plt.xlabel(\"Батчи\")\n",
        "plt.ylabel(\"Потери\")\n",
        "plt.show()"
      ]
    },
    {
      "cell_type": "code",
      "execution_count": 43,
      "metadata": {
        "colab": {
          "base_uri": "https://localhost:8080/"
        },
        "execution": {
          "iopub.execute_input": "2023-02-09T02:29:00.284540Z",
          "iopub.status.busy": "2023-02-09T02:29:00.284081Z",
          "iopub.status.idle": "2023-02-09T02:29:01.512026Z",
          "shell.execute_reply": "2023-02-09T02:29:01.511086Z",
          "shell.execute_reply.started": "2023-02-09T02:29:00.284496Z"
        },
        "id": "7cQUfdsDw6OC",
        "outputId": "9b4df050-c233-4dba-8229-1470dc3451b7",
        "tags": []
      },
      "outputs": [
        {
          "output_type": "stream",
          "name": "stdout",
          "text": [
            "CPU times: user 2 µs, sys: 1e+03 ns, total: 3 µs\n",
            "Wall time: 6.91 µs\n"
          ]
        }
      ],
      "source": [
        "%time\n",
        "\n",
        "# Переводим модель в evaluation mode\n",
        "model.eval()\n",
        "\n",
        "valid_preds, valid_labels = [], []\n",
        "\n",
        "for batch in validation_dataloader:   \n",
        "    # добавляем батч для вычисления на GPU\n",
        "    batch = tuple(t.to(device) for t in batch)\n",
        "    \n",
        "    b_input_ids, b_input_mask, b_labels = batch\n",
        "\n",
        "    \n",
        "    \n",
        "    # Вычислять градиенты не нужно\n",
        "    with torch.no_grad():\n",
        "        logits = model(b_input_ids, token_type_ids=None, attention_mask=b_input_mask)\n",
        "\n",
        "    # Перемещаем логиты и метки на CPU\n",
        "    logits = logits[0].detach().cpu().numpy()\n",
        "    label_ids = b_labels.to('cpu').numpy()\n",
        "    \n",
        "    batch_preds = np.argmax(logits, axis=1)\n",
        "    batch_labels = label_ids #np.concatenate(label_ids)     \n",
        "    valid_preds.extend(batch_preds)\n",
        "    valid_labels.extend(batch_labels)"
      ]
    },
    {
      "cell_type": "markdown",
      "metadata": {
        "id": "HbtrSGBvyGko"
      },
      "source": [
        "Сохранение и загрузка дообученной модели"
      ]
    },
    {
      "cell_type": "code",
      "execution_count": 52,
      "metadata": {
        "colab": {
          "base_uri": "https://localhost:8080/"
        },
        "id": "FY7HzhSsF1q5",
        "outputId": "a57867ba-aed4-47ef-ccaf-45fdbe1991cc"
      },
      "outputs": [
        {
          "output_type": "stream",
          "name": "stdout",
          "text": [
            "Mounted at /content/Model_09.02.23\n"
          ]
        }
      ],
      "source": [
        "from google.colab import drive\n",
        "drive.mount('/content/Model_09.02.23')"
      ]
    },
    {
      "cell_type": "code",
      "execution_count": 55,
      "metadata": {
        "collapsed": true,
        "execution": {
          "iopub.execute_input": "2023-02-05T14:39:45.102439Z",
          "iopub.status.busy": "2023-02-05T14:39:45.102289Z",
          "iopub.status.idle": "2023-02-05T14:39:45.687027Z",
          "shell.execute_reply": "2023-02-05T14:39:45.686273Z",
          "shell.execute_reply.started": "2023-02-05T14:39:45.102420Z"
        },
        "jupyter": {
          "outputs_hidden": true
        },
        "tags": [],
        "colab": {
          "base_uri": "https://localhost:8080/"
        },
        "id": "qab-SpP1F1q4",
        "outputId": "1e679c20-bf53-4db1-dec3-28a688f80364"
      },
      "outputs": [
        {
          "output_type": "execute_result",
          "data": {
            "text/plain": [
              "('/content/Model_09.02.23/MyDrive/Model 09.02/tokenizer_config.json',\n",
              " '/content/Model_09.02.23/MyDrive/Model 09.02/special_tokens_map.json',\n",
              " '/content/Model_09.02.23/MyDrive/Model 09.02/vocab.txt',\n",
              " '/content/Model_09.02.23/MyDrive/Model 09.02/added_tokens.json',\n",
              " '/content/Model_09.02.23/MyDrive/Model 09.02/tokenizer.json')"
            ]
          },
          "metadata": {},
          "execution_count": 55
        }
      ],
      "source": [
        "model.save_pretrained('/content/Model_09.02.23/MyDrive/Model 09.02')\n",
        "tokenizer.save_pretrained('/content/Model_09.02.23/MyDrive/Model 09.02')"
      ]
    },
    {
      "cell_type": "code",
      "execution_count": 56,
      "metadata": {
        "execution": {
          "iopub.status.busy": "2023-02-05T14:33:54.253134Z",
          "iopub.status.idle": "2023-02-05T14:33:54.253360Z",
          "shell.execute_reply": "2023-02-05T14:33:54.253255Z",
          "shell.execute_reply.started": "2023-02-05T14:33:54.253242Z"
        },
        "id": "YJWB4yDBF1q4"
      },
      "outputs": [],
      "source": [
        "# config\n",
        "config = AutoConfig.from_pretrained('/content/Model_09.02.23/MyDrive/Model 09.02')\n",
        "# tokenizer\n",
        "tokenizer = AutoTokenizer.from_pretrained('/content/Model_09.02.23/MyDrive/Model 09.02', pad_to_max_length=True)\n",
        "# model\n",
        "model = AutoModelForSequenceClassification.from_pretrained('/content/Model_09.02.23/MyDrive/Model 09.02', config=config)"
      ]
    },
    {
      "cell_type": "code",
      "execution_count": null,
      "metadata": {
        "collapsed": true,
        "execution": {
          "iopub.execute_input": "2023-02-05T14:40:06.963581Z",
          "iopub.status.busy": "2023-02-05T14:40:06.963275Z",
          "iopub.status.idle": "2023-02-05T14:40:06.970228Z",
          "shell.execute_reply": "2023-02-05T14:40:06.969694Z",
          "shell.execute_reply.started": "2023-02-05T14:40:06.963556Z"
        },
        "jupyter": {
          "outputs_hidden": true
        },
        "tags": [],
        "id": "8Kdtb4JEF1q4"
      },
      "outputs": [],
      "source": [
        "model"
      ]
    },
    {
      "cell_type": "code",
      "execution_count": 49,
      "metadata": {
        "execution": {
          "iopub.execute_input": "2023-02-08T12:02:05.502111Z",
          "iopub.status.busy": "2023-02-08T12:02:05.501786Z",
          "iopub.status.idle": "2023-02-08T12:02:06.254252Z",
          "shell.execute_reply": "2023-02-08T12:02:06.253636Z",
          "shell.execute_reply.started": "2023-02-08T12:02:05.502085Z"
        },
        "tags": [],
        "colab": {
          "base_uri": "https://localhost:8080/"
        },
        "id": "4g9EutO4F1q4",
        "outputId": "ac70f0b8-f01a-41a2-9117-fcc7be26b0a9"
      },
      "outputs": [
        {
          "output_type": "stream",
          "name": "stdout",
          "text": [
            "Наименование товара: Итальянский остров Стромболи стал необитаемым\n",
            "Предсказанная категория: Все\n",
            "Истинная категория: Все\n",
            "\n",
            "Наименование товара: Чипы флэш-памяти уменьшили второй раз за неделю\n",
            "Предсказанная категория: Все\n",
            "Истинная категория: Все\n",
            "\n",
            "Наименование товара: Цукерберг не позволил девелоперу заработать на своем имени\n",
            "Предсказанная категория: Все\n",
            "Истинная категория: Все\n",
            "\n",
            "Наименование товара: Песков объяснил приостановку соглашения с США об утилизации плутония\n",
            "Предсказанная категория: Все\n",
            "Истинная категория: Политика\n",
            "\n",
            "Наименование товара: Британские школьники отправили Черчилля на Луну\n",
            "Предсказанная категория: Все\n",
            "Истинная категория: Все\n",
            "\n",
            "Наименование товара: Комиссия ПАСЕ подтвердила полномочия российской делегации\n",
            "Предсказанная категория: Все\n",
            "Истинная категория: Все\n",
            "\n",
            "Наименование товара: Турецкий сухогруз снес опоры строящегося моста через Керченский пролив\n",
            "Предсказанная категория: Все\n",
            "Истинная категория: Происшествия\n",
            "\n",
            "Наименование товара: СМИ узнали о неготовности аэропортов Египта к восстановлению авиасообщения с РФ\n",
            "Предсказанная категория: Все\n",
            "Истинная категория: Мир\n",
            "\n",
            "Наименование товара: Российский шельф освоит гигантская госкомпания\n",
            "Предсказанная категория: Все\n",
            "Истинная категория: Все\n",
            "\n",
            "Наименование товара: Оксана Федорова вышла замуж за немца\n",
            "Предсказанная категория: Все\n",
            "Истинная категория: Все\n",
            "\n",
            "CPU times: user 1.26 s, sys: 7.38 ms, total: 1.27 s\n",
            "Wall time: 2.29 s\n"
          ]
        }
      ],
      "source": [
        "%%time\n",
        "\n",
        "model.to('cpu')\n",
        "model.eval()\n",
        "\n",
        "# Выберем несколько случайных названий товаров\n",
        "skus = [randint(1, len(df)) for p in range(0, 10)]\n",
        "for sku in skus:\n",
        "    ground_truth = df.iloc[sku]['category_1']\n",
        "    sku_title = df.iloc[sku]['name']\n",
        "    tokens = tokenizer.encode(sku_title, add_special_tokens=True)\n",
        "    tokens_tensor = torch.tensor([tokens])\n",
        "    with torch.no_grad():\n",
        "        logits = model(tokens_tensor)\n",
        "    # Логиты по каждой категории\n",
        "    logits = logits[0].detach().numpy()\n",
        "    # Выбираем наиболее вероятную категорию товара\n",
        "    predicted_class = np.argmax(logits, axis=1)\n",
        "\n",
        "    print(f'Наименование товара: {sku_title}')\n",
        "    print(f'Предсказанная категория: {category_index_reverce[predicted_class[0]]}')\n",
        "    print(f'Истинная категория: {ground_truth}')\n",
        "    print()"
      ]
    },
    {
      "cell_type": "code",
      "execution_count": null,
      "metadata": {
        "id": "aiZjXaCPF1q5"
      },
      "outputs": [],
      "source": []
    },
    {
      "cell_type": "code",
      "execution_count": null,
      "metadata": {
        "id": "ta0Ymh2JF1q5"
      },
      "outputs": [],
      "source": []
    },
    {
      "cell_type": "code",
      "execution_count": null,
      "metadata": {
        "id": "MF7eEAnyF1q5"
      },
      "outputs": [],
      "source": []
    }
  ],
  "metadata": {
    "accelerator": "GPU",
    "colab": {
      "provenance": [],
      "include_colab_link": true
    },
    "kernelspec": {
      "display_name": "saturn (Python 3)",
      "language": "python",
      "name": "python3"
    },
    "language_info": {
      "codemirror_mode": {
        "name": "ipython",
        "version": 3
      },
      "file_extension": ".py",
      "mimetype": "text/x-python",
      "name": "python",
      "nbconvert_exporter": "python",
      "pygments_lexer": "ipython3",
      "version": "3.9.12"
    },
    "widgets": {
      "application/vnd.jupyter.widget-state+json": {
        "b9d4765072bc4b049dba1291a72ddbc9": {
          "model_module": "@jupyter-widgets/controls",
          "model_name": "HBoxModel",
          "model_module_version": "1.5.0",
          "state": {
            "_dom_classes": [],
            "_model_module": "@jupyter-widgets/controls",
            "_model_module_version": "1.5.0",
            "_model_name": "HBoxModel",
            "_view_count": null,
            "_view_module": "@jupyter-widgets/controls",
            "_view_module_version": "1.5.0",
            "_view_name": "HBoxView",
            "box_style": "",
            "children": [
              "IPY_MODEL_035b6bb99d264ce19f91dcd105bfc768",
              "IPY_MODEL_b994289a5bbe4226a7dfc7d2a090ac4e",
              "IPY_MODEL_fe1eae46ec40499f92f3bb4a938b9cb4"
            ],
            "layout": "IPY_MODEL_d6187372e7354405813faee689c43f82"
          }
        },
        "035b6bb99d264ce19f91dcd105bfc768": {
          "model_module": "@jupyter-widgets/controls",
          "model_name": "HTMLModel",
          "model_module_version": "1.5.0",
          "state": {
            "_dom_classes": [],
            "_model_module": "@jupyter-widgets/controls",
            "_model_module_version": "1.5.0",
            "_model_name": "HTMLModel",
            "_view_count": null,
            "_view_module": "@jupyter-widgets/controls",
            "_view_module_version": "1.5.0",
            "_view_name": "HTMLView",
            "description": "",
            "description_tooltip": null,
            "layout": "IPY_MODEL_7af7220e8f9247f99a10e15cc6f14cdd",
            "placeholder": "​",
            "style": "IPY_MODEL_d4670c05eae84c97a94f254c11fe76e8",
            "value": "Downloading (…)solve/main/vocab.txt: 100%"
          }
        },
        "b994289a5bbe4226a7dfc7d2a090ac4e": {
          "model_module": "@jupyter-widgets/controls",
          "model_name": "FloatProgressModel",
          "model_module_version": "1.5.0",
          "state": {
            "_dom_classes": [],
            "_model_module": "@jupyter-widgets/controls",
            "_model_module_version": "1.5.0",
            "_model_name": "FloatProgressModel",
            "_view_count": null,
            "_view_module": "@jupyter-widgets/controls",
            "_view_module_version": "1.5.0",
            "_view_name": "ProgressView",
            "bar_style": "success",
            "description": "",
            "description_tooltip": null,
            "layout": "IPY_MODEL_713027a3547e428aa92b2b46ce9392d4",
            "max": 186807,
            "min": 0,
            "orientation": "horizontal",
            "style": "IPY_MODEL_3b20a9b098b7463298d19f6c754bf584",
            "value": 186807
          }
        },
        "fe1eae46ec40499f92f3bb4a938b9cb4": {
          "model_module": "@jupyter-widgets/controls",
          "model_name": "HTMLModel",
          "model_module_version": "1.5.0",
          "state": {
            "_dom_classes": [],
            "_model_module": "@jupyter-widgets/controls",
            "_model_module_version": "1.5.0",
            "_model_name": "HTMLModel",
            "_view_count": null,
            "_view_module": "@jupyter-widgets/controls",
            "_view_module_version": "1.5.0",
            "_view_name": "HTMLView",
            "description": "",
            "description_tooltip": null,
            "layout": "IPY_MODEL_675e6e09ac644ed584e98f6c0d24c6aa",
            "placeholder": "​",
            "style": "IPY_MODEL_fa04b203d52a4f098518e7a41c5a3e7d",
            "value": " 187k/187k [00:00&lt;00:00, 1.61MB/s]"
          }
        },
        "d6187372e7354405813faee689c43f82": {
          "model_module": "@jupyter-widgets/base",
          "model_name": "LayoutModel",
          "model_module_version": "1.2.0",
          "state": {
            "_model_module": "@jupyter-widgets/base",
            "_model_module_version": "1.2.0",
            "_model_name": "LayoutModel",
            "_view_count": null,
            "_view_module": "@jupyter-widgets/base",
            "_view_module_version": "1.2.0",
            "_view_name": "LayoutView",
            "align_content": null,
            "align_items": null,
            "align_self": null,
            "border": null,
            "bottom": null,
            "display": null,
            "flex": null,
            "flex_flow": null,
            "grid_area": null,
            "grid_auto_columns": null,
            "grid_auto_flow": null,
            "grid_auto_rows": null,
            "grid_column": null,
            "grid_gap": null,
            "grid_row": null,
            "grid_template_areas": null,
            "grid_template_columns": null,
            "grid_template_rows": null,
            "height": null,
            "justify_content": null,
            "justify_items": null,
            "left": null,
            "margin": null,
            "max_height": null,
            "max_width": null,
            "min_height": null,
            "min_width": null,
            "object_fit": null,
            "object_position": null,
            "order": null,
            "overflow": null,
            "overflow_x": null,
            "overflow_y": null,
            "padding": null,
            "right": null,
            "top": null,
            "visibility": null,
            "width": null
          }
        },
        "7af7220e8f9247f99a10e15cc6f14cdd": {
          "model_module": "@jupyter-widgets/base",
          "model_name": "LayoutModel",
          "model_module_version": "1.2.0",
          "state": {
            "_model_module": "@jupyter-widgets/base",
            "_model_module_version": "1.2.0",
            "_model_name": "LayoutModel",
            "_view_count": null,
            "_view_module": "@jupyter-widgets/base",
            "_view_module_version": "1.2.0",
            "_view_name": "LayoutView",
            "align_content": null,
            "align_items": null,
            "align_self": null,
            "border": null,
            "bottom": null,
            "display": null,
            "flex": null,
            "flex_flow": null,
            "grid_area": null,
            "grid_auto_columns": null,
            "grid_auto_flow": null,
            "grid_auto_rows": null,
            "grid_column": null,
            "grid_gap": null,
            "grid_row": null,
            "grid_template_areas": null,
            "grid_template_columns": null,
            "grid_template_rows": null,
            "height": null,
            "justify_content": null,
            "justify_items": null,
            "left": null,
            "margin": null,
            "max_height": null,
            "max_width": null,
            "min_height": null,
            "min_width": null,
            "object_fit": null,
            "object_position": null,
            "order": null,
            "overflow": null,
            "overflow_x": null,
            "overflow_y": null,
            "padding": null,
            "right": null,
            "top": null,
            "visibility": null,
            "width": null
          }
        },
        "d4670c05eae84c97a94f254c11fe76e8": {
          "model_module": "@jupyter-widgets/controls",
          "model_name": "DescriptionStyleModel",
          "model_module_version": "1.5.0",
          "state": {
            "_model_module": "@jupyter-widgets/controls",
            "_model_module_version": "1.5.0",
            "_model_name": "DescriptionStyleModel",
            "_view_count": null,
            "_view_module": "@jupyter-widgets/base",
            "_view_module_version": "1.2.0",
            "_view_name": "StyleView",
            "description_width": ""
          }
        },
        "713027a3547e428aa92b2b46ce9392d4": {
          "model_module": "@jupyter-widgets/base",
          "model_name": "LayoutModel",
          "model_module_version": "1.2.0",
          "state": {
            "_model_module": "@jupyter-widgets/base",
            "_model_module_version": "1.2.0",
            "_model_name": "LayoutModel",
            "_view_count": null,
            "_view_module": "@jupyter-widgets/base",
            "_view_module_version": "1.2.0",
            "_view_name": "LayoutView",
            "align_content": null,
            "align_items": null,
            "align_self": null,
            "border": null,
            "bottom": null,
            "display": null,
            "flex": null,
            "flex_flow": null,
            "grid_area": null,
            "grid_auto_columns": null,
            "grid_auto_flow": null,
            "grid_auto_rows": null,
            "grid_column": null,
            "grid_gap": null,
            "grid_row": null,
            "grid_template_areas": null,
            "grid_template_columns": null,
            "grid_template_rows": null,
            "height": null,
            "justify_content": null,
            "justify_items": null,
            "left": null,
            "margin": null,
            "max_height": null,
            "max_width": null,
            "min_height": null,
            "min_width": null,
            "object_fit": null,
            "object_position": null,
            "order": null,
            "overflow": null,
            "overflow_x": null,
            "overflow_y": null,
            "padding": null,
            "right": null,
            "top": null,
            "visibility": null,
            "width": null
          }
        },
        "3b20a9b098b7463298d19f6c754bf584": {
          "model_module": "@jupyter-widgets/controls",
          "model_name": "ProgressStyleModel",
          "model_module_version": "1.5.0",
          "state": {
            "_model_module": "@jupyter-widgets/controls",
            "_model_module_version": "1.5.0",
            "_model_name": "ProgressStyleModel",
            "_view_count": null,
            "_view_module": "@jupyter-widgets/base",
            "_view_module_version": "1.2.0",
            "_view_name": "StyleView",
            "bar_color": null,
            "description_width": ""
          }
        },
        "675e6e09ac644ed584e98f6c0d24c6aa": {
          "model_module": "@jupyter-widgets/base",
          "model_name": "LayoutModel",
          "model_module_version": "1.2.0",
          "state": {
            "_model_module": "@jupyter-widgets/base",
            "_model_module_version": "1.2.0",
            "_model_name": "LayoutModel",
            "_view_count": null,
            "_view_module": "@jupyter-widgets/base",
            "_view_module_version": "1.2.0",
            "_view_name": "LayoutView",
            "align_content": null,
            "align_items": null,
            "align_self": null,
            "border": null,
            "bottom": null,
            "display": null,
            "flex": null,
            "flex_flow": null,
            "grid_area": null,
            "grid_auto_columns": null,
            "grid_auto_flow": null,
            "grid_auto_rows": null,
            "grid_column": null,
            "grid_gap": null,
            "grid_row": null,
            "grid_template_areas": null,
            "grid_template_columns": null,
            "grid_template_rows": null,
            "height": null,
            "justify_content": null,
            "justify_items": null,
            "left": null,
            "margin": null,
            "max_height": null,
            "max_width": null,
            "min_height": null,
            "min_width": null,
            "object_fit": null,
            "object_position": null,
            "order": null,
            "overflow": null,
            "overflow_x": null,
            "overflow_y": null,
            "padding": null,
            "right": null,
            "top": null,
            "visibility": null,
            "width": null
          }
        },
        "fa04b203d52a4f098518e7a41c5a3e7d": {
          "model_module": "@jupyter-widgets/controls",
          "model_name": "DescriptionStyleModel",
          "model_module_version": "1.5.0",
          "state": {
            "_model_module": "@jupyter-widgets/controls",
            "_model_module_version": "1.5.0",
            "_model_name": "DescriptionStyleModel",
            "_view_count": null,
            "_view_module": "@jupyter-widgets/base",
            "_view_module_version": "1.2.0",
            "_view_name": "StyleView",
            "description_width": ""
          }
        },
        "2cf14d265dc541679637c3f43a42c2dd": {
          "model_module": "@jupyter-widgets/controls",
          "model_name": "HBoxModel",
          "model_module_version": "1.5.0",
          "state": {
            "_dom_classes": [],
            "_model_module": "@jupyter-widgets/controls",
            "_model_module_version": "1.5.0",
            "_model_name": "HBoxModel",
            "_view_count": null,
            "_view_module": "@jupyter-widgets/controls",
            "_view_module_version": "1.5.0",
            "_view_name": "HBoxView",
            "box_style": "",
            "children": [
              "IPY_MODEL_4e28db40bdd04aac8ab32faa3f3518a8",
              "IPY_MODEL_111dd9353f184ebcaf398ecf122a9b3d",
              "IPY_MODEL_3c11cc2a5d804b6da405f137ca91760d"
            ],
            "layout": "IPY_MODEL_970cebfb95b543d480fa5c074274da48"
          }
        },
        "4e28db40bdd04aac8ab32faa3f3518a8": {
          "model_module": "@jupyter-widgets/controls",
          "model_name": "HTMLModel",
          "model_module_version": "1.5.0",
          "state": {
            "_dom_classes": [],
            "_model_module": "@jupyter-widgets/controls",
            "_model_module_version": "1.5.0",
            "_model_name": "HTMLModel",
            "_view_count": null,
            "_view_module": "@jupyter-widgets/controls",
            "_view_module_version": "1.5.0",
            "_view_name": "HTMLView",
            "description": "",
            "description_tooltip": null,
            "layout": "IPY_MODEL_220b88224f1d404eb8845f0891028184",
            "placeholder": "​",
            "style": "IPY_MODEL_38c195554097445cbd37eebece1fc331",
            "value": "Downloading (…)lve/main/config.json: 100%"
          }
        },
        "111dd9353f184ebcaf398ecf122a9b3d": {
          "model_module": "@jupyter-widgets/controls",
          "model_name": "FloatProgressModel",
          "model_module_version": "1.5.0",
          "state": {
            "_dom_classes": [],
            "_model_module": "@jupyter-widgets/controls",
            "_model_module_version": "1.5.0",
            "_model_name": "FloatProgressModel",
            "_view_count": null,
            "_view_module": "@jupyter-widgets/controls",
            "_view_module_version": "1.5.0",
            "_view_name": "ProgressView",
            "bar_style": "success",
            "description": "",
            "description_tooltip": null,
            "layout": "IPY_MODEL_5f7b886a8f184453a8435ff0f8d31c76",
            "max": 504,
            "min": 0,
            "orientation": "horizontal",
            "style": "IPY_MODEL_99f2cf8d1d5f4386818a3e7dc73e5df1",
            "value": 504
          }
        },
        "3c11cc2a5d804b6da405f137ca91760d": {
          "model_module": "@jupyter-widgets/controls",
          "model_name": "HTMLModel",
          "model_module_version": "1.5.0",
          "state": {
            "_dom_classes": [],
            "_model_module": "@jupyter-widgets/controls",
            "_model_module_version": "1.5.0",
            "_model_name": "HTMLModel",
            "_view_count": null,
            "_view_module": "@jupyter-widgets/controls",
            "_view_module_version": "1.5.0",
            "_view_name": "HTMLView",
            "description": "",
            "description_tooltip": null,
            "layout": "IPY_MODEL_0820614f17b84dfb84cf8e672a762e5a",
            "placeholder": "​",
            "style": "IPY_MODEL_3021db5fdfb24c81ab803fcf91320a9b",
            "value": " 504/504 [00:00&lt;00:00, 17.6kB/s]"
          }
        },
        "970cebfb95b543d480fa5c074274da48": {
          "model_module": "@jupyter-widgets/base",
          "model_name": "LayoutModel",
          "model_module_version": "1.2.0",
          "state": {
            "_model_module": "@jupyter-widgets/base",
            "_model_module_version": "1.2.0",
            "_model_name": "LayoutModel",
            "_view_count": null,
            "_view_module": "@jupyter-widgets/base",
            "_view_module_version": "1.2.0",
            "_view_name": "LayoutView",
            "align_content": null,
            "align_items": null,
            "align_self": null,
            "border": null,
            "bottom": null,
            "display": null,
            "flex": null,
            "flex_flow": null,
            "grid_area": null,
            "grid_auto_columns": null,
            "grid_auto_flow": null,
            "grid_auto_rows": null,
            "grid_column": null,
            "grid_gap": null,
            "grid_row": null,
            "grid_template_areas": null,
            "grid_template_columns": null,
            "grid_template_rows": null,
            "height": null,
            "justify_content": null,
            "justify_items": null,
            "left": null,
            "margin": null,
            "max_height": null,
            "max_width": null,
            "min_height": null,
            "min_width": null,
            "object_fit": null,
            "object_position": null,
            "order": null,
            "overflow": null,
            "overflow_x": null,
            "overflow_y": null,
            "padding": null,
            "right": null,
            "top": null,
            "visibility": null,
            "width": null
          }
        },
        "220b88224f1d404eb8845f0891028184": {
          "model_module": "@jupyter-widgets/base",
          "model_name": "LayoutModel",
          "model_module_version": "1.2.0",
          "state": {
            "_model_module": "@jupyter-widgets/base",
            "_model_module_version": "1.2.0",
            "_model_name": "LayoutModel",
            "_view_count": null,
            "_view_module": "@jupyter-widgets/base",
            "_view_module_version": "1.2.0",
            "_view_name": "LayoutView",
            "align_content": null,
            "align_items": null,
            "align_self": null,
            "border": null,
            "bottom": null,
            "display": null,
            "flex": null,
            "flex_flow": null,
            "grid_area": null,
            "grid_auto_columns": null,
            "grid_auto_flow": null,
            "grid_auto_rows": null,
            "grid_column": null,
            "grid_gap": null,
            "grid_row": null,
            "grid_template_areas": null,
            "grid_template_columns": null,
            "grid_template_rows": null,
            "height": null,
            "justify_content": null,
            "justify_items": null,
            "left": null,
            "margin": null,
            "max_height": null,
            "max_width": null,
            "min_height": null,
            "min_width": null,
            "object_fit": null,
            "object_position": null,
            "order": null,
            "overflow": null,
            "overflow_x": null,
            "overflow_y": null,
            "padding": null,
            "right": null,
            "top": null,
            "visibility": null,
            "width": null
          }
        },
        "38c195554097445cbd37eebece1fc331": {
          "model_module": "@jupyter-widgets/controls",
          "model_name": "DescriptionStyleModel",
          "model_module_version": "1.5.0",
          "state": {
            "_model_module": "@jupyter-widgets/controls",
            "_model_module_version": "1.5.0",
            "_model_name": "DescriptionStyleModel",
            "_view_count": null,
            "_view_module": "@jupyter-widgets/base",
            "_view_module_version": "1.2.0",
            "_view_name": "StyleView",
            "description_width": ""
          }
        },
        "5f7b886a8f184453a8435ff0f8d31c76": {
          "model_module": "@jupyter-widgets/base",
          "model_name": "LayoutModel",
          "model_module_version": "1.2.0",
          "state": {
            "_model_module": "@jupyter-widgets/base",
            "_model_module_version": "1.2.0",
            "_model_name": "LayoutModel",
            "_view_count": null,
            "_view_module": "@jupyter-widgets/base",
            "_view_module_version": "1.2.0",
            "_view_name": "LayoutView",
            "align_content": null,
            "align_items": null,
            "align_self": null,
            "border": null,
            "bottom": null,
            "display": null,
            "flex": null,
            "flex_flow": null,
            "grid_area": null,
            "grid_auto_columns": null,
            "grid_auto_flow": null,
            "grid_auto_rows": null,
            "grid_column": null,
            "grid_gap": null,
            "grid_row": null,
            "grid_template_areas": null,
            "grid_template_columns": null,
            "grid_template_rows": null,
            "height": null,
            "justify_content": null,
            "justify_items": null,
            "left": null,
            "margin": null,
            "max_height": null,
            "max_width": null,
            "min_height": null,
            "min_width": null,
            "object_fit": null,
            "object_position": null,
            "order": null,
            "overflow": null,
            "overflow_x": null,
            "overflow_y": null,
            "padding": null,
            "right": null,
            "top": null,
            "visibility": null,
            "width": null
          }
        },
        "99f2cf8d1d5f4386818a3e7dc73e5df1": {
          "model_module": "@jupyter-widgets/controls",
          "model_name": "ProgressStyleModel",
          "model_module_version": "1.5.0",
          "state": {
            "_model_module": "@jupyter-widgets/controls",
            "_model_module_version": "1.5.0",
            "_model_name": "ProgressStyleModel",
            "_view_count": null,
            "_view_module": "@jupyter-widgets/base",
            "_view_module_version": "1.2.0",
            "_view_name": "StyleView",
            "bar_color": null,
            "description_width": ""
          }
        },
        "0820614f17b84dfb84cf8e672a762e5a": {
          "model_module": "@jupyter-widgets/base",
          "model_name": "LayoutModel",
          "model_module_version": "1.2.0",
          "state": {
            "_model_module": "@jupyter-widgets/base",
            "_model_module_version": "1.2.0",
            "_model_name": "LayoutModel",
            "_view_count": null,
            "_view_module": "@jupyter-widgets/base",
            "_view_module_version": "1.2.0",
            "_view_name": "LayoutView",
            "align_content": null,
            "align_items": null,
            "align_self": null,
            "border": null,
            "bottom": null,
            "display": null,
            "flex": null,
            "flex_flow": null,
            "grid_area": null,
            "grid_auto_columns": null,
            "grid_auto_flow": null,
            "grid_auto_rows": null,
            "grid_column": null,
            "grid_gap": null,
            "grid_row": null,
            "grid_template_areas": null,
            "grid_template_columns": null,
            "grid_template_rows": null,
            "height": null,
            "justify_content": null,
            "justify_items": null,
            "left": null,
            "margin": null,
            "max_height": null,
            "max_width": null,
            "min_height": null,
            "min_width": null,
            "object_fit": null,
            "object_position": null,
            "order": null,
            "overflow": null,
            "overflow_x": null,
            "overflow_y": null,
            "padding": null,
            "right": null,
            "top": null,
            "visibility": null,
            "width": null
          }
        },
        "3021db5fdfb24c81ab803fcf91320a9b": {
          "model_module": "@jupyter-widgets/controls",
          "model_name": "DescriptionStyleModel",
          "model_module_version": "1.5.0",
          "state": {
            "_model_module": "@jupyter-widgets/controls",
            "_model_module_version": "1.5.0",
            "_model_name": "DescriptionStyleModel",
            "_view_count": null,
            "_view_module": "@jupyter-widgets/base",
            "_view_module_version": "1.2.0",
            "_view_name": "StyleView",
            "description_width": ""
          }
        },
        "f1111e8d738a415792a3f667c95cc379": {
          "model_module": "@jupyter-widgets/controls",
          "model_name": "HBoxModel",
          "model_module_version": "1.5.0",
          "state": {
            "_dom_classes": [],
            "_model_module": "@jupyter-widgets/controls",
            "_model_module_version": "1.5.0",
            "_model_name": "HBoxModel",
            "_view_count": null,
            "_view_module": "@jupyter-widgets/controls",
            "_view_module_version": "1.5.0",
            "_view_name": "HBoxView",
            "box_style": "",
            "children": [
              "IPY_MODEL_3b311cecc3c34f87b7435fe26b1e7e25",
              "IPY_MODEL_60fa4dbb56da4b599e7bdc2f60d13021",
              "IPY_MODEL_e5b3b6cab59f448b9b509d4c90ef6825"
            ],
            "layout": "IPY_MODEL_510e873efafb42f6bf031e2ea5ab4033"
          }
        },
        "3b311cecc3c34f87b7435fe26b1e7e25": {
          "model_module": "@jupyter-widgets/controls",
          "model_name": "HTMLModel",
          "model_module_version": "1.5.0",
          "state": {
            "_dom_classes": [],
            "_model_module": "@jupyter-widgets/controls",
            "_model_module_version": "1.5.0",
            "_model_name": "HTMLModel",
            "_view_count": null,
            "_view_module": "@jupyter-widgets/controls",
            "_view_module_version": "1.5.0",
            "_view_name": "HTMLView",
            "description": "",
            "description_tooltip": null,
            "layout": "IPY_MODEL_7f49050dae81449592b0555fc2f05065",
            "placeholder": "​",
            "style": "IPY_MODEL_27cfffdc38054798b8798ec719270961",
            "value": "Downloading (…)&quot;pytorch_model.bin&quot;;: 100%"
          }
        },
        "60fa4dbb56da4b599e7bdc2f60d13021": {
          "model_module": "@jupyter-widgets/controls",
          "model_name": "FloatProgressModel",
          "model_module_version": "1.5.0",
          "state": {
            "_dom_classes": [],
            "_model_module": "@jupyter-widgets/controls",
            "_model_module_version": "1.5.0",
            "_model_name": "FloatProgressModel",
            "_view_count": null,
            "_view_module": "@jupyter-widgets/controls",
            "_view_module_version": "1.5.0",
            "_view_name": "ProgressView",
            "bar_style": "success",
            "description": "",
            "description_tooltip": null,
            "layout": "IPY_MODEL_e4acf2ecdfb64c59bc2276dcbac25e87",
            "max": 474373095,
            "min": 0,
            "orientation": "horizontal",
            "style": "IPY_MODEL_2b0c1536bdad4dab8060070f48e3c13c",
            "value": 474373095
          }
        },
        "e5b3b6cab59f448b9b509d4c90ef6825": {
          "model_module": "@jupyter-widgets/controls",
          "model_name": "HTMLModel",
          "model_module_version": "1.5.0",
          "state": {
            "_dom_classes": [],
            "_model_module": "@jupyter-widgets/controls",
            "_model_module_version": "1.5.0",
            "_model_name": "HTMLModel",
            "_view_count": null,
            "_view_module": "@jupyter-widgets/controls",
            "_view_module_version": "1.5.0",
            "_view_name": "HTMLView",
            "description": "",
            "description_tooltip": null,
            "layout": "IPY_MODEL_19dc53fca5a94affa707c3b3bfdb8b53",
            "placeholder": "​",
            "style": "IPY_MODEL_db59bbc843204301aece00f3054cd345",
            "value": " 474M/474M [00:05&lt;00:00, 93.5MB/s]"
          }
        },
        "510e873efafb42f6bf031e2ea5ab4033": {
          "model_module": "@jupyter-widgets/base",
          "model_name": "LayoutModel",
          "model_module_version": "1.2.0",
          "state": {
            "_model_module": "@jupyter-widgets/base",
            "_model_module_version": "1.2.0",
            "_model_name": "LayoutModel",
            "_view_count": null,
            "_view_module": "@jupyter-widgets/base",
            "_view_module_version": "1.2.0",
            "_view_name": "LayoutView",
            "align_content": null,
            "align_items": null,
            "align_self": null,
            "border": null,
            "bottom": null,
            "display": null,
            "flex": null,
            "flex_flow": null,
            "grid_area": null,
            "grid_auto_columns": null,
            "grid_auto_flow": null,
            "grid_auto_rows": null,
            "grid_column": null,
            "grid_gap": null,
            "grid_row": null,
            "grid_template_areas": null,
            "grid_template_columns": null,
            "grid_template_rows": null,
            "height": null,
            "justify_content": null,
            "justify_items": null,
            "left": null,
            "margin": null,
            "max_height": null,
            "max_width": null,
            "min_height": null,
            "min_width": null,
            "object_fit": null,
            "object_position": null,
            "order": null,
            "overflow": null,
            "overflow_x": null,
            "overflow_y": null,
            "padding": null,
            "right": null,
            "top": null,
            "visibility": null,
            "width": null
          }
        },
        "7f49050dae81449592b0555fc2f05065": {
          "model_module": "@jupyter-widgets/base",
          "model_name": "LayoutModel",
          "model_module_version": "1.2.0",
          "state": {
            "_model_module": "@jupyter-widgets/base",
            "_model_module_version": "1.2.0",
            "_model_name": "LayoutModel",
            "_view_count": null,
            "_view_module": "@jupyter-widgets/base",
            "_view_module_version": "1.2.0",
            "_view_name": "LayoutView",
            "align_content": null,
            "align_items": null,
            "align_self": null,
            "border": null,
            "bottom": null,
            "display": null,
            "flex": null,
            "flex_flow": null,
            "grid_area": null,
            "grid_auto_columns": null,
            "grid_auto_flow": null,
            "grid_auto_rows": null,
            "grid_column": null,
            "grid_gap": null,
            "grid_row": null,
            "grid_template_areas": null,
            "grid_template_columns": null,
            "grid_template_rows": null,
            "height": null,
            "justify_content": null,
            "justify_items": null,
            "left": null,
            "margin": null,
            "max_height": null,
            "max_width": null,
            "min_height": null,
            "min_width": null,
            "object_fit": null,
            "object_position": null,
            "order": null,
            "overflow": null,
            "overflow_x": null,
            "overflow_y": null,
            "padding": null,
            "right": null,
            "top": null,
            "visibility": null,
            "width": null
          }
        },
        "27cfffdc38054798b8798ec719270961": {
          "model_module": "@jupyter-widgets/controls",
          "model_name": "DescriptionStyleModel",
          "model_module_version": "1.5.0",
          "state": {
            "_model_module": "@jupyter-widgets/controls",
            "_model_module_version": "1.5.0",
            "_model_name": "DescriptionStyleModel",
            "_view_count": null,
            "_view_module": "@jupyter-widgets/base",
            "_view_module_version": "1.2.0",
            "_view_name": "StyleView",
            "description_width": ""
          }
        },
        "e4acf2ecdfb64c59bc2276dcbac25e87": {
          "model_module": "@jupyter-widgets/base",
          "model_name": "LayoutModel",
          "model_module_version": "1.2.0",
          "state": {
            "_model_module": "@jupyter-widgets/base",
            "_model_module_version": "1.2.0",
            "_model_name": "LayoutModel",
            "_view_count": null,
            "_view_module": "@jupyter-widgets/base",
            "_view_module_version": "1.2.0",
            "_view_name": "LayoutView",
            "align_content": null,
            "align_items": null,
            "align_self": null,
            "border": null,
            "bottom": null,
            "display": null,
            "flex": null,
            "flex_flow": null,
            "grid_area": null,
            "grid_auto_columns": null,
            "grid_auto_flow": null,
            "grid_auto_rows": null,
            "grid_column": null,
            "grid_gap": null,
            "grid_row": null,
            "grid_template_areas": null,
            "grid_template_columns": null,
            "grid_template_rows": null,
            "height": null,
            "justify_content": null,
            "justify_items": null,
            "left": null,
            "margin": null,
            "max_height": null,
            "max_width": null,
            "min_height": null,
            "min_width": null,
            "object_fit": null,
            "object_position": null,
            "order": null,
            "overflow": null,
            "overflow_x": null,
            "overflow_y": null,
            "padding": null,
            "right": null,
            "top": null,
            "visibility": null,
            "width": null
          }
        },
        "2b0c1536bdad4dab8060070f48e3c13c": {
          "model_module": "@jupyter-widgets/controls",
          "model_name": "ProgressStyleModel",
          "model_module_version": "1.5.0",
          "state": {
            "_model_module": "@jupyter-widgets/controls",
            "_model_module_version": "1.5.0",
            "_model_name": "ProgressStyleModel",
            "_view_count": null,
            "_view_module": "@jupyter-widgets/base",
            "_view_module_version": "1.2.0",
            "_view_name": "StyleView",
            "bar_color": null,
            "description_width": ""
          }
        },
        "19dc53fca5a94affa707c3b3bfdb8b53": {
          "model_module": "@jupyter-widgets/base",
          "model_name": "LayoutModel",
          "model_module_version": "1.2.0",
          "state": {
            "_model_module": "@jupyter-widgets/base",
            "_model_module_version": "1.2.0",
            "_model_name": "LayoutModel",
            "_view_count": null,
            "_view_module": "@jupyter-widgets/base",
            "_view_module_version": "1.2.0",
            "_view_name": "LayoutView",
            "align_content": null,
            "align_items": null,
            "align_self": null,
            "border": null,
            "bottom": null,
            "display": null,
            "flex": null,
            "flex_flow": null,
            "grid_area": null,
            "grid_auto_columns": null,
            "grid_auto_flow": null,
            "grid_auto_rows": null,
            "grid_column": null,
            "grid_gap": null,
            "grid_row": null,
            "grid_template_areas": null,
            "grid_template_columns": null,
            "grid_template_rows": null,
            "height": null,
            "justify_content": null,
            "justify_items": null,
            "left": null,
            "margin": null,
            "max_height": null,
            "max_width": null,
            "min_height": null,
            "min_width": null,
            "object_fit": null,
            "object_position": null,
            "order": null,
            "overflow": null,
            "overflow_x": null,
            "overflow_y": null,
            "padding": null,
            "right": null,
            "top": null,
            "visibility": null,
            "width": null
          }
        },
        "db59bbc843204301aece00f3054cd345": {
          "model_module": "@jupyter-widgets/controls",
          "model_name": "DescriptionStyleModel",
          "model_module_version": "1.5.0",
          "state": {
            "_model_module": "@jupyter-widgets/controls",
            "_model_module_version": "1.5.0",
            "_model_name": "DescriptionStyleModel",
            "_view_count": null,
            "_view_module": "@jupyter-widgets/base",
            "_view_module_version": "1.2.0",
            "_view_name": "StyleView",
            "description_width": ""
          }
        }
      }
    }
  },
  "nbformat": 4,
  "nbformat_minor": 0
}